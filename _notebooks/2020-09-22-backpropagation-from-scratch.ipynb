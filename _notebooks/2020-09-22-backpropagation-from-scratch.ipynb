{
 "cells": [
  {
   "cell_type": "markdown",
   "metadata": {},
   "source": [
    "# Backprogation in NeuralNetworks\n",
    "> A code first tutorial to compute backpropagation from scratch in python using numpy.\n",
    "\n",
    "- toc: false\n",
    "- badges: true\n",
    "- comments: true\n",
    "- categories: [deeplearning python3.x numpy]\n",
    "- image: images/backprop.jpeg"
   ]
  },
  {
   "cell_type": "markdown",
   "metadata": {},
   "source": [
    "As the Title suggets in this blog post I would try to tackle `backpropagation in neural networks`.\n",
    "We will be using `numpy` for our calculations for this particular post. "
   ]
  },
  {
   "cell_type": "markdown",
   "metadata": {},
   "source": [
    "I will assume that you all know what a artificial neural network is and have a little bit of knowledge about `forward and backward propagation`. Just having a simple idea is enough.\n",
    "\n",
    "If you do not know what the above terms are or would like to brush up on the topics , I would suggest this amazing [youtube playlist by 3Blue1Brown](https://www.youtube.com/watch?v=aircAruvnKk&list=PLZHQObOWTQDNU6R1_67000Dx_ZCJB-3pi).\n",
    "\n",
    "> youtube: https://www.youtube.com/watch?v=aircAruvnKk&list=PLZHQObOWTQDNU6R1_67000Dx_ZCJB-3pi"
   ]
  },
  {
   "cell_type": "markdown",
   "metadata": {},
   "source": [
    "## Setting up Imports:"
   ]
  },
  {
   "cell_type": "code",
   "execution_count": 46,
   "metadata": {},
   "outputs": [],
   "source": [
    "import numpy as np\n",
    "import gzip\n",
    "import pickle\n",
    "import pandas as pd\n",
    "import matplotlib.pyplot as plt\n",
    "\n",
    "\n",
    "np.random.seed(123)\n",
    "%matplotlib inline"
   ]
  },
  {
   "cell_type": "markdown",
   "metadata": {},
   "source": [
    "## Preparing the data"
   ]
  },
  {
   "cell_type": "markdown",
   "metadata": {},
   "source": [
    "For this blog post, we'll use one of the most famous datasets in computer vision, [MNIST](https://en.wikipedia.org/wiki/MNIST_database). MNIST contains images of handwritten digits, collected by the National Institute of Standards and Technology and collated into a machine learning dataset by Yann Lecun and his colleagues. Lecun used MNIST in 1998 in [Lenet-5](http://yann.lecun.com/exdb/lenet/), the first computer system to demonstrate practically useful recognition of handwritten digit sequences. This was one of the most important breakthroughs in the history of AI."
   ]
  },
  {
   "cell_type": "markdown",
   "metadata": {},
   "source": [
    "Run the code below to download the `MNIST` dataset. The dataset will be downloaded to the path `../../Datasets/` or you can modify the path as you like."
   ]
  },
  {
   "cell_type": "code",
   "execution_count": null,
   "metadata": {},
   "outputs": [],
   "source": [
    "!wget -P \"../../Datasets/\" http://deeplearning.net/data/mnist/mnist.pkl.gz"
   ]
  },
  {
   "cell_type": "code",
   "execution_count": 3,
   "metadata": {},
   "outputs": [],
   "source": [
    "def get_data(path):\n",
    "    \"\"\"\n",
    "    Fn to unzip the MNIST data and return\n",
    "    the data as numpy arrays\n",
    "    \"\"\"\n",
    "    with gzip.open(path, 'rb') as f:\n",
    "        ((x_train, y_train), (x_valid, y_valid), _) = pickle.load(f, encoding='latin-1')\n",
    "    return map(np.array, (x_train,y_train,x_valid,y_valid))"
   ]
  },
  {
   "cell_type": "code",
   "execution_count": 4,
   "metadata": {},
   "outputs": [],
   "source": [
    "x_train,y_train,x_valid,y_valid = get_data(path= \"../../Datasets/mnist.pkl.gz\")"
   ]
  },
  {
   "cell_type": "code",
   "execution_count": 5,
   "metadata": {},
   "outputs": [
    {
     "name": "stdout",
     "output_type": "stream",
     "text": [
      "Shape of x_train: (50000, 784)\n",
      "Total number of examples: 50000\n",
      "Number of pixel values per image: 784\n"
     ]
    }
   ],
   "source": [
    "tots,feats = x_train.shape\n",
    "print(\"Shape of x_train:\",x_train.shape)\n",
    "print(\"Total number of examples:\", tots)\n",
    "print(\"Number of pixel values per image:\", feats)"
   ]
  },
  {
   "cell_type": "markdown",
   "metadata": {},
   "source": [
    "Let's view one image from our dataset:"
   ]
  },
  {
   "cell_type": "code",
   "execution_count": 7,
   "metadata": {},
   "outputs": [
    {
     "data": {
      "image/png": "[encoded data removed]",
      "text/plain": [
       "<Figure size 432x288 with 1 Axes>"
      ]
     },
     "metadata": {
      "needs_background": "light"
     },
     "output_type": "display_data"
    }
   ],
   "source": [
    "plt.imshow(x_train[0].reshape(28,28), cmap=\"binary\");"
   ]
  },
  {
   "cell_type": "markdown",
   "metadata": {},
   "source": [
    "## Basic Model Architecture"
   ]
  },
  {
   "cell_type": "markdown",
   "metadata": {},
   "source": [
    "For this task we are going to use a very basic model architecture this 2 linear layers and a output layer with 10 outputs."
   ]
  },
  {
   "cell_type": "code",
   "execution_count": 8,
   "metadata": {},
   "outputs": [],
   "source": [
    "#hide_input\n",
    "import graphviz\n",
    "def gv(s): return graphviz.Source('digraph G{ rankdir=\"LR\"' + s + '; }')"
   ]
  },
  {
   "cell_type": "code",
   "execution_count": 45,
   "metadata": {},
   "outputs": [
    {
     "data": {
      "image/svg+xml": [
       "<?xml version=\"1.0\" encoding=\"UTF-8\" standalone=\"no\"?>\n",
       "<!DOCTYPE svg PUBLIC \"-//W3C//DTD SVG 1.1//EN\"\n",
       " \"http://www.w3.org/Graphics/SVG/1.1/DTD/svg11.dtd\">\n",
       "<!-- Generated by graphviz version 2.44.0 (20200408.0750)\n",
       " -->\n",
       "<!-- Title: G Pages: 1 -->\n",
       "<svg width=\"662pt\" height=\"206pt\"\n",
       " viewBox=\"0.00 0.00 661.58 206.00\" xmlns=\"http://www.w3.org/2000/svg\" xmlns:xlink=\"http://www.w3.org/1999/xlink\">\n",
       "<g id=\"graph0\" class=\"graph\" transform=\"scale(1 1) rotate(0) translate(4 202)\">\n",
       "<title>G</title>\n",
       "<polygon fill=\"white\" stroke=\"transparent\" points=\"-4,4 -4,-202 657.58,-202 657.58,4 -4,4\"/>\n",
       "<!-- X -->\n",
       "<g id=\"node1\" class=\"node\">\n",
       "<title>X</title>\n",
       "<ellipse fill=\"none\" stroke=\"black\" cx=\"27\" cy=\"-180\" rx=\"27\" ry=\"18\"/>\n",
       "<text text-anchor=\"middle\" x=\"27\" y=\"-176.3\" font-family=\"Times,serif\" font-size=\"14.00\">X</text>\n",
       "</g>\n",
       "<!-- linear1 -->\n",
       "<g id=\"node2\" class=\"node\">\n",
       "<title>linear1</title>\n",
       "<ellipse fill=\"none\" stroke=\"black\" cx=\"125.1\" cy=\"-126\" rx=\"35.19\" ry=\"18\"/>\n",
       "<text text-anchor=\"middle\" x=\"125.1\" y=\"-122.3\" font-family=\"Times,serif\" font-size=\"14.00\">linear1</text>\n",
       "</g>\n",
       "<!-- X&#45;&gt;linear1 -->\n",
       "<g id=\"edge1\" class=\"edge\">\n",
       "<title>X&#45;&gt;linear1</title>\n",
       "<path fill=\"none\" stroke=\"black\" d=\"M48.38,-168.55C60.94,-161.49 77.34,-152.28 91.66,-144.23\"/>\n",
       "<polygon fill=\"black\" stroke=\"black\" points=\"93.7,-147.1 100.7,-139.15 90.27,-140.99 93.7,-147.1\"/>\n",
       "</g>\n",
       "<!-- relu -->\n",
       "<g id=\"node3\" class=\"node\">\n",
       "<title>relu</title>\n",
       "<ellipse fill=\"none\" stroke=\"black\" cx=\"223.19\" cy=\"-126\" rx=\"27\" ry=\"18\"/>\n",
       "<text text-anchor=\"middle\" x=\"223.19\" y=\"-122.3\" font-family=\"Times,serif\" font-size=\"14.00\">relu</text>\n",
       "</g>\n",
       "<!-- linear1&#45;&gt;relu -->\n",
       "<g id=\"edge2\" class=\"edge\">\n",
       "<title>linear1&#45;&gt;relu</title>\n",
       "<path fill=\"none\" stroke=\"black\" d=\"M160.25,-126C168.52,-126 177.39,-126 185.76,-126\"/>\n",
       "<polygon fill=\"black\" stroke=\"black\" points=\"186.01,-129.5 196.01,-126 186.01,-122.5 186.01,-129.5\"/>\n",
       "</g>\n",
       "<!-- linear2 -->\n",
       "<g id=\"node4\" class=\"node\">\n",
       "<title>linear2</title>\n",
       "<ellipse fill=\"none\" stroke=\"black\" cx=\"321.29\" cy=\"-72\" rx=\"35.19\" ry=\"18\"/>\n",
       "<text text-anchor=\"middle\" x=\"321.29\" y=\"-68.3\" font-family=\"Times,serif\" font-size=\"14.00\">linear2</text>\n",
       "</g>\n",
       "<!-- relu&#45;&gt;linear2 -->\n",
       "<g id=\"edge3\" class=\"edge\">\n",
       "<title>relu&#45;&gt;linear2</title>\n",
       "<path fill=\"none\" stroke=\"black\" d=\"M244.57,-114.55C257.14,-107.49 273.53,-98.28 287.85,-90.23\"/>\n",
       "<polygon fill=\"black\" stroke=\"black\" points=\"289.89,-93.1 296.9,-85.15 286.47,-86.99 289.89,-93.1\"/>\n",
       "</g>\n",
       "<!-- sigmoid -->\n",
       "<g id=\"node5\" class=\"node\">\n",
       "<title>sigmoid</title>\n",
       "<ellipse fill=\"none\" stroke=\"black\" cx=\"432.03\" cy=\"-72\" rx=\"39.79\" ry=\"18\"/>\n",
       "<text text-anchor=\"middle\" x=\"432.03\" y=\"-68.3\" font-family=\"Times,serif\" font-size=\"14.00\">sigmoid</text>\n",
       "</g>\n",
       "<!-- linear2&#45;&gt;sigmoid -->\n",
       "<g id=\"edge4\" class=\"edge\">\n",
       "<title>linear2&#45;&gt;sigmoid</title>\n",
       "<path fill=\"none\" stroke=\"black\" d=\"M356.4,-72C364.55,-72 373.4,-72 382.07,-72\"/>\n",
       "<polygon fill=\"black\" stroke=\"black\" points=\"382.11,-75.5 392.11,-72 382.11,-68.5 382.11,-75.5\"/>\n",
       "</g>\n",
       "<!-- Yhat -->\n",
       "<g id=\"node6\" class=\"node\">\n",
       "<title>Yhat</title>\n",
       "<ellipse fill=\"none\" stroke=\"black\" cx=\"535.63\" cy=\"-72\" rx=\"27.9\" ry=\"18\"/>\n",
       "<text text-anchor=\"middle\" x=\"535.63\" y=\"-68.3\" font-family=\"Times,serif\" font-size=\"14.00\">Yhat</text>\n",
       "</g>\n",
       "<!-- sigmoid&#45;&gt;Yhat -->\n",
       "<g id=\"edge5\" class=\"edge\">\n",
       "<title>sigmoid&#45;&gt;Yhat</title>\n",
       "<path fill=\"none\" stroke=\"black\" d=\"M471.73,-72C480.09,-72 488.91,-72 497.22,-72\"/>\n",
       "<polygon fill=\"black\" stroke=\"black\" points=\"497.4,-75.5 507.4,-72 497.4,-68.5 497.4,-75.5\"/>\n",
       "</g>\n",
       "<!-- loss -->\n",
       "<g id=\"node7\" class=\"node\">\n",
       "<title>loss</title>\n",
       "<ellipse fill=\"none\" stroke=\"black\" cx=\"626.58\" cy=\"-45\" rx=\"27\" ry=\"18\"/>\n",
       "<text text-anchor=\"middle\" x=\"626.58\" y=\"-41.3\" font-family=\"Times,serif\" font-size=\"14.00\">loss</text>\n",
       "</g>\n",
       "<!-- Yhat&#45;&gt;loss -->\n",
       "<g id=\"edge6\" class=\"edge\">\n",
       "<title>Yhat&#45;&gt;loss</title>\n",
       "<path fill=\"none\" stroke=\"black\" d=\"M561.4,-64.48C570.81,-61.62 581.69,-58.32 591.79,-55.26\"/>\n",
       "<polygon fill=\"black\" stroke=\"black\" points=\"592.99,-58.55 601.55,-52.29 590.96,-51.85 592.99,-58.55\"/>\n",
       "</g>\n",
       "<!-- W1 -->\n",
       "<g id=\"node8\" class=\"node\">\n",
       "<title>W1</title>\n",
       "<ellipse fill=\"none\" stroke=\"black\" cx=\"27\" cy=\"-126\" rx=\"27\" ry=\"18\"/>\n",
       "<text text-anchor=\"middle\" x=\"27\" y=\"-122.3\" font-family=\"Times,serif\" font-size=\"14.00\">W1</text>\n",
       "</g>\n",
       "<!-- W1&#45;&gt;linear1 -->\n",
       "<g id=\"edge7\" class=\"edge\">\n",
       "<title>W1&#45;&gt;linear1</title>\n",
       "<path fill=\"none\" stroke=\"black\" d=\"M54.01,-126C61.92,-126 70.84,-126 79.61,-126\"/>\n",
       "<polygon fill=\"black\" stroke=\"black\" points=\"79.76,-129.5 89.76,-126 79.76,-122.5 79.76,-129.5\"/>\n",
       "</g>\n",
       "<!-- B1 -->\n",
       "<g id=\"node9\" class=\"node\">\n",
       "<title>B1</title>\n",
       "<ellipse fill=\"none\" stroke=\"black\" cx=\"27\" cy=\"-72\" rx=\"27\" ry=\"18\"/>\n",
       "<text text-anchor=\"middle\" x=\"27\" y=\"-68.3\" font-family=\"Times,serif\" font-size=\"14.00\">B1</text>\n",
       "</g>\n",
       "<!-- B1&#45;&gt;linear1 -->\n",
       "<g id=\"edge8\" class=\"edge\">\n",
       "<title>B1&#45;&gt;linear1</title>\n",
       "<path fill=\"none\" stroke=\"black\" d=\"M48.38,-83.45C60.94,-90.51 77.34,-99.72 91.66,-107.77\"/>\n",
       "<polygon fill=\"black\" stroke=\"black\" points=\"90.27,-111.01 100.7,-112.85 93.7,-104.9 90.27,-111.01\"/>\n",
       "</g>\n",
       "<!-- W2 -->\n",
       "<g id=\"node10\" class=\"node\">\n",
       "<title>W2</title>\n",
       "<ellipse fill=\"none\" stroke=\"black\" cx=\"223.19\" cy=\"-72\" rx=\"27\" ry=\"18\"/>\n",
       "<text text-anchor=\"middle\" x=\"223.19\" y=\"-68.3\" font-family=\"Times,serif\" font-size=\"14.00\">W2</text>\n",
       "</g>\n",
       "<!-- W2&#45;&gt;linear2 -->\n",
       "<g id=\"edge9\" class=\"edge\">\n",
       "<title>W2&#45;&gt;linear2</title>\n",
       "<path fill=\"none\" stroke=\"black\" d=\"M250.2,-72C258.11,-72 267.04,-72 275.81,-72\"/>\n",
       "<polygon fill=\"black\" stroke=\"black\" points=\"275.96,-75.5 285.96,-72 275.96,-68.5 275.96,-75.5\"/>\n",
       "</g>\n",
       "<!-- B2 -->\n",
       "<g id=\"node11\" class=\"node\">\n",
       "<title>B2</title>\n",
       "<ellipse fill=\"none\" stroke=\"black\" cx=\"223.19\" cy=\"-18\" rx=\"27\" ry=\"18\"/>\n",
       "<text text-anchor=\"middle\" x=\"223.19\" y=\"-14.3\" font-family=\"Times,serif\" font-size=\"14.00\">B2</text>\n",
       "</g>\n",
       "<!-- B2&#45;&gt;linear2 -->\n",
       "<g id=\"edge10\" class=\"edge\">\n",
       "<title>B2&#45;&gt;linear2</title>\n",
       "<path fill=\"none\" stroke=\"black\" d=\"M244.57,-29.45C257.14,-36.51 273.53,-45.72 287.85,-53.77\"/>\n",
       "<polygon fill=\"black\" stroke=\"black\" points=\"286.47,-57.01 296.9,-58.85 289.89,-50.9 286.47,-57.01\"/>\n",
       "</g>\n",
       "<!-- Y -->\n",
       "<g id=\"node12\" class=\"node\">\n",
       "<title>Y</title>\n",
       "<ellipse fill=\"none\" stroke=\"black\" cx=\"535.63\" cy=\"-18\" rx=\"27\" ry=\"18\"/>\n",
       "<text text-anchor=\"middle\" x=\"535.63\" y=\"-14.3\" font-family=\"Times,serif\" font-size=\"14.00\">Y</text>\n",
       "</g>\n",
       "<!-- Y&#45;&gt;loss -->\n",
       "<g id=\"edge11\" class=\"edge\">\n",
       "<title>Y&#45;&gt;loss</title>\n",
       "<path fill=\"none\" stroke=\"black\" d=\"M560.46,-25.24C570.14,-28.17 581.48,-31.61 591.97,-34.8\"/>\n",
       "<polygon fill=\"black\" stroke=\"black\" points=\"591.09,-38.19 601.67,-37.74 593.12,-31.49 591.09,-38.19\"/>\n",
       "</g>\n",
       "</g>\n",
       "</svg>\n"
      ],
      "text/plain": [
       "<graphviz.files.Source at 0x7fb1e1399290>"
      ]
     },
     "execution_count": 45,
     "metadata": {},
     "output_type": "execute_result"
    }
   ],
   "source": [
    "#hide_input\n",
    "gv('''\n",
    "X->linear1->relu->linear2->sigmoid->Yhat->loss\n",
    "W1->linear1\n",
    "B1->linear1\n",
    "W2->linear2\n",
    "B2->linear2\n",
    "Y->loss\n",
    "''')"
   ]
  },
  {
   "cell_type": "markdown",
   "metadata": {},
   "source": [
    "## Let's take a deep dive into what this network means:"
   ]
  },
  {
   "cell_type": "markdown",
   "metadata": {},
   "source": [
    "Let's take at look at all the individual components of this network:\n",
    "- **Linear:**\n",
    "  The linear layer computes the following :      \n",
    "   ```python\n",
    "   out = matmul(input,W1) + B1\n",
    "   ```\n",
    "   \n",
    "- **ReLU:** \n",
    "  The relu computes the following:\n",
    "  ```python\n",
    "  out = max(0, input)\n",
    "  ```\n",
    "- **Sigmoid:** \n",
    "  The sigmoid computes the following:\n",
    "  ```python\n",
    "  out = 1/(1 + e.pow(input))\n",
    "  ```\n",
    "  \n",
    "- **Loss:** \n",
    "  For the loss we are going to use the CrossEntropy Loss\n",
    "  ```python\n",
    "  out = \n",
    "  ```"
   ]
  },
  {
   "cell_type": "markdown",
   "metadata": {},
   "source": [
    "**Now that we have our model architecture, let's create the different parts needed to assemble the model:**\n",
    "- linear layer\n",
    "- relu activation\n",
    "- sigmoid activation\n",
    "- loss"
   ]
  },
  {
   "cell_type": "markdown",
   "metadata": {},
   "source": [
    "**Before moving forward let's us creat a special class that will store the parameters and the gradients of the parameters. These gradients will later help us in the backward pass.**"
   ]
  },
  {
   "cell_type": "code",
   "execution_count": 117,
   "metadata": {},
   "outputs": [],
   "source": [
    "class Tensor:\n",
    "    \"\"\"\n",
    "    A modified numpy array, This class stores the numpy array at the \n",
    "    `.val` attribute of the class and the `.grad` attribute stores the gradients \n",
    "    of that value\n",
    "    \"\"\"\n",
    "    def __init__(self, array: np.array):\n",
    "        self.val = array\n",
    "        self.grad = None # store gradients \n",
    "        \n",
    "    def __call__(self):\n",
    "        return self.val"
   ]
  },
  {
   "cell_type": "markdown",
   "metadata": {},
   "source": [
    "## The Linear Layer"
   ]
  },
  {
   "cell_type": "markdown",
   "metadata": {},
   "source": [
    "### Forward Propagation\n",
    "\n",
    "In this step the outputs are calculated."
   ]
  },
  {
   "cell_type": "code",
   "execution_count": 243,
   "metadata": {},
   "outputs": [
    {
     "data": {
      "image/svg+xml": [
       "<?xml version=\"1.0\" encoding=\"UTF-8\" standalone=\"no\"?>\n",
       "<!DOCTYPE svg PUBLIC \"-//W3C//DTD SVG 1.1//EN\"\n",
       " \"http://www.w3.org/Graphics/SVG/1.1/DTD/svg11.dtd\">\n",
       "<!-- Generated by graphviz version 2.44.0 (20200408.0750)\n",
       " -->\n",
       "<!-- Title: G Pages: 1 -->\n",
       "<svg width=\"386pt\" height=\"125pt\"\n",
       " viewBox=\"0.00 0.00 385.78 125.00\" xmlns=\"http://www.w3.org/2000/svg\" xmlns:xlink=\"http://www.w3.org/1999/xlink\">\n",
       "<g id=\"graph0\" class=\"graph\" transform=\"scale(1 1) rotate(0) translate(4 121)\">\n",
       "<title>G</title>\n",
       "<polygon fill=\"white\" stroke=\"transparent\" points=\"-4,4 -4,-121 381.78,-121 381.78,4 -4,4\"/>\n",
       "<!-- Input -->\n",
       "<g id=\"node1\" class=\"node\">\n",
       "<title>Input</title>\n",
       "<ellipse fill=\"none\" stroke=\"black\" cx=\"36.4\" cy=\"-99\" rx=\"29.5\" ry=\"18\"/>\n",
       "<text text-anchor=\"middle\" x=\"36.4\" y=\"-95.3\" font-family=\"Times,serif\" font-size=\"14.00\">Input</text>\n",
       "</g>\n",
       "<!-- matmul -->\n",
       "<g id=\"node2\" class=\"node\">\n",
       "<title>matmul</title>\n",
       "<ellipse fill=\"none\" stroke=\"black\" cx=\"147.14\" cy=\"-72\" rx=\"38.19\" ry=\"18\"/>\n",
       "<text text-anchor=\"middle\" x=\"147.14\" y=\"-68.3\" font-family=\"Times,serif\" font-size=\"14.00\">matmul</text>\n",
       "</g>\n",
       "<!-- Input&#45;&gt;matmul -->\n",
       "<g id=\"edge1\" class=\"edge\">\n",
       "<title>Input&#45;&gt;matmul</title>\n",
       "<path fill=\"none\" stroke=\"black\" d=\"M63.72,-92.46C75.44,-89.55 89.56,-86.05 102.77,-82.77\"/>\n",
       "<polygon fill=\"black\" stroke=\"black\" points=\"103.78,-86.12 112.64,-80.32 102.09,-79.33 103.78,-86.12\"/>\n",
       "</g>\n",
       "<!-- add -->\n",
       "<g id=\"node3\" class=\"node\">\n",
       "<title>add</title>\n",
       "<ellipse fill=\"none\" stroke=\"black\" cx=\"248.49\" cy=\"-45\" rx=\"27\" ry=\"18\"/>\n",
       "<text text-anchor=\"middle\" x=\"248.49\" y=\"-41.3\" font-family=\"Times,serif\" font-size=\"14.00\">add</text>\n",
       "</g>\n",
       "<!-- matmul&#45;&gt;add -->\n",
       "<g id=\"edge2\" class=\"edge\">\n",
       "<title>matmul&#45;&gt;add</title>\n",
       "<path fill=\"none\" stroke=\"black\" d=\"M180.67,-63.16C191.13,-60.32 202.75,-57.16 213.33,-54.28\"/>\n",
       "<polygon fill=\"black\" stroke=\"black\" points=\"214.35,-57.63 223.08,-51.63 212.51,-50.88 214.35,-57.63\"/>\n",
       "</g>\n",
       "<!-- output -->\n",
       "<g id=\"node4\" class=\"node\">\n",
       "<title>output</title>\n",
       "<ellipse fill=\"none\" stroke=\"black\" cx=\"344.63\" cy=\"-45\" rx=\"33.29\" ry=\"18\"/>\n",
       "<text text-anchor=\"middle\" x=\"344.63\" y=\"-41.3\" font-family=\"Times,serif\" font-size=\"14.00\">output</text>\n",
       "</g>\n",
       "<!-- add&#45;&gt;output -->\n",
       "<g id=\"edge3\" class=\"edge\">\n",
       "<title>add&#45;&gt;output</title>\n",
       "<path fill=\"none\" stroke=\"black\" d=\"M275.71,-45C283.61,-45 292.49,-45 301.16,-45\"/>\n",
       "<polygon fill=\"black\" stroke=\"black\" points=\"301.17,-48.5 311.17,-45 301.17,-41.5 301.17,-48.5\"/>\n",
       "</g>\n",
       "<!-- Weight -->\n",
       "<g id=\"node5\" class=\"node\">\n",
       "<title>Weight</title>\n",
       "<ellipse fill=\"none\" stroke=\"black\" cx=\"36.4\" cy=\"-45\" rx=\"36.29\" ry=\"18\"/>\n",
       "<text text-anchor=\"middle\" x=\"36.4\" y=\"-41.3\" font-family=\"Times,serif\" font-size=\"14.00\">Weight</text>\n",
       "</g>\n",
       "<!-- Weight&#45;&gt;matmul -->\n",
       "<g id=\"edge4\" class=\"edge\">\n",
       "<title>Weight&#45;&gt;matmul</title>\n",
       "<path fill=\"none\" stroke=\"black\" d=\"M69.14,-52.88C79.61,-55.48 91.43,-58.42 102.61,-61.19\"/>\n",
       "<polygon fill=\"black\" stroke=\"black\" points=\"102.1,-64.67 112.65,-63.68 103.79,-57.88 102.1,-64.67\"/>\n",
       "</g>\n",
       "<!-- Bias -->\n",
       "<g id=\"node6\" class=\"node\">\n",
       "<title>Bias</title>\n",
       "<ellipse fill=\"none\" stroke=\"black\" cx=\"147.14\" cy=\"-18\" rx=\"27\" ry=\"18\"/>\n",
       "<text text-anchor=\"middle\" x=\"147.14\" y=\"-14.3\" font-family=\"Times,serif\" font-size=\"14.00\">Bias</text>\n",
       "</g>\n",
       "<!-- Bias&#45;&gt;add -->\n",
       "<g id=\"edge5\" class=\"edge\">\n",
       "<title>Bias&#45;&gt;add</title>\n",
       "<path fill=\"none\" stroke=\"black\" d=\"M172.44,-24.6C184.71,-27.94 199.8,-32.04 213.22,-35.69\"/>\n",
       "<polygon fill=\"black\" stroke=\"black\" points=\"212.52,-39.12 223.09,-38.37 214.36,-32.37 212.52,-39.12\"/>\n",
       "</g>\n",
       "</g>\n",
       "</svg>\n"
      ],
      "text/plain": [
       "<graphviz.files.Source at 0x7fb1e1d0fd50>"
      ]
     },
     "execution_count": 243,
     "metadata": {},
     "output_type": "execute_result"
    }
   ],
   "source": [
    "#hide_input\n",
    "gv('''\n",
    "Input->matmul->add->output\n",
    "Weight->matmul\n",
    "Bias->add\n",
    "''')"
   ]
  },
  {
   "cell_type": "markdown",
   "metadata": {},
   "source": [
    "## Backward Propagation:\n",
    "\n",
    "In this step the gradients of the output wrt to the inputs, weights and bias are calculated."
   ]
  },
  {
   "cell_type": "code",
   "execution_count": 242,
   "metadata": {},
   "outputs": [
    {
     "data": {
      "image/svg+xml": [
       "<?xml version=\"1.0\" encoding=\"UTF-8\" standalone=\"no\"?>\n",
       "<!DOCTYPE svg PUBLIC \"-//W3C//DTD SVG 1.1//EN\"\n",
       " \"http://www.w3.org/Graphics/SVG/1.1/DTD/svg11.dtd\">\n",
       "<!-- Generated by graphviz version 2.44.0 (20200408.0750)\n",
       " -->\n",
       "<!-- Title: G Pages: 1 -->\n",
       "<svg width=\"437pt\" height=\"125pt\"\n",
       " viewBox=\"0.00 0.00 436.78 125.00\" xmlns=\"http://www.w3.org/2000/svg\" xmlns:xlink=\"http://www.w3.org/1999/xlink\">\n",
       "<g id=\"graph0\" class=\"graph\" transform=\"scale(1 1) rotate(0) translate(4 121)\">\n",
       "<title>G</title>\n",
       "<polygon fill=\"white\" stroke=\"transparent\" points=\"-4,4 -4,-121 432.78,-121 432.78,4 -4,4\"/>\n",
       "<!-- output -->\n",
       "<g id=\"node1\" class=\"node\">\n",
       "<title>output</title>\n",
       "<ellipse fill=\"none\" stroke=\"black\" cx=\"33.15\" cy=\"-33\" rx=\"33.29\" ry=\"18\"/>\n",
       "<text text-anchor=\"middle\" x=\"33.15\" y=\"-29.3\" font-family=\"Times,serif\" font-size=\"14.00\">output</text>\n",
       "</g>\n",
       "<!-- add -->\n",
       "<g id=\"node2\" class=\"node\">\n",
       "<title>add</title>\n",
       "<ellipse fill=\"none\" stroke=\"black\" cx=\"130.29\" cy=\"-33\" rx=\"27\" ry=\"18\"/>\n",
       "<text text-anchor=\"middle\" x=\"130.29\" y=\"-29.3\" font-family=\"Times,serif\" font-size=\"14.00\">add</text>\n",
       "</g>\n",
       "<!-- output&#45;&gt;add -->\n",
       "<g id=\"edge1\" class=\"edge\">\n",
       "<title>output&#45;&gt;add</title>\n",
       "<path fill=\"none\" stroke=\"black\" d=\"M66.36,-33C74.87,-33 84.11,-33 92.83,-33\"/>\n",
       "<polygon fill=\"black\" stroke=\"black\" points=\"93.11,-36.5 103.11,-33 93.11,-29.5 93.11,-36.5\"/>\n",
       "</g>\n",
       "<!-- matmul -->\n",
       "<g id=\"node3\" class=\"node\">\n",
       "<title>matmul</title>\n",
       "<ellipse fill=\"none\" stroke=\"black\" cx=\"256.64\" cy=\"-72\" rx=\"38.19\" ry=\"18\"/>\n",
       "<text text-anchor=\"middle\" x=\"256.64\" y=\"-68.3\" font-family=\"Times,serif\" font-size=\"14.00\">matmul</text>\n",
       "</g>\n",
       "<!-- add&#45;&gt;matmul -->\n",
       "<g id=\"edge2\" class=\"edge\">\n",
       "<title>add&#45;&gt;matmul</title>\n",
       "<path fill=\"none\" stroke=\"black\" d=\"M154.98,-40.43C171.73,-45.68 194.64,-52.87 214.37,-59.06\"/>\n",
       "<polygon fill=\"black\" stroke=\"black\" points=\"213.47,-62.44 224.06,-62.09 215.56,-55.76 213.47,-62.44\"/>\n",
       "</g>\n",
       "<!-- Bias -->\n",
       "<g id=\"node6\" class=\"node\">\n",
       "<title>Bias</title>\n",
       "<ellipse fill=\"none\" stroke=\"black\" cx=\"256.64\" cy=\"-18\" rx=\"27\" ry=\"18\"/>\n",
       "<text text-anchor=\"middle\" x=\"256.64\" y=\"-14.3\" font-family=\"Times,serif\" font-size=\"14.00\">Bias</text>\n",
       "</g>\n",
       "<!-- add&#45;&gt;Bias -->\n",
       "<g id=\"edge5\" class=\"edge\">\n",
       "<title>add&#45;&gt;Bias</title>\n",
       "<path fill=\"none\" stroke=\"black\" d=\"M157.06,-29.89C175.23,-27.7 199.81,-24.73 219.88,-22.31\"/>\n",
       "<polygon fill=\"black\" stroke=\"black\" points=\"220.4,-25.78 229.91,-21.1 219.56,-18.83 220.4,-25.78\"/>\n",
       "<text text-anchor=\"middle\" x=\"187.79\" y=\"-31.8\" font-family=\"Times,serif\" font-size=\"14.00\">grad</text>\n",
       "</g>\n",
       "<!-- Input -->\n",
       "<g id=\"node4\" class=\"node\">\n",
       "<title>Input</title>\n",
       "<ellipse fill=\"none\" stroke=\"black\" cx=\"392.38\" cy=\"-99\" rx=\"29.5\" ry=\"18\"/>\n",
       "<text text-anchor=\"middle\" x=\"392.38\" y=\"-95.3\" font-family=\"Times,serif\" font-size=\"14.00\">Input</text>\n",
       "</g>\n",
       "<!-- matmul&#45;&gt;Input -->\n",
       "<g id=\"edge3\" class=\"edge\">\n",
       "<title>matmul&#45;&gt;Input</title>\n",
       "<path fill=\"none\" stroke=\"black\" d=\"M292.08,-78.95C311.11,-82.79 334.76,-87.57 354.2,-91.49\"/>\n",
       "<polygon fill=\"black\" stroke=\"black\" points=\"353.73,-94.97 364.23,-93.52 355.12,-88.11 353.73,-94.97\"/>\n",
       "<text text-anchor=\"middle\" x=\"325.49\" y=\"-90.8\" font-family=\"Times,serif\" font-size=\"14.00\">grad</text>\n",
       "</g>\n",
       "<!-- Weight -->\n",
       "<g id=\"node5\" class=\"node\">\n",
       "<title>Weight</title>\n",
       "<ellipse fill=\"none\" stroke=\"black\" cx=\"392.38\" cy=\"-45\" rx=\"36.29\" ry=\"18\"/>\n",
       "<text text-anchor=\"middle\" x=\"392.38\" y=\"-41.3\" font-family=\"Times,serif\" font-size=\"14.00\">Weight</text>\n",
       "</g>\n",
       "<!-- matmul&#45;&gt;Weight -->\n",
       "<g id=\"edge4\" class=\"edge\">\n",
       "<title>matmul&#45;&gt;Weight</title>\n",
       "<path fill=\"none\" stroke=\"black\" d=\"M292.08,-65.05C309.32,-61.57 330.36,-57.32 348.62,-53.63\"/>\n",
       "<polygon fill=\"black\" stroke=\"black\" points=\"349.33,-57.06 358.44,-51.65 347.95,-50.2 349.33,-57.06\"/>\n",
       "<text text-anchor=\"middle\" x=\"325.49\" y=\"-63.8\" font-family=\"Times,serif\" font-size=\"14.00\">grad</text>\n",
       "</g>\n",
       "</g>\n",
       "</svg>\n"
      ],
      "text/plain": [
       "<graphviz.files.Source at 0x7fb1e1cba190>"
      ]
     },
     "execution_count": 242,
     "metadata": {},
     "output_type": "execute_result"
    }
   ],
   "source": [
    "#hide_input\n",
    "gv('''\n",
    "output->add->matmul\n",
    "matmul->Input[label=grad]\n",
    "matmul->Weight[label=grad]\n",
    "add->Bias[label=grad]\n",
    "''')"
   ]
  },
  {
   "cell_type": "code",
   "execution_count": 215,
   "metadata": {},
   "outputs": [],
   "source": [
    "class Linear():\n",
    "    \"\"\"\n",
    "    Creates a Linear dense layer\n",
    "    \"\"\"\n",
    "    def __init__(self, w: Tensor, b: Tensor):\n",
    "        self.w = w\n",
    "        self.b = n\n",
    "    \n",
    "    def __call__(self, x:Tensor):\n",
    "        \"forward propagation step\"\n",
    "        self.input = x # store the input \n",
    "        # compute matmul\n",
    "        matmul = self.input()@self.w()\n",
    "        # compute addition with bias and convert to Tensor\n",
    "        self.output = Tensor(matmul + self.b()) # store the ouput\n",
    "        return self.output\n",
    "        \n",
    "    def backward(self):\n",
    "        \"\"\"\n",
    "        The backward propagation step. This step claculates the gradients\n",
    "        of the paramters of the layer wrt to the loss generated in the \n",
    "        forward step and stores them in the `.grad` attributes of the parameters.\n",
    "        \"\"\"\n",
    "        # compute gradient of the input wrt to the output\n",
    "        self.input.grad = self.output.grad @ self.w().transpose()\n",
    "        # compute gradint of the weight wrt to the output\n",
    "        self.w.grad = self.input().transpose() @ self.output.grad\n",
    "        # compute the gradient of the bias wrt to the output\n",
    "        self.b.grad = np.sum(self.output.grad, axis=0, keepdims=True)"
   ]
  },
  {
   "cell_type": "code",
   "execution_count": 216,
   "metadata": {},
   "outputs": [],
   "source": [
    "lin1 = Linear(input_dims=x_train.shape[1], output_dims=16)"
   ]
  },
  {
   "cell_type": "code",
   "execution_count": 217,
   "metadata": {},
   "outputs": [],
   "source": [
    "output = lin1(Tensor(x_train))"
   ]
  },
  {
   "cell_type": "code",
   "execution_count": 218,
   "metadata": {},
   "outputs": [],
   "source": [
    "output.grad = output() - 1"
   ]
  },
  {
   "cell_type": "code",
   "execution_count": 219,
   "metadata": {},
   "outputs": [],
   "source": [
    "lin1.backward()"
   ]
  },
  {
   "cell_type": "code",
   "execution_count": 220,
   "metadata": {},
   "outputs": [
    {
     "data": {
      "text/plain": [
       "((784, 16), (784, 16))"
      ]
     },
     "execution_count": 220,
     "metadata": {},
     "output_type": "execute_result"
    }
   ],
   "source": [
    "lin1.w().shape, lin1.w.grad.shape"
   ]
  },
  {
   "cell_type": "code",
   "execution_count": 214,
   "metadata": {},
   "outputs": [
    {
     "data": {
      "text/plain": [
       "((1, 16), (1, 16))"
      ]
     },
     "execution_count": 214,
     "metadata": {},
     "output_type": "execute_result"
    }
   ],
   "source": [
    "lin1.b().shape, lin1.b.grad.shape"
   ]
  },
  {
   "cell_type": "code",
   "execution_count": null,
   "metadata": {},
   "outputs": [],
   "source": []
  }
 ],
 "metadata": {
  "kernelspec": {
   "display_name": "pytorch",
   "language": "python",
   "name": "pytorch"
  },
  "language_info": {
   "codemirror_mode": {
    "name": "ipython",
    "version": 3
   },
   "file_extension": ".py",
   "mimetype": "text/x-python",
   "name": "python",
   "nbconvert_exporter": "python",
   "pygments_lexer": "ipython3",
   "version": "3.7.7"
  }
 },
 "nbformat": 4,
 "nbformat_minor": 4
}
