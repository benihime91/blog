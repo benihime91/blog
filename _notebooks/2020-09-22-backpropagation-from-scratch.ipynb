{
 "cells": [
  {
   "cell_type": "markdown",
   "metadata": {},
   "source": [
    "# Backprogation in NeuralNetworks"
   ]
  },
  {
   "cell_type": "markdown",
   "metadata": {},
   "source": [
    "As the Title suggets in this blog post I would try to tackle `backpropagation in neural networks`.\n",
    "We will be using `numpy` for our calculations for this particular post. "
   ]
  },
  {
   "cell_type": "markdown",
   "metadata": {},
   "source": [
    "I will assume that you all know what a artificial neural network is and have a little bit of knowledge about `forward and backward propagation`. Just having a simple idea is enough.\n",
    "\n",
    "If you do not know what the above terms are or would like to brush up on the topics , I would suggest this amazing [youtube playlist by 3Blue1Brown](https://www.youtube.com/watch?v=aircAruvnKk&list=PLZHQObOWTQDNU6R1_67000Dx_ZCJB-3pi).\n",
    "\n",
    "> youtube: https://www.youtube.com/watch?v=aircAruvnKk&list=PLZHQObOWTQDNU6R1_67000Dx_ZCJB-3pi"
   ]
  },
  {
   "cell_type": "code",
   "execution_count": 41,
   "metadata": {},
   "outputs": [],
   "source": [
    "import numpy as np\n",
    "import gzip\n",
    "import pickle\n",
    "import pandas as pd\n",
    "import matplotlib.pyplot as plt\n",
    "\n",
    "%matplotlib inline"
   ]
  },
  {
   "cell_type": "markdown",
   "metadata": {},
   "source": [
    "## Preparing the data"
   ]
  },
  {
   "cell_type": "markdown",
   "metadata": {},
   "source": [
    "For this blog post, we'll use one of the most famous datasets in computer vision, [MNIST](https://en.wikipedia.org/wiki/MNIST_database). MNIST contains images of handwritten digits, collected by the National Institute of Standards and Technology and collated into a machine learning dataset by Yann Lecun and his colleagues. Lecun used MNIST in 1998 in [Lenet-5](http://yann.lecun.com/exdb/lenet/), the first computer system to demonstrate practically useful recognition of handwritten digit sequences. This was one of the most important breakthroughs in the history of AI."
   ]
  },
  {
   "cell_type": "markdown",
   "metadata": {},
   "source": [
    "Run the code below to download the `MNIST` dataset. The dataset will be downloaded to the path `../../Datasets/` or you can modify the path as you like."
   ]
  },
  {
   "cell_type": "code",
   "execution_count": null,
   "metadata": {},
   "outputs": [],
   "source": [
    "!wget -P \"../../Datasets/\" http://deeplearning.net/data/mnist/mnist.pkl.gz"
   ]
  },
  {
   "cell_type": "code",
   "execution_count": 3,
   "metadata": {},
   "outputs": [],
   "source": [
    "def get_data(path):\n",
    "    \"\"\"\n",
    "    Fn to unzip the MNIST data and return\n",
    "    the data as numpy arrays\n",
    "    \"\"\"\n",
    "    with gzip.open(path, 'rb') as f:\n",
    "        ((x_train, y_train), (x_valid, y_valid), _) = pickle.load(f, encoding='latin-1')\n",
    "    return map(np.array, (x_train,y_train,x_valid,y_valid))"
   ]
  },
  {
   "cell_type": "code",
   "execution_count": 4,
   "metadata": {},
   "outputs": [],
   "source": [
    "x_train,y_train,x_valid,y_valid = get_data(path= \"../../Datasets/mnist.pkl.gz\")"
   ]
  },
  {
   "cell_type": "code",
   "execution_count": 5,
   "metadata": {},
   "outputs": [
    {
     "name": "stdout",
     "output_type": "stream",
     "text": [
      "Shape of x_train: (50000, 784)\n",
      "Total number of examples: 50000\n",
      "Number of pixel values per image: 784\n"
     ]
    }
   ],
   "source": [
    "tots,feats = x_train.shape\n",
    "print(\"Shape of x_train:\",x_train.shape)\n",
    "print(\"Total number of examples:\", tots)\n",
    "print(\"Number of pixel values per image:\", feats)"
   ]
  },
  {
   "cell_type": "markdown",
   "metadata": {},
   "source": [
    "Let's view one image from our dataset:"
   ]
  },
  {
   "cell_type": "code",
   "execution_count": 7,
   "metadata": {},
   "outputs": [
    {
     "data": {
      "image/png": "[encoded data removed]",
      "text/plain": [
       "<Figure size 432x288 with 1 Axes>"
      ]
     },
     "metadata": {
      "needs_background": "light"
     },
     "output_type": "display_data"
    }
   ],
   "source": [
    "plt.imshow(x_train[0].reshape(28,28), cmap=\"binary\");"
   ]
  },
  {
   "cell_type": "markdown",
   "metadata": {},
   "source": [
    "## Basic Model Architecture"
   ]
  },
  {
   "cell_type": "markdown",
   "metadata": {},
   "source": [
    "For this task we are going to use a very basic model architecture this 2 linear layers and a output layer with 10 outputs."
   ]
  },
  {
   "cell_type": "code",
   "execution_count": 8,
   "metadata": {},
   "outputs": [],
   "source": [
    "#hide_input\n",
    "import graphviz\n",
    "def gv(s): return graphviz.Source('digraph G{ rankdir=\"LR\"' + s + '; }')"
   ]
  },
  {
   "cell_type": "markdown",
   "metadata": {},
   "source": [
    "Our forward pass of the model is going to look something like this:"
   ]
  },
  {
   "cell_type": "code",
   "execution_count": 39,
   "metadata": {},
   "outputs": [
    {
     "data": {
      "image/svg+xml": [
       "<?xml version=\"1.0\" encoding=\"UTF-8\" standalone=\"no\"?>\n",
       "<!DOCTYPE svg PUBLIC \"-//W3C//DTD SVG 1.1//EN\"\n",
       " \"http://www.w3.org/Graphics/SVG/1.1/DTD/svg11.dtd\">\n",
       "<!-- Generated by graphviz version 2.44.0 (20200408.0750)\n",
       " -->\n",
       "<!-- Title: G Pages: 1 -->\n",
       "<svg width=\"662pt\" height=\"206pt\"\n",
       " viewBox=\"0.00 0.00 661.58 206.00\" xmlns=\"http://www.w3.org/2000/svg\" xmlns:xlink=\"http://www.w3.org/1999/xlink\">\n",
       "<g id=\"graph0\" class=\"graph\" transform=\"scale(1 1) rotate(0) translate(4 202)\">\n",
       "<title>G</title>\n",
       "<polygon fill=\"white\" stroke=\"transparent\" points=\"-4,4 -4,-202 657.58,-202 657.58,4 -4,4\"/>\n",
       "<!-- X -->\n",
       "<g id=\"node1\" class=\"node\">\n",
       "<title>X</title>\n",
       "<ellipse fill=\"none\" stroke=\"black\" cx=\"27\" cy=\"-180\" rx=\"27\" ry=\"18\"/>\n",
       "<text text-anchor=\"middle\" x=\"27\" y=\"-176.3\" font-family=\"Times,serif\" font-size=\"14.00\">X</text>\n",
       "</g>\n",
       "<!-- linear1 -->\n",
       "<g id=\"node2\" class=\"node\">\n",
       "<title>linear1</title>\n",
       "<ellipse fill=\"none\" stroke=\"black\" cx=\"125.1\" cy=\"-126\" rx=\"35.19\" ry=\"18\"/>\n",
       "<text text-anchor=\"middle\" x=\"125.1\" y=\"-122.3\" font-family=\"Times,serif\" font-size=\"14.00\">linear1</text>\n",
       "</g>\n",
       "<!-- X&#45;&gt;linear1 -->\n",
       "<g id=\"edge1\" class=\"edge\">\n",
       "<title>X&#45;&gt;linear1</title>\n",
       "<path fill=\"none\" stroke=\"black\" d=\"M48.38,-168.55C60.94,-161.49 77.34,-152.28 91.66,-144.23\"/>\n",
       "<polygon fill=\"black\" stroke=\"black\" points=\"93.7,-147.1 100.7,-139.15 90.27,-140.99 93.7,-147.1\"/>\n",
       "</g>\n",
       "<!-- relu -->\n",
       "<g id=\"node3\" class=\"node\">\n",
       "<title>relu</title>\n",
       "<ellipse fill=\"none\" stroke=\"black\" cx=\"223.19\" cy=\"-126\" rx=\"27\" ry=\"18\"/>\n",
       "<text text-anchor=\"middle\" x=\"223.19\" y=\"-122.3\" font-family=\"Times,serif\" font-size=\"14.00\">relu</text>\n",
       "</g>\n",
       "<!-- linear1&#45;&gt;relu -->\n",
       "<g id=\"edge2\" class=\"edge\">\n",
       "<title>linear1&#45;&gt;relu</title>\n",
       "<path fill=\"none\" stroke=\"black\" d=\"M160.25,-126C168.52,-126 177.39,-126 185.76,-126\"/>\n",
       "<polygon fill=\"black\" stroke=\"black\" points=\"186.01,-129.5 196.01,-126 186.01,-122.5 186.01,-129.5\"/>\n",
       "</g>\n",
       "<!-- linear2 -->\n",
       "<g id=\"node4\" class=\"node\">\n",
       "<title>linear2</title>\n",
       "<ellipse fill=\"none\" stroke=\"black\" cx=\"321.29\" cy=\"-72\" rx=\"35.19\" ry=\"18\"/>\n",
       "<text text-anchor=\"middle\" x=\"321.29\" y=\"-68.3\" font-family=\"Times,serif\" font-size=\"14.00\">linear2</text>\n",
       "</g>\n",
       "<!-- relu&#45;&gt;linear2 -->\n",
       "<g id=\"edge3\" class=\"edge\">\n",
       "<title>relu&#45;&gt;linear2</title>\n",
       "<path fill=\"none\" stroke=\"black\" d=\"M244.57,-114.55C257.14,-107.49 273.53,-98.28 287.85,-90.23\"/>\n",
       "<polygon fill=\"black\" stroke=\"black\" points=\"289.89,-93.1 296.9,-85.15 286.47,-86.99 289.89,-93.1\"/>\n",
       "</g>\n",
       "<!-- softmax -->\n",
       "<g id=\"node5\" class=\"node\">\n",
       "<title>softmax</title>\n",
       "<ellipse fill=\"none\" stroke=\"black\" cx=\"432.03\" cy=\"-72\" rx=\"39.79\" ry=\"18\"/>\n",
       "<text text-anchor=\"middle\" x=\"432.03\" y=\"-68.3\" font-family=\"Times,serif\" font-size=\"14.00\">softmax</text>\n",
       "</g>\n",
       "<!-- linear2&#45;&gt;softmax -->\n",
       "<g id=\"edge4\" class=\"edge\">\n",
       "<title>linear2&#45;&gt;softmax</title>\n",
       "<path fill=\"none\" stroke=\"black\" d=\"M356.4,-72C364.55,-72 373.4,-72 382.07,-72\"/>\n",
       "<polygon fill=\"black\" stroke=\"black\" points=\"382.11,-75.5 392.11,-72 382.11,-68.5 382.11,-75.5\"/>\n",
       "</g>\n",
       "<!-- Yhat -->\n",
       "<g id=\"node6\" class=\"node\">\n",
       "<title>Yhat</title>\n",
       "<ellipse fill=\"none\" stroke=\"black\" cx=\"535.63\" cy=\"-72\" rx=\"27.9\" ry=\"18\"/>\n",
       "<text text-anchor=\"middle\" x=\"535.63\" y=\"-68.3\" font-family=\"Times,serif\" font-size=\"14.00\">Yhat</text>\n",
       "</g>\n",
       "<!-- softmax&#45;&gt;Yhat -->\n",
       "<g id=\"edge5\" class=\"edge\">\n",
       "<title>softmax&#45;&gt;Yhat</title>\n",
       "<path fill=\"none\" stroke=\"black\" d=\"M471.73,-72C480.09,-72 488.91,-72 497.22,-72\"/>\n",
       "<polygon fill=\"black\" stroke=\"black\" points=\"497.4,-75.5 507.4,-72 497.4,-68.5 497.4,-75.5\"/>\n",
       "</g>\n",
       "<!-- loss -->\n",
       "<g id=\"node7\" class=\"node\">\n",
       "<title>loss</title>\n",
       "<ellipse fill=\"none\" stroke=\"black\" cx=\"626.58\" cy=\"-45\" rx=\"27\" ry=\"18\"/>\n",
       "<text text-anchor=\"middle\" x=\"626.58\" y=\"-41.3\" font-family=\"Times,serif\" font-size=\"14.00\">loss</text>\n",
       "</g>\n",
       "<!-- Yhat&#45;&gt;loss -->\n",
       "<g id=\"edge6\" class=\"edge\">\n",
       "<title>Yhat&#45;&gt;loss</title>\n",
       "<path fill=\"none\" stroke=\"black\" d=\"M561.4,-64.48C570.81,-61.62 581.69,-58.32 591.79,-55.26\"/>\n",
       "<polygon fill=\"black\" stroke=\"black\" points=\"592.99,-58.55 601.55,-52.29 590.96,-51.85 592.99,-58.55\"/>\n",
       "</g>\n",
       "<!-- W1 -->\n",
       "<g id=\"node8\" class=\"node\">\n",
       "<title>W1</title>\n",
       "<ellipse fill=\"none\" stroke=\"black\" cx=\"27\" cy=\"-126\" rx=\"27\" ry=\"18\"/>\n",
       "<text text-anchor=\"middle\" x=\"27\" y=\"-122.3\" font-family=\"Times,serif\" font-size=\"14.00\">W1</text>\n",
       "</g>\n",
       "<!-- W1&#45;&gt;linear1 -->\n",
       "<g id=\"edge7\" class=\"edge\">\n",
       "<title>W1&#45;&gt;linear1</title>\n",
       "<path fill=\"none\" stroke=\"black\" d=\"M54.01,-126C61.92,-126 70.84,-126 79.61,-126\"/>\n",
       "<polygon fill=\"black\" stroke=\"black\" points=\"79.76,-129.5 89.76,-126 79.76,-122.5 79.76,-129.5\"/>\n",
       "</g>\n",
       "<!-- B1 -->\n",
       "<g id=\"node9\" class=\"node\">\n",
       "<title>B1</title>\n",
       "<ellipse fill=\"none\" stroke=\"black\" cx=\"27\" cy=\"-72\" rx=\"27\" ry=\"18\"/>\n",
       "<text text-anchor=\"middle\" x=\"27\" y=\"-68.3\" font-family=\"Times,serif\" font-size=\"14.00\">B1</text>\n",
       "</g>\n",
       "<!-- B1&#45;&gt;linear1 -->\n",
       "<g id=\"edge8\" class=\"edge\">\n",
       "<title>B1&#45;&gt;linear1</title>\n",
       "<path fill=\"none\" stroke=\"black\" d=\"M48.38,-83.45C60.94,-90.51 77.34,-99.72 91.66,-107.77\"/>\n",
       "<polygon fill=\"black\" stroke=\"black\" points=\"90.27,-111.01 100.7,-112.85 93.7,-104.9 90.27,-111.01\"/>\n",
       "</g>\n",
       "<!-- W2 -->\n",
       "<g id=\"node10\" class=\"node\">\n",
       "<title>W2</title>\n",
       "<ellipse fill=\"none\" stroke=\"black\" cx=\"223.19\" cy=\"-72\" rx=\"27\" ry=\"18\"/>\n",
       "<text text-anchor=\"middle\" x=\"223.19\" y=\"-68.3\" font-family=\"Times,serif\" font-size=\"14.00\">W2</text>\n",
       "</g>\n",
       "<!-- W2&#45;&gt;linear2 -->\n",
       "<g id=\"edge9\" class=\"edge\">\n",
       "<title>W2&#45;&gt;linear2</title>\n",
       "<path fill=\"none\" stroke=\"black\" d=\"M250.2,-72C258.11,-72 267.04,-72 275.81,-72\"/>\n",
       "<polygon fill=\"black\" stroke=\"black\" points=\"275.96,-75.5 285.96,-72 275.96,-68.5 275.96,-75.5\"/>\n",
       "</g>\n",
       "<!-- B2 -->\n",
       "<g id=\"node11\" class=\"node\">\n",
       "<title>B2</title>\n",
       "<ellipse fill=\"none\" stroke=\"black\" cx=\"223.19\" cy=\"-18\" rx=\"27\" ry=\"18\"/>\n",
       "<text text-anchor=\"middle\" x=\"223.19\" y=\"-14.3\" font-family=\"Times,serif\" font-size=\"14.00\">B2</text>\n",
       "</g>\n",
       "<!-- B2&#45;&gt;linear2 -->\n",
       "<g id=\"edge10\" class=\"edge\">\n",
       "<title>B2&#45;&gt;linear2</title>\n",
       "<path fill=\"none\" stroke=\"black\" d=\"M244.57,-29.45C257.14,-36.51 273.53,-45.72 287.85,-53.77\"/>\n",
       "<polygon fill=\"black\" stroke=\"black\" points=\"286.47,-57.01 296.9,-58.85 289.89,-50.9 286.47,-57.01\"/>\n",
       "</g>\n",
       "<!-- Y -->\n",
       "<g id=\"node12\" class=\"node\">\n",
       "<title>Y</title>\n",
       "<ellipse fill=\"none\" stroke=\"black\" cx=\"535.63\" cy=\"-18\" rx=\"27\" ry=\"18\"/>\n",
       "<text text-anchor=\"middle\" x=\"535.63\" y=\"-14.3\" font-family=\"Times,serif\" font-size=\"14.00\">Y</text>\n",
       "</g>\n",
       "<!-- Y&#45;&gt;loss -->\n",
       "<g id=\"edge11\" class=\"edge\">\n",
       "<title>Y&#45;&gt;loss</title>\n",
       "<path fill=\"none\" stroke=\"black\" d=\"M560.46,-25.24C570.14,-28.17 581.48,-31.61 591.97,-34.8\"/>\n",
       "<polygon fill=\"black\" stroke=\"black\" points=\"591.09,-38.19 601.67,-37.74 593.12,-31.49 591.09,-38.19\"/>\n",
       "</g>\n",
       "</g>\n",
       "</svg>\n"
      ],
      "text/plain": [
       "<graphviz.files.Source at 0x7fb1e13a2410>"
      ]
     },
     "execution_count": 39,
     "metadata": {},
     "output_type": "execute_result"
    }
   ],
   "source": [
    "#hide_input\n",
    "gv('''\n",
    "X->linear1->relu->linear2->softmax->Yhat->loss\n",
    "W1->linear1\n",
    "B1->linear1\n",
    "W2->linear2\n",
    "B2->linear2\n",
    "Y->loss\n",
    "''')"
   ]
  },
  {
   "cell_type": "markdown",
   "metadata": {},
   "source": [
    "Consequently our backward pass will look something like this:"
   ]
  },
  {
   "cell_type": "code",
   "execution_count": 40,
   "metadata": {},
   "outputs": [
    {
     "data": {
      "image/svg+xml": [
       "<?xml version=\"1.0\" encoding=\"UTF-8\" standalone=\"no\"?>\n",
       "<!DOCTYPE svg PUBLIC \"-//W3C//DTD SVG 1.1//EN\"\n",
       " \"http://www.w3.org/Graphics/SVG/1.1/DTD/svg11.dtd\">\n",
       "<!-- Generated by graphviz version 2.44.0 (20200408.0750)\n",
       " -->\n",
       "<!-- Title: G Pages: 1 -->\n",
       "<svg width=\"662pt\" height=\"179pt\"\n",
       " viewBox=\"0.00 0.00 661.58 179.00\" xmlns=\"http://www.w3.org/2000/svg\" xmlns:xlink=\"http://www.w3.org/1999/xlink\">\n",
       "<g id=\"graph0\" class=\"graph\" transform=\"scale(1 1) rotate(0) translate(4 175)\">\n",
       "<title>G</title>\n",
       "<polygon fill=\"white\" stroke=\"transparent\" points=\"-4,4 -4,-175 657.58,-175 657.58,4 -4,4\"/>\n",
       "<!-- loss -->\n",
       "<g id=\"node1\" class=\"node\">\n",
       "<title>loss</title>\n",
       "<ellipse fill=\"none\" stroke=\"black\" cx=\"27\" cy=\"-72\" rx=\"27\" ry=\"18\"/>\n",
       "<text text-anchor=\"middle\" x=\"27\" y=\"-68.3\" font-family=\"Times,serif\" font-size=\"14.00\">loss</text>\n",
       "</g>\n",
       "<!-- Yhat -->\n",
       "<g id=\"node2\" class=\"node\">\n",
       "<title>Yhat</title>\n",
       "<ellipse fill=\"none\" stroke=\"black\" cx=\"117.95\" cy=\"-72\" rx=\"27.9\" ry=\"18\"/>\n",
       "<text text-anchor=\"middle\" x=\"117.95\" y=\"-68.3\" font-family=\"Times,serif\" font-size=\"14.00\">Yhat</text>\n",
       "</g>\n",
       "<!-- loss&#45;&gt;Yhat -->\n",
       "<g id=\"edge1\" class=\"edge\">\n",
       "<title>loss&#45;&gt;Yhat</title>\n",
       "<path fill=\"none\" stroke=\"black\" d=\"M54.21,-72C62.15,-72 71.03,-72 79.56,-72\"/>\n",
       "<polygon fill=\"black\" stroke=\"black\" points=\"79.69,-75.5 89.69,-72 79.69,-68.5 79.69,-75.5\"/>\n",
       "</g>\n",
       "<!-- softmax -->\n",
       "<g id=\"node3\" class=\"node\">\n",
       "<title>softmax</title>\n",
       "<ellipse fill=\"none\" stroke=\"black\" cx=\"221.54\" cy=\"-72\" rx=\"39.79\" ry=\"18\"/>\n",
       "<text text-anchor=\"middle\" x=\"221.54\" y=\"-68.3\" font-family=\"Times,serif\" font-size=\"14.00\">softmax</text>\n",
       "</g>\n",
       "<!-- Yhat&#45;&gt;softmax -->\n",
       "<g id=\"edge2\" class=\"edge\">\n",
       "<title>Yhat&#45;&gt;softmax</title>\n",
       "<path fill=\"none\" stroke=\"black\" d=\"M145.91,-72C153.76,-72 162.61,-72 171.39,-72\"/>\n",
       "<polygon fill=\"black\" stroke=\"black\" points=\"171.6,-75.5 181.6,-72 171.6,-68.5 171.6,-75.5\"/>\n",
       "</g>\n",
       "<!-- linear2 -->\n",
       "<g id=\"node4\" class=\"node\">\n",
       "<title>linear2</title>\n",
       "<ellipse fill=\"none\" stroke=\"black\" cx=\"332.28\" cy=\"-72\" rx=\"35.19\" ry=\"18\"/>\n",
       "<text text-anchor=\"middle\" x=\"332.28\" y=\"-68.3\" font-family=\"Times,serif\" font-size=\"14.00\">linear2</text>\n",
       "</g>\n",
       "<!-- softmax&#45;&gt;linear2 -->\n",
       "<g id=\"edge3\" class=\"edge\">\n",
       "<title>softmax&#45;&gt;linear2</title>\n",
       "<path fill=\"none\" stroke=\"black\" d=\"M261.49,-72C269.73,-72 278.47,-72 286.89,-72\"/>\n",
       "<polygon fill=\"black\" stroke=\"black\" points=\"286.93,-75.5 296.93,-72 286.93,-68.5 286.93,-75.5\"/>\n",
       "</g>\n",
       "<!-- relu -->\n",
       "<g id=\"node5\" class=\"node\">\n",
       "<title>relu</title>\n",
       "<ellipse fill=\"none\" stroke=\"black\" cx=\"430.38\" cy=\"-126\" rx=\"27\" ry=\"18\"/>\n",
       "<text text-anchor=\"middle\" x=\"430.38\" y=\"-122.3\" font-family=\"Times,serif\" font-size=\"14.00\">relu</text>\n",
       "</g>\n",
       "<!-- linear2&#45;&gt;relu -->\n",
       "<g id=\"edge4\" class=\"edge\">\n",
       "<title>linear2&#45;&gt;relu</title>\n",
       "<path fill=\"none\" stroke=\"black\" d=\"M356.55,-85.07C369.76,-92.5 386.42,-101.86 400.47,-109.75\"/>\n",
       "<polygon fill=\"black\" stroke=\"black\" points=\"398.83,-112.85 409.26,-114.69 402.26,-106.74 398.83,-112.85\"/>\n",
       "</g>\n",
       "<!-- W2 -->\n",
       "<g id=\"node9\" class=\"node\">\n",
       "<title>W2</title>\n",
       "<ellipse fill=\"none\" stroke=\"black\" cx=\"430.38\" cy=\"-72\" rx=\"27\" ry=\"18\"/>\n",
       "<text text-anchor=\"middle\" x=\"430.38\" y=\"-68.3\" font-family=\"Times,serif\" font-size=\"14.00\">W2</text>\n",
       "</g>\n",
       "<!-- linear2&#45;&gt;W2 -->\n",
       "<g id=\"edge8\" class=\"edge\">\n",
       "<title>linear2&#45;&gt;W2</title>\n",
       "<path fill=\"none\" stroke=\"black\" d=\"M367.44,-72C375.7,-72 384.57,-72 392.94,-72\"/>\n",
       "<polygon fill=\"black\" stroke=\"black\" points=\"393.2,-75.5 403.2,-72 393.2,-68.5 393.2,-75.5\"/>\n",
       "</g>\n",
       "<!-- B2 -->\n",
       "<g id=\"node10\" class=\"node\">\n",
       "<title>B2</title>\n",
       "<ellipse fill=\"none\" stroke=\"black\" cx=\"430.38\" cy=\"-18\" rx=\"27\" ry=\"18\"/>\n",
       "<text text-anchor=\"middle\" x=\"430.38\" y=\"-14.3\" font-family=\"Times,serif\" font-size=\"14.00\">B2</text>\n",
       "</g>\n",
       "<!-- linear2&#45;&gt;B2 -->\n",
       "<g id=\"edge9\" class=\"edge\">\n",
       "<title>linear2&#45;&gt;B2</title>\n",
       "<path fill=\"none\" stroke=\"black\" d=\"M356.55,-58.93C369.76,-51.5 386.42,-42.14 400.47,-34.25\"/>\n",
       "<polygon fill=\"black\" stroke=\"black\" points=\"402.26,-37.26 409.26,-29.31 398.83,-31.15 402.26,-37.26\"/>\n",
       "</g>\n",
       "<!-- linear1 -->\n",
       "<g id=\"node6\" class=\"node\">\n",
       "<title>linear1</title>\n",
       "<ellipse fill=\"none\" stroke=\"black\" cx=\"528.48\" cy=\"-126\" rx=\"35.19\" ry=\"18\"/>\n",
       "<text text-anchor=\"middle\" x=\"528.48\" y=\"-122.3\" font-family=\"Times,serif\" font-size=\"14.00\">linear1</text>\n",
       "</g>\n",
       "<!-- relu&#45;&gt;linear1 -->\n",
       "<g id=\"edge5\" class=\"edge\">\n",
       "<title>relu&#45;&gt;linear1</title>\n",
       "<path fill=\"none\" stroke=\"black\" d=\"M457.39,-126C465.3,-126 474.23,-126 482.99,-126\"/>\n",
       "<polygon fill=\"black\" stroke=\"black\" points=\"483.14,-129.5 493.14,-126 483.14,-122.5 483.14,-129.5\"/>\n",
       "</g>\n",
       "<!-- W1 -->\n",
       "<g id=\"node7\" class=\"node\">\n",
       "<title>W1</title>\n",
       "<ellipse fill=\"none\" stroke=\"black\" cx=\"626.58\" cy=\"-153\" rx=\"27\" ry=\"18\"/>\n",
       "<text text-anchor=\"middle\" x=\"626.58\" y=\"-149.3\" font-family=\"Times,serif\" font-size=\"14.00\">W1</text>\n",
       "</g>\n",
       "<!-- linear1&#45;&gt;W1 -->\n",
       "<g id=\"edge6\" class=\"edge\">\n",
       "<title>linear1&#45;&gt;W1</title>\n",
       "<path fill=\"none\" stroke=\"black\" d=\"M559.62,-134.47C569.8,-137.33 581.23,-140.54 591.68,-143.48\"/>\n",
       "<polygon fill=\"black\" stroke=\"black\" points=\"590.75,-146.85 601.32,-146.19 592.64,-140.11 590.75,-146.85\"/>\n",
       "</g>\n",
       "<!-- B1 -->\n",
       "<g id=\"node8\" class=\"node\">\n",
       "<title>B1</title>\n",
       "<ellipse fill=\"none\" stroke=\"black\" cx=\"626.58\" cy=\"-99\" rx=\"27\" ry=\"18\"/>\n",
       "<text text-anchor=\"middle\" x=\"626.58\" y=\"-95.3\" font-family=\"Times,serif\" font-size=\"14.00\">B1</text>\n",
       "</g>\n",
       "<!-- linear1&#45;&gt;B1 -->\n",
       "<g id=\"edge7\" class=\"edge\">\n",
       "<title>linear1&#45;&gt;B1</title>\n",
       "<path fill=\"none\" stroke=\"black\" d=\"M559.62,-117.53C569.8,-114.67 581.23,-111.46 591.68,-108.52\"/>\n",
       "<polygon fill=\"black\" stroke=\"black\" points=\"592.64,-111.89 601.32,-105.81 590.75,-105.15 592.64,-111.89\"/>\n",
       "</g>\n",
       "</g>\n",
       "</svg>\n"
      ],
      "text/plain": [
       "<graphviz.files.Source at 0x7fb1e13a2c50>"
      ]
     },
     "execution_count": 40,
     "metadata": {},
     "output_type": "execute_result"
    }
   ],
   "source": [
    "#hide_input\n",
    "gv('''\n",
    "loss->Yhat->softmax->linear2->relu->linear1\n",
    "linear1->W1\n",
    "linear1->B1\n",
    "linear2->W2\n",
    "linear2->B2\n",
    "''')"
   ]
  },
  {
   "cell_type": "code",
   "execution_count": null,
   "metadata": {},
   "outputs": [],
   "source": []
  }
 ],
 "metadata": {
  "kernelspec": {
   "display_name": "pytorch",
   "language": "python",
   "name": "pytorch"
  },
  "language_info": {
   "codemirror_mode": {
    "name": "ipython",
    "version": 3
   },
   "file_extension": ".py",
   "mimetype": "text/x-python",
   "name": "python",
   "nbconvert_exporter": "python",
   "pygments_lexer": "ipython3",
   "version": "3.7.7"
  }
 },
 "nbformat": 4,
 "nbformat_minor": 4
}
