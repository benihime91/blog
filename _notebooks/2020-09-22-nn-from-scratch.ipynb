{
 "cells": [
  {
   "cell_type": "markdown",
   "metadata": {},
   "source": [
    "# Creating a Neural-Network from scratch\n",
    "> A tutorial to code a neural network from scratch in python using numpy.\n",
    "\n",
    "- toc: false\n",
    "- badges: true\n",
    "- comments: true\n",
    "- categories: [machinelearning, deeplearning, python3.x, numpy]\n",
    "- image: images/backprop.jpeg"
   ]
  },
  {
   "cell_type": "markdown",
   "metadata": {},
   "source": [
    "I will assume that you all know what a artificial neural network is and have a little bit of knowledge about `forward and backward propagation`. Just having a simple idea is enough.\n",
    "\n",
    "> Tip: If you do not know what the above terms are or would like to brush up on the topics, I would suggest going through this amazing [youtube playlist](https://www.youtube.com/watch?v=aircAruvnKk&list=PLZHQObOWTQDNU6R1_67000Dx_ZCJB-3pi) by [3Blue1Brown](https://www.3blue1brown.com/)."
   ]
  },
  {
   "cell_type": "markdown",
   "metadata": {},
   "source": [
    "> youtube: https://www.youtube.com/watch?v=aircAruvnKk&list=PLZHQObOWTQDNU6R1_67000Dx_ZCJB-3pi"
   ]
  },
  {
   "cell_type": "markdown",
   "metadata": {},
   "source": [
    "## Setting up Imports:"
   ]
  },
  {
   "cell_type": "code",
   "execution_count": 1,
   "metadata": {},
   "outputs": [],
   "source": [
    "import numpy as np\n",
    "import gzip\n",
    "import pickle\n",
    "import pandas as pd\n",
    "import matplotlib.pyplot as plt"
   ]
  },
  {
   "cell_type": "code",
   "execution_count": 2,
   "metadata": {},
   "outputs": [],
   "source": [
    "#hide_input\n",
    "import warnings\n",
    "np.random.seed(123)\n",
    "%matplotlib inline\n",
    "warnings.filterwarnings(\"ignore\")"
   ]
  },
  {
   "cell_type": "markdown",
   "metadata": {},
   "source": [
    "## Preparing the data"
   ]
  },
  {
   "cell_type": "markdown",
   "metadata": {},
   "source": [
    "For this blog post, we'll use one of the most famous datasets in computer vision, [MNIST](https://en.wikipedia.org/wiki/MNIST_database). MNIST contains images of handwritten digits, collected by the National Institute of Standards and Technology and collated into a machine learning dataset by Yann Lecun and his colleagues. Lecun used MNIST in 1998 in [Lenet-5](http://yann.lecun.com/exdb/lenet/), the first computer system to demonstrate practically useful recognition of handwritten digit sequences. This was one of the most important breakthroughs in the history of AI."
   ]
  },
  {
   "cell_type": "markdown",
   "metadata": {},
   "source": [
    "Run the code given below to download the `MNIST` dataset."
   ]
  },
  {
   "cell_type": "markdown",
   "metadata": {},
   "source": [
    "```shell\n",
    "wget -P path http://deeplearning.net/data/mnist/mnist.pkl.gz\n",
    "```\n",
    "\n",
    "> Note: the above code snippet will download the dataset to `{path}` so be sure to set the `{path}` to the desired location of your choice. "
   ]
  },
  {
   "cell_type": "code",
   "execution_count": 3,
   "metadata": {},
   "outputs": [
    {
     "name": "stdout",
     "output_type": "stream",
     "text": [
      "Shape of x_train: (50000, 784)\n",
      "Total number of examples: 50000\n",
      "Number of pixel values per image: 784\n"
     ]
    }
   ],
   "source": [
    "def get_data(path):\n",
    "    \"\"\"\n",
    "    Fn to unzip the MNIST data and return\n",
    "    the data as numpy arrays\n",
    "    \"\"\"\n",
    "    with gzip.open(path, 'rb') as f:\n",
    "        ((x_train, y_train), (x_valid, y_valid), _) = pickle.load(f, encoding='latin-1')\n",
    "    return map(np.array, (x_train,y_train,x_valid,y_valid))\n",
    "\n",
    "\n",
    "# Grab the MNIST dataset\n",
    "x_train,y_train,x_valid,y_valid = get_data(path= \"../../Datasets/mnist.pkl.gz\")\n",
    "\n",
    "tots,feats = x_train.shape\n",
    "print(\"Shape of x_train:\",x_train.shape)\n",
    "print(\"Total number of examples:\", tots)\n",
    "print(\"Number of pixel values per image:\", feats)"
   ]
  },
  {
   "cell_type": "markdown",
   "metadata": {},
   "source": [
    "## Preparing our `train` & `validation` datasets"
   ]
  },
  {
   "cell_type": "markdown",
   "metadata": {},
   "source": [
    "To make our life a bit easier we are going to take only the examples that contain a 1 or 0."
   ]
  },
  {
   "cell_type": "code",
   "execution_count": 4,
   "metadata": {},
   "outputs": [
    {
     "data": {
      "text/plain": [
       "((10610, 784), (10610, 1))"
      ]
     },
     "execution_count": 4,
     "metadata": {},
     "output_type": "execute_result"
    }
   ],
   "source": [
    "zero_mask = [y_train==0] # grab all the index values where 0 is present\n",
    "one_mask = [y_train==1] # grad all the index valus where 1 is present\n",
    "\n",
    "# grab all the 1's and 0's and make training set\n",
    "x_train = np.vstack((x_train[zero_mask], x_train[one_mask]))\n",
    "y_train = np.reshape(y_train, (-1,1))\n",
    "y_train = np.squeeze(np.vstack((y_train[zero_mask], y_train[one_mask]))).reshape(-1,1)\n",
    "\n",
    "x_train.shape, y_train.shape"
   ]
  },
  {
   "cell_type": "markdown",
   "metadata": {},
   "source": [
    "**Our training set now has 10610 examples**"
   ]
  },
  {
   "cell_type": "code",
   "execution_count": 5,
   "metadata": {},
   "outputs": [
    {
     "data": {
      "text/plain": [
       "((2055, 784), (2055, 1))"
      ]
     },
     "execution_count": 5,
     "metadata": {},
     "output_type": "execute_result"
    }
   ],
   "source": [
    "zero_mask = [y_valid==0] # grab all the index values where 0 is present\n",
    "one_mask = [y_valid==1] # grad all the index valus where 1 is present\n",
    "\n",
    "# grab all the 1's and 0's and make training set\n",
    "x_valid = np.vstack((x_valid[zero_mask], x_valid[one_mask]))\n",
    "y_valid = np.reshape(y_valid, (-1,1))\n",
    "y_valid = np.squeeze(np.vstack((y_valid[zero_mask], y_valid[one_mask]))).reshape(-1,1)\n",
    "\n",
    "x_valid.shape, y_valid.shape"
   ]
  },
  {
   "cell_type": "markdown",
   "metadata": {},
   "source": [
    "**Our validation set now has 2055 examples**"
   ]
  },
  {
   "cell_type": "markdown",
   "metadata": {},
   "source": [
    "**Why do we need different training and validation sets ?**\n",
    "\n",
    "Since, this topic requires a different post on it's own I won't be covering it here. But you can get the idea from this above video:\n",
    "\n",
    "> youtube: https://youtu.be/1waHlpKiNyY?t=243"
   ]
  },
  {
   "cell_type": "markdown",
   "metadata": {},
   "source": [
    "Let's view some example images from our dataset:"
   ]
  },
  {
   "cell_type": "code",
   "execution_count": 6,
   "metadata": {},
   "outputs": [
    {
     "data": {
      "image/png": "[encoded data removed]",
      "text/plain": [
       "<Figure size 432x288 with 1 Axes>"
      ]
     },
     "metadata": {
      "needs_background": "light"
     },
     "output_type": "display_data"
    }
   ],
   "source": [
    "#collapse \n",
    "plt.imshow(x_train[50].reshape(28,28), cmap=\"gray\");"
   ]
  },
  {
   "cell_type": "code",
   "execution_count": 7,
   "metadata": {},
   "outputs": [
    {
     "data": {
      "image/png": "[encoded data removed]",
      "text/plain": [
       "<Figure size 432x288 with 1 Axes>"
      ]
     },
     "metadata": {
      "needs_background": "light"
     },
     "output_type": "display_data"
    }
   ],
   "source": [
    "#collapse\n",
    "plt.imshow(x_train[5000].reshape(28,28), cmap=\"gray\");"
   ]
  },
  {
   "cell_type": "markdown",
   "metadata": {},
   "source": [
    "## Basic Model Architecture"
   ]
  },
  {
   "cell_type": "markdown",
   "metadata": {},
   "source": [
    "For this task we are going to use a very basic model architecture this 2 linear layers and a output layer with 1 unit."
   ]
  },
  {
   "cell_type": "code",
   "execution_count": 8,
   "metadata": {},
   "outputs": [],
   "source": [
    "#hide_input \n",
    "import graphviz\n",
    "def gv(s): return graphviz.Source('digraph G{ rankdir=\"LR\"' + s + '; }')"
   ]
  },
  {
   "cell_type": "markdown",
   "metadata": {},
   "source": [
    "## Let's take a deep dive into what this network means:"
   ]
  },
  {
   "cell_type": "markdown",
   "metadata": {},
   "source": [
    "Let's take at look at all the individual components of this network:\n",
    "- **Linear:**\n",
    "  The linear layer computes the following :      \n",
    "   ```\n",
    "   out = matmul(input,W1) + B1\n",
    "   ```\n",
    "   \n",
    "- **ReLU:** \n",
    "  The relu computes the following:\n",
    "  ```\n",
    "  out = max(0, input)\n",
    "  ```\n",
    "- **Sigmoid:** \n",
    "  The sigmoid computes the following:\n",
    "  ```\n",
    "  out = 1/(1 + e.pow(input))\n",
    "  ```\n",
    "  \n",
    "- **Loss:** \n",
    "  For the loss we are going to use the CrossEntropy Loss which is defined by the follwoing equation:\n",
    "  $$loss= -\\frac{1}{m} \\sum\\limits_{i = 1}^{m} (y^{(i)}\\log\\left(yhat^{(i)}\\right) + (1-y^{(i)})\\log\\left(1-yhat^{(i)}\\right)) $$"
   ]
  },
  {
   "cell_type": "markdown",
   "metadata": {},
   "source": [
    "**Now that we have our model architecture, let's create the different parts needed to assemble the model:**\n",
    "- linear layer\n",
    "- relu activation\n",
    "- sigmoid activation\n",
    "- loss"
   ]
  },
  {
   "cell_type": "markdown",
   "metadata": {},
   "source": [
    "**Let's first try to make some sense of what is happening in the backward and forward pass of our model:**"
   ]
  },
  {
   "cell_type": "markdown",
   "metadata": {},
   "source": [
    "**On paper our forward pass would look something like this:**\n",
    "\n",
    "> Note: `@` in python is the `matrix-multiplication operator`. \n",
    "\n",
    "```python\n",
    "inputs = x_train # original inputs\n",
    "targets = y_train # original targets\n",
    "\n",
    "# forward pass for the 1st linear layer\n",
    "z1 = inputs @ w2 + b2\n",
    "a1 = relu(z1)\n",
    "# forward pass for the 2nd linear layer\n",
    "z2 = a1 @ w2 + b2\n",
    "a2 = relu(z2)\n",
    "# forward pass for the output linear layer\n",
    "z3 = a2 @ w3 + b3\n",
    "pred = a3 = sigmoid(z3) # these are our model predictions \n",
    "# calculate loss between original targets & model predictions\n",
    "loss = loss_fn(a3, targets)\n",
    "```\n",
    "> Note: This is not actual code it's just psuedo-code for understanding."
   ]
  },
  {
   "cell_type": "markdown",
   "metadata": {},
   "source": [
    "**Forward pass :**"
   ]
  },
  {
   "cell_type": "code",
   "execution_count": 9,
   "metadata": {},
   "outputs": [
    {
     "data": {
      "image/svg+xml": [
       "<?xml version=\"1.0\" encoding=\"UTF-8\" standalone=\"no\"?>\n",
       "<!DOCTYPE svg PUBLIC \"-//W3C//DTD SVG 1.1//EN\"\n",
       " \"http://www.w3.org/Graphics/SVG/1.1/DTD/svg11.dtd\">\n",
       "<!-- Generated by graphviz version 2.44.0 (20200408.0750)\n",
       " -->\n",
       "<!-- Title: G Pages: 1 -->\n",
       "<svg width=\"811pt\" height=\"260pt\"\n",
       " viewBox=\"0.00 0.00 810.56 260.00\" xmlns=\"http://www.w3.org/2000/svg\" xmlns:xlink=\"http://www.w3.org/1999/xlink\">\n",
       "<g id=\"graph0\" class=\"graph\" transform=\"scale(1 1) rotate(0) translate(4 256)\">\n",
       "<title>G</title>\n",
       "<polygon fill=\"white\" stroke=\"transparent\" points=\"-4,4 -4,-256 806.56,-256 806.56,4 -4,4\"/>\n",
       "<!-- X -->\n",
       "<g id=\"node1\" class=\"node\">\n",
       "<title>X</title>\n",
       "<ellipse fill=\"none\" stroke=\"black\" cx=\"27\" cy=\"-234\" rx=\"27\" ry=\"18\"/>\n",
       "<text text-anchor=\"middle\" x=\"27\" y=\"-230.3\" font-family=\"Times,serif\" font-size=\"14.00\">X</text>\n",
       "</g>\n",
       "<!-- linear1 -->\n",
       "<g id=\"node2\" class=\"node\">\n",
       "<title>linear1</title>\n",
       "<ellipse fill=\"none\" stroke=\"black\" cx=\"125.1\" cy=\"-180\" rx=\"35.19\" ry=\"18\"/>\n",
       "<text text-anchor=\"middle\" x=\"125.1\" y=\"-176.3\" font-family=\"Times,serif\" font-size=\"14.00\">linear1</text>\n",
       "</g>\n",
       "<!-- X&#45;&gt;linear1 -->\n",
       "<g id=\"edge1\" class=\"edge\">\n",
       "<title>X&#45;&gt;linear1</title>\n",
       "<path fill=\"none\" stroke=\"black\" d=\"M48.38,-222.55C60.94,-215.49 77.34,-206.28 91.66,-198.23\"/>\n",
       "<polygon fill=\"black\" stroke=\"black\" points=\"93.7,-201.1 100.7,-193.15 90.27,-194.99 93.7,-201.1\"/>\n",
       "</g>\n",
       "<!-- relu1 -->\n",
       "<g id=\"node3\" class=\"node\">\n",
       "<title>relu1</title>\n",
       "<ellipse fill=\"none\" stroke=\"black\" cx=\"224.79\" cy=\"-180\" rx=\"28.7\" ry=\"18\"/>\n",
       "<text text-anchor=\"middle\" x=\"224.79\" y=\"-176.3\" font-family=\"Times,serif\" font-size=\"14.00\">relu1</text>\n",
       "</g>\n",
       "<!-- linear1&#45;&gt;relu1 -->\n",
       "<g id=\"edge2\" class=\"edge\">\n",
       "<title>linear1&#45;&gt;relu1</title>\n",
       "<path fill=\"none\" stroke=\"black\" d=\"M160.27,-180C168.56,-180 177.47,-180 185.93,-180\"/>\n",
       "<polygon fill=\"black\" stroke=\"black\" points=\"185.93,-183.5 195.93,-180 185.93,-176.5 185.93,-183.5\"/>\n",
       "</g>\n",
       "<!-- linear2 -->\n",
       "<g id=\"node4\" class=\"node\">\n",
       "<title>linear2</title>\n",
       "<ellipse fill=\"none\" stroke=\"black\" cx=\"324.49\" cy=\"-126\" rx=\"35.19\" ry=\"18\"/>\n",
       "<text text-anchor=\"middle\" x=\"324.49\" y=\"-122.3\" font-family=\"Times,serif\" font-size=\"14.00\">linear2</text>\n",
       "</g>\n",
       "<!-- relu1&#45;&gt;linear2 -->\n",
       "<g id=\"edge3\" class=\"edge\">\n",
       "<title>relu1&#45;&gt;linear2</title>\n",
       "<path fill=\"none\" stroke=\"black\" d=\"M246.99,-168.28C259.79,-161.21 276.36,-152.05 290.81,-144.06\"/>\n",
       "<polygon fill=\"black\" stroke=\"black\" points=\"292.87,-146.92 299.93,-139.02 289.49,-140.79 292.87,-146.92\"/>\n",
       "</g>\n",
       "<!-- relu2 -->\n",
       "<g id=\"node5\" class=\"node\">\n",
       "<title>relu2</title>\n",
       "<ellipse fill=\"none\" stroke=\"black\" cx=\"424.18\" cy=\"-126\" rx=\"28.7\" ry=\"18\"/>\n",
       "<text text-anchor=\"middle\" x=\"424.18\" y=\"-122.3\" font-family=\"Times,serif\" font-size=\"14.00\">relu2</text>\n",
       "</g>\n",
       "<!-- linear2&#45;&gt;relu2 -->\n",
       "<g id=\"edge4\" class=\"edge\">\n",
       "<title>linear2&#45;&gt;relu2</title>\n",
       "<path fill=\"none\" stroke=\"black\" d=\"M359.65,-126C367.95,-126 376.86,-126 385.32,-126\"/>\n",
       "<polygon fill=\"black\" stroke=\"black\" points=\"385.32,-129.5 395.32,-126 385.32,-122.5 385.32,-129.5\"/>\n",
       "</g>\n",
       "<!-- linear3 -->\n",
       "<g id=\"node6\" class=\"node\">\n",
       "<title>linear3</title>\n",
       "<ellipse fill=\"none\" stroke=\"black\" cx=\"523.87\" cy=\"-72\" rx=\"35.19\" ry=\"18\"/>\n",
       "<text text-anchor=\"middle\" x=\"523.87\" y=\"-68.3\" font-family=\"Times,serif\" font-size=\"14.00\">linear3</text>\n",
       "</g>\n",
       "<!-- relu2&#45;&gt;linear3 -->\n",
       "<g id=\"edge5\" class=\"edge\">\n",
       "<title>relu2&#45;&gt;linear3</title>\n",
       "<path fill=\"none\" stroke=\"black\" d=\"M446.38,-114.28C459.18,-107.21 475.75,-98.05 490.2,-90.06\"/>\n",
       "<polygon fill=\"black\" stroke=\"black\" points=\"492.26,-92.92 499.32,-85.02 488.88,-86.79 492.26,-92.92\"/>\n",
       "</g>\n",
       "<!-- sigmoid -->\n",
       "<g id=\"node7\" class=\"node\">\n",
       "<title>sigmoid</title>\n",
       "<ellipse fill=\"none\" stroke=\"black\" cx=\"634.62\" cy=\"-72\" rx=\"39.79\" ry=\"18\"/>\n",
       "<text text-anchor=\"middle\" x=\"634.62\" y=\"-68.3\" font-family=\"Times,serif\" font-size=\"14.00\">sigmoid</text>\n",
       "</g>\n",
       "<!-- linear3&#45;&gt;sigmoid -->\n",
       "<g id=\"edge6\" class=\"edge\">\n",
       "<title>linear3&#45;&gt;sigmoid</title>\n",
       "<path fill=\"none\" stroke=\"black\" d=\"M558.98,-72C567.13,-72 575.99,-72 584.66,-72\"/>\n",
       "<polygon fill=\"black\" stroke=\"black\" points=\"584.7,-75.5 594.7,-72 584.7,-68.5 584.7,-75.5\"/>\n",
       "</g>\n",
       "<!-- prediction -->\n",
       "<g id=\"node8\" class=\"node\">\n",
       "<title>prediction</title>\n",
       "<ellipse fill=\"none\" stroke=\"black\" cx=\"756.41\" cy=\"-72\" rx=\"46.29\" ry=\"18\"/>\n",
       "<text text-anchor=\"middle\" x=\"756.41\" y=\"-68.3\" font-family=\"Times,serif\" font-size=\"14.00\">prediction</text>\n",
       "</g>\n",
       "<!-- sigmoid&#45;&gt;prediction -->\n",
       "<g id=\"edge7\" class=\"edge\">\n",
       "<title>sigmoid&#45;&gt;prediction</title>\n",
       "<path fill=\"none\" stroke=\"black\" d=\"M674.51,-72C682.66,-72 691.41,-72 700.03,-72\"/>\n",
       "<polygon fill=\"black\" stroke=\"black\" points=\"700.05,-75.5 710.05,-72 700.05,-68.5 700.05,-75.5\"/>\n",
       "</g>\n",
       "<!-- W1 -->\n",
       "<g id=\"node9\" class=\"node\">\n",
       "<title>W1</title>\n",
       "<ellipse fill=\"none\" stroke=\"black\" cx=\"27\" cy=\"-180\" rx=\"27\" ry=\"18\"/>\n",
       "<text text-anchor=\"middle\" x=\"27\" y=\"-176.3\" font-family=\"Times,serif\" font-size=\"14.00\">W1</text>\n",
       "</g>\n",
       "<!-- W1&#45;&gt;linear1 -->\n",
       "<g id=\"edge8\" class=\"edge\">\n",
       "<title>W1&#45;&gt;linear1</title>\n",
       "<path fill=\"none\" stroke=\"black\" d=\"M54.01,-180C61.92,-180 70.84,-180 79.61,-180\"/>\n",
       "<polygon fill=\"black\" stroke=\"black\" points=\"79.76,-183.5 89.76,-180 79.76,-176.5 79.76,-183.5\"/>\n",
       "</g>\n",
       "<!-- B1 -->\n",
       "<g id=\"node10\" class=\"node\">\n",
       "<title>B1</title>\n",
       "<ellipse fill=\"none\" stroke=\"black\" cx=\"27\" cy=\"-126\" rx=\"27\" ry=\"18\"/>\n",
       "<text text-anchor=\"middle\" x=\"27\" y=\"-122.3\" font-family=\"Times,serif\" font-size=\"14.00\">B1</text>\n",
       "</g>\n",
       "<!-- B1&#45;&gt;linear1 -->\n",
       "<g id=\"edge9\" class=\"edge\">\n",
       "<title>B1&#45;&gt;linear1</title>\n",
       "<path fill=\"none\" stroke=\"black\" d=\"M48.38,-137.45C60.94,-144.51 77.34,-153.72 91.66,-161.77\"/>\n",
       "<polygon fill=\"black\" stroke=\"black\" points=\"90.27,-165.01 100.7,-166.85 93.7,-158.9 90.27,-165.01\"/>\n",
       "</g>\n",
       "<!-- W2 -->\n",
       "<g id=\"node11\" class=\"node\">\n",
       "<title>W2</title>\n",
       "<ellipse fill=\"none\" stroke=\"black\" cx=\"224.79\" cy=\"-126\" rx=\"27\" ry=\"18\"/>\n",
       "<text text-anchor=\"middle\" x=\"224.79\" y=\"-122.3\" font-family=\"Times,serif\" font-size=\"14.00\">W2</text>\n",
       "</g>\n",
       "<!-- W2&#45;&gt;linear2 -->\n",
       "<g id=\"edge10\" class=\"edge\">\n",
       "<title>W2&#45;&gt;linear2</title>\n",
       "<path fill=\"none\" stroke=\"black\" d=\"M251.97,-126C260.27,-126 269.68,-126 278.89,-126\"/>\n",
       "<polygon fill=\"black\" stroke=\"black\" points=\"279.14,-129.5 289.14,-126 279.14,-122.5 279.14,-129.5\"/>\n",
       "</g>\n",
       "<!-- B2 -->\n",
       "<g id=\"node12\" class=\"node\">\n",
       "<title>B2</title>\n",
       "<ellipse fill=\"none\" stroke=\"black\" cx=\"224.79\" cy=\"-72\" rx=\"27\" ry=\"18\"/>\n",
       "<text text-anchor=\"middle\" x=\"224.79\" y=\"-68.3\" font-family=\"Times,serif\" font-size=\"14.00\">B2</text>\n",
       "</g>\n",
       "<!-- B2&#45;&gt;linear2 -->\n",
       "<g id=\"edge11\" class=\"edge\">\n",
       "<title>B2&#45;&gt;linear2</title>\n",
       "<path fill=\"none\" stroke=\"black\" d=\"M246.03,-83.19C258.99,-90.35 276.1,-99.81 290.94,-108.01\"/>\n",
       "<polygon fill=\"black\" stroke=\"black\" points=\"289.38,-111.15 299.83,-112.92 292.77,-105.02 289.38,-111.15\"/>\n",
       "</g>\n",
       "<!-- W3 -->\n",
       "<g id=\"node13\" class=\"node\">\n",
       "<title>W3</title>\n",
       "<ellipse fill=\"none\" stroke=\"black\" cx=\"424.18\" cy=\"-72\" rx=\"27\" ry=\"18\"/>\n",
       "<text text-anchor=\"middle\" x=\"424.18\" y=\"-68.3\" font-family=\"Times,serif\" font-size=\"14.00\">W3</text>\n",
       "</g>\n",
       "<!-- W3&#45;&gt;linear3 -->\n",
       "<g id=\"edge12\" class=\"edge\">\n",
       "<title>W3&#45;&gt;linear3</title>\n",
       "<path fill=\"none\" stroke=\"black\" d=\"M451.36,-72C459.66,-72 469.07,-72 478.28,-72\"/>\n",
       "<polygon fill=\"black\" stroke=\"black\" points=\"478.53,-75.5 488.53,-72 478.53,-68.5 478.53,-75.5\"/>\n",
       "</g>\n",
       "<!-- B3 -->\n",
       "<g id=\"node14\" class=\"node\">\n",
       "<title>B3</title>\n",
       "<ellipse fill=\"none\" stroke=\"black\" cx=\"424.18\" cy=\"-18\" rx=\"27\" ry=\"18\"/>\n",
       "<text text-anchor=\"middle\" x=\"424.18\" y=\"-14.3\" font-family=\"Times,serif\" font-size=\"14.00\">B3</text>\n",
       "</g>\n",
       "<!-- B3&#45;&gt;linear3 -->\n",
       "<g id=\"edge13\" class=\"edge\">\n",
       "<title>B3&#45;&gt;linear3</title>\n",
       "<path fill=\"none\" stroke=\"black\" d=\"M445.42,-29.19C458.38,-36.35 475.49,-45.81 490.33,-54.01\"/>\n",
       "<polygon fill=\"black\" stroke=\"black\" points=\"488.77,-57.15 499.22,-58.92 492.16,-51.02 488.77,-57.15\"/>\n",
       "</g>\n",
       "</g>\n",
       "</svg>\n"
      ],
      "text/plain": [
       "<graphviz.files.Source at 0x7febe9066710>"
      ]
     },
     "execution_count": 9,
     "metadata": {},
     "output_type": "execute_result"
    }
   ],
   "source": [
    "#hide_input\n",
    "gv('''\n",
    "X->linear1->relu1->linear2->relu2->linear3->sigmoid->prediction\n",
    "\n",
    "W1->linear1\n",
    "B1->linear1\n",
    "\n",
    "W2->linear2\n",
    "B2->linear2\n",
    "\n",
    "W3->linear3\n",
    "B3->linear3\n",
    "''')"
   ]
  },
  {
   "cell_type": "code",
   "execution_count": 10,
   "metadata": {},
   "outputs": [
    {
     "data": {
      "image/svg+xml": [
       "<?xml version=\"1.0\" encoding=\"UTF-8\" standalone=\"no\"?>\n",
       "<!DOCTYPE svg PUBLIC \"-//W3C//DTD SVG 1.1//EN\"\n",
       " \"http://www.w3.org/Graphics/SVG/1.1/DTD/svg11.dtd\">\n",
       "<!-- Generated by graphviz version 2.44.0 (20200408.0750)\n",
       " -->\n",
       "<!-- Title: G Pages: 1 -->\n",
       "<svg width=\"299pt\" height=\"98pt\"\n",
       " viewBox=\"0.00 0.00 299.09 98.00\" xmlns=\"http://www.w3.org/2000/svg\" xmlns:xlink=\"http://www.w3.org/1999/xlink\">\n",
       "<g id=\"graph0\" class=\"graph\" transform=\"scale(1 1) rotate(0) translate(4 94)\">\n",
       "<title>G</title>\n",
       "<polygon fill=\"white\" stroke=\"transparent\" points=\"-4,4 -4,-94 295.09,-94 295.09,4 -4,4\"/>\n",
       "<!-- prediction -->\n",
       "<g id=\"node1\" class=\"node\">\n",
       "<title>prediction</title>\n",
       "<ellipse fill=\"none\" stroke=\"black\" cx=\"46.15\" cy=\"-72\" rx=\"46.29\" ry=\"18\"/>\n",
       "<text text-anchor=\"middle\" x=\"46.15\" y=\"-68.3\" font-family=\"Times,serif\" font-size=\"14.00\">prediction</text>\n",
       "</g>\n",
       "<!-- loss_fn -->\n",
       "<g id=\"node2\" class=\"node\">\n",
       "<title>loss_fn</title>\n",
       "<ellipse fill=\"none\" stroke=\"black\" cx=\"164.69\" cy=\"-45\" rx=\"36.29\" ry=\"18\"/>\n",
       "<text text-anchor=\"middle\" x=\"164.69\" y=\"-41.3\" font-family=\"Times,serif\" font-size=\"14.00\">loss_fn</text>\n",
       "</g>\n",
       "<!-- prediction&#45;&gt;loss_fn -->\n",
       "<g id=\"edge1\" class=\"edge\">\n",
       "<title>prediction&#45;&gt;loss_fn</title>\n",
       "<path fill=\"none\" stroke=\"black\" d=\"M86.28,-62.93C97.63,-60.3 110.08,-57.42 121.6,-54.75\"/>\n",
       "<polygon fill=\"black\" stroke=\"black\" points=\"122.49,-58.14 131.45,-52.47 120.91,-51.32 122.49,-58.14\"/>\n",
       "</g>\n",
       "<!-- loss -->\n",
       "<g id=\"node4\" class=\"node\">\n",
       "<title>loss</title>\n",
       "<ellipse fill=\"none\" stroke=\"black\" cx=\"264.09\" cy=\"-45\" rx=\"27\" ry=\"18\"/>\n",
       "<text text-anchor=\"middle\" x=\"264.09\" y=\"-41.3\" font-family=\"Times,serif\" font-size=\"14.00\">loss</text>\n",
       "</g>\n",
       "<!-- loss_fn&#45;&gt;loss -->\n",
       "<g id=\"edge3\" class=\"edge\">\n",
       "<title>loss_fn&#45;&gt;loss</title>\n",
       "<path fill=\"none\" stroke=\"black\" d=\"M201.13,-45C209.46,-45 218.36,-45 226.74,-45\"/>\n",
       "<polygon fill=\"black\" stroke=\"black\" points=\"226.99,-48.5 236.99,-45 226.99,-41.5 226.99,-48.5\"/>\n",
       "</g>\n",
       "<!-- target -->\n",
       "<g id=\"node3\" class=\"node\">\n",
       "<title>target</title>\n",
       "<ellipse fill=\"none\" stroke=\"black\" cx=\"46.15\" cy=\"-18\" rx=\"30.59\" ry=\"18\"/>\n",
       "<text text-anchor=\"middle\" x=\"46.15\" y=\"-14.3\" font-family=\"Times,serif\" font-size=\"14.00\">target</text>\n",
       "</g>\n",
       "<!-- target&#45;&gt;loss_fn -->\n",
       "<g id=\"edge2\" class=\"edge\">\n",
       "<title>target&#45;&gt;loss_fn</title>\n",
       "<path fill=\"none\" stroke=\"black\" d=\"M74.76,-24.4C88.68,-27.62 105.85,-31.6 121.39,-35.2\"/>\n",
       "<polygon fill=\"black\" stroke=\"black\" points=\"120.78,-38.65 131.31,-37.5 122.36,-31.83 120.78,-38.65\"/>\n",
       "</g>\n",
       "</g>\n",
       "</svg>\n"
      ],
      "text/plain": [
       "<graphviz.files.Source at 0x7febe920de10>"
      ]
     },
     "execution_count": 10,
     "metadata": {},
     "output_type": "execute_result"
    }
   ],
   "source": [
    "#hide_input\n",
    "gv('''\n",
    "prediction->loss_fn\n",
    "target->loss_fn\n",
    "loss_fn-> loss\n",
    "''')"
   ]
  },
  {
   "cell_type": "markdown",
   "metadata": {},
   "source": [
    "**Consequently our backward pass would look something like this :** \n",
    "\n",
    "(Let us assume that the `grad(inp, out)` computes the gradients of `inp` wrt `out`)\n",
    "\n",
    "```python\n",
    "# gradient of loss wrt to the output of the last activation layer: (a3)\n",
    "# (or the predictions of model)\n",
    "da3 = grad(loss, a3)\n",
    "\n",
    "# gradient of loss wrt to the output of the current linear layer: (z3)\n",
    "dz3 = grad(loss, z3) = grad(loss, a3) * grad(a3, z3)\n",
    "# gradient of loss wrt to w3\n",
    "dw3 = grad(loss, w3) = grad(loss, z3) * grad(z3, w3) = dz3 * grad(z3, w3)\n",
    "# gradient of loss wrt to b3\n",
    "db3 = grad(loss, b3) = grad(loss, z3) * grad(z3, b3) = dz3 * grad(z3, b3)\n",
    "# gradient of loss wrt to the input of the current linear layer: (a2)\n",
    "da2 = grad(loss, a2) = grad(loss, a3) = grad(a2, )\n",
    "\n",
    "# gradient of loss wrt to the output of the current linear layer: (z2)\n",
    "dz2 = grad(loss, z2) = grad(loss, a2) * grad(a2, z2) \n",
    "# gradient of loss wrt to w2\n",
    "dw2 = grad(loss, w2) = grad(loss, z2) * grad(z2, w2) = dz2 * grad(z2, w2)\n",
    "# gradient of loss wrt to b2\n",
    "db2 = grad(loss, b2) = grad(loss, z2) * grad(z2, b2) = dz2 * grad(z2, b2)\n",
    "# gradient of loss wrt to the input of the current linear layer: (a1)\n",
    "da1 = grad(loss, a1) = grad(loss, z2) * grad(z2, a1) = dz2 * grad(z2, a1)\n",
    "\n",
    "# gradient of loss wrt to the output of the current linear layer: (z1)\n",
    "dz1 = grad(loss, z1) = grad(loss, a1) * grad(a1, z1) = da1 * grad(a1, z1)\n",
    "# gradient of loss wrt to w1\n",
    "dw1 = grad(loss, w1) = grad(loss, z1) * grad(z1, w1) = dz1 * grad(z1, w1)\n",
    "# gradient of loss wrt to b1\n",
    "db1 = grad(loss, b1) = grad(loss, z1) * grad(z1, 1) = dz1 * grad(z1, b1)\n",
    "# In this layer the inputs are out training examples which we cannot change so\n",
    "# we do not need to commpute more gradients\n",
    "\n",
    "# Update parameters :\n",
    "# since we now have all the required gradients we can now perform the update step\n",
    "w1 -= learning_rate * dw1\n",
    "b1 -= learning_rate * db1\n",
    "\n",
    "w2 -= learning_rate * dw2\n",
    "b2 -= learning_rate * db2\n",
    "```\n",
    "> Note: This is not actual code it's just psuedo-code for understanding."
   ]
  },
  {
   "cell_type": "markdown",
   "metadata": {},
   "source": [
    "**Backward pass:**"
   ]
  },
  {
   "cell_type": "code",
   "execution_count": 11,
   "metadata": {},
   "outputs": [
    {
     "data": {
      "image/svg+xml": [
       "<?xml version=\"1.0\" encoding=\"UTF-8\" standalone=\"no\"?>\n",
       "<!DOCTYPE svg PUBLIC \"-//W3C//DTD SVG 1.1//EN\"\n",
       " \"http://www.w3.org/Graphics/SVG/1.1/DTD/svg11.dtd\">\n",
       "<!-- Generated by graphviz version 2.44.0 (20200408.0750)\n",
       " -->\n",
       "<!-- Title: G Pages: 1 -->\n",
       "<svg width=\"773pt\" height=\"233pt\"\n",
       " viewBox=\"0.00 0.00 772.86 233.00\" xmlns=\"http://www.w3.org/2000/svg\" xmlns:xlink=\"http://www.w3.org/1999/xlink\">\n",
       "<g id=\"graph0\" class=\"graph\" transform=\"scale(1 1) rotate(0) translate(4 229)\">\n",
       "<title>G</title>\n",
       "<polygon fill=\"white\" stroke=\"transparent\" points=\"-4,4 -4,-229 768.86,-229 768.86,4 -4,4\"/>\n",
       "<!-- Loss -->\n",
       "<g id=\"node1\" class=\"node\">\n",
       "<title>Loss</title>\n",
       "<ellipse fill=\"none\" stroke=\"black\" cx=\"27.3\" cy=\"-153\" rx=\"27.1\" ry=\"18\"/>\n",
       "<text text-anchor=\"middle\" x=\"27.3\" y=\"-149.3\" font-family=\"Times,serif\" font-size=\"14.00\">Loss</text>\n",
       "</g>\n",
       "<!-- sigmoid -->\n",
       "<g id=\"node2\" class=\"node\">\n",
       "<title>sigmoid</title>\n",
       "<ellipse fill=\"none\" stroke=\"black\" cx=\"130.24\" cy=\"-153\" rx=\"39.79\" ry=\"18\"/>\n",
       "<text text-anchor=\"middle\" x=\"130.24\" y=\"-149.3\" font-family=\"Times,serif\" font-size=\"14.00\">sigmoid</text>\n",
       "</g>\n",
       "<!-- Loss&#45;&gt;sigmoid -->\n",
       "<g id=\"edge1\" class=\"edge\">\n",
       "<title>Loss&#45;&gt;sigmoid</title>\n",
       "<path fill=\"none\" stroke=\"black\" d=\"M54.82,-153C62.63,-153 71.43,-153 80.18,-153\"/>\n",
       "<polygon fill=\"black\" stroke=\"black\" points=\"80.36,-156.5 90.36,-153 80.36,-149.5 80.36,-156.5\"/>\n",
       "</g>\n",
       "<!-- linear3 -->\n",
       "<g id=\"node3\" class=\"node\">\n",
       "<title>linear3</title>\n",
       "<ellipse fill=\"none\" stroke=\"black\" cx=\"240.99\" cy=\"-153\" rx=\"35.19\" ry=\"18\"/>\n",
       "<text text-anchor=\"middle\" x=\"240.99\" y=\"-149.3\" font-family=\"Times,serif\" font-size=\"14.00\">linear3</text>\n",
       "</g>\n",
       "<!-- sigmoid&#45;&gt;linear3 -->\n",
       "<g id=\"edge2\" class=\"edge\">\n",
       "<title>sigmoid&#45;&gt;linear3</title>\n",
       "<path fill=\"none\" stroke=\"black\" d=\"M170.19,-153C178.43,-153 187.17,-153 195.59,-153\"/>\n",
       "<polygon fill=\"black\" stroke=\"black\" points=\"195.63,-156.5 205.63,-153 195.63,-149.5 195.63,-156.5\"/>\n",
       "</g>\n",
       "<!-- W3 -->\n",
       "<g id=\"node4\" class=\"node\">\n",
       "<title>W3</title>\n",
       "<ellipse fill=\"none\" stroke=\"black\" cx=\"340.68\" cy=\"-207\" rx=\"27\" ry=\"18\"/>\n",
       "<text text-anchor=\"middle\" x=\"340.68\" y=\"-203.3\" font-family=\"Times,serif\" font-size=\"14.00\">W3</text>\n",
       "</g>\n",
       "<!-- linear3&#45;&gt;W3 -->\n",
       "<g id=\"edge3\" class=\"edge\">\n",
       "<title>linear3&#45;&gt;W3</title>\n",
       "<path fill=\"none\" stroke=\"black\" d=\"M265.63,-166.07C279.07,-173.5 296,-182.86 310.29,-190.75\"/>\n",
       "<polygon fill=\"black\" stroke=\"black\" points=\"308.78,-193.92 319.23,-195.69 312.17,-187.79 308.78,-193.92\"/>\n",
       "</g>\n",
       "<!-- B3 -->\n",
       "<g id=\"node5\" class=\"node\">\n",
       "<title>B3</title>\n",
       "<ellipse fill=\"none\" stroke=\"black\" cx=\"340.68\" cy=\"-153\" rx=\"27\" ry=\"18\"/>\n",
       "<text text-anchor=\"middle\" x=\"340.68\" y=\"-149.3\" font-family=\"Times,serif\" font-size=\"14.00\">B3</text>\n",
       "</g>\n",
       "<!-- linear3&#45;&gt;B3 -->\n",
       "<g id=\"edge4\" class=\"edge\">\n",
       "<title>linear3&#45;&gt;B3</title>\n",
       "<path fill=\"none\" stroke=\"black\" d=\"M276.15,-153C284.93,-153 294.41,-153 303.3,-153\"/>\n",
       "<polygon fill=\"black\" stroke=\"black\" points=\"303.38,-156.5 313.38,-153 303.38,-149.5 303.38,-156.5\"/>\n",
       "</g>\n",
       "<!-- relu2 -->\n",
       "<g id=\"node6\" class=\"node\">\n",
       "<title>relu2</title>\n",
       "<ellipse fill=\"none\" stroke=\"black\" cx=\"340.68\" cy=\"-99\" rx=\"28.7\" ry=\"18\"/>\n",
       "<text text-anchor=\"middle\" x=\"340.68\" y=\"-95.3\" font-family=\"Times,serif\" font-size=\"14.00\">relu2</text>\n",
       "</g>\n",
       "<!-- linear3&#45;&gt;relu2 -->\n",
       "<g id=\"edge5\" class=\"edge\">\n",
       "<title>linear3&#45;&gt;relu2</title>\n",
       "<path fill=\"none\" stroke=\"black\" d=\"M265.63,-139.93C278.88,-132.61 295.54,-123.4 309.69,-115.57\"/>\n",
       "<polygon fill=\"black\" stroke=\"black\" points=\"311.52,-118.57 318.58,-110.67 308.13,-112.44 311.52,-118.57\"/>\n",
       "</g>\n",
       "<!-- linear2 -->\n",
       "<g id=\"node7\" class=\"node\">\n",
       "<title>linear2</title>\n",
       "<ellipse fill=\"none\" stroke=\"black\" cx=\"440.37\" cy=\"-99\" rx=\"35.19\" ry=\"18\"/>\n",
       "<text text-anchor=\"middle\" x=\"440.37\" y=\"-95.3\" font-family=\"Times,serif\" font-size=\"14.00\">linear2</text>\n",
       "</g>\n",
       "<!-- relu2&#45;&gt;linear2 -->\n",
       "<g id=\"edge6\" class=\"edge\">\n",
       "<title>relu2&#45;&gt;linear2</title>\n",
       "<path fill=\"none\" stroke=\"black\" d=\"M369.41,-99C377.36,-99 386.23,-99 394.91,-99\"/>\n",
       "<polygon fill=\"black\" stroke=\"black\" points=\"394.96,-102.5 404.96,-99 394.96,-95.5 394.96,-102.5\"/>\n",
       "</g>\n",
       "<!-- W2 -->\n",
       "<g id=\"node8\" class=\"node\">\n",
       "<title>W2</title>\n",
       "<ellipse fill=\"none\" stroke=\"black\" cx=\"540.07\" cy=\"-153\" rx=\"27\" ry=\"18\"/>\n",
       "<text text-anchor=\"middle\" x=\"540.07\" y=\"-149.3\" font-family=\"Times,serif\" font-size=\"14.00\">W2</text>\n",
       "</g>\n",
       "<!-- linear2&#45;&gt;W2 -->\n",
       "<g id=\"edge7\" class=\"edge\">\n",
       "<title>linear2&#45;&gt;W2</title>\n",
       "<path fill=\"none\" stroke=\"black\" d=\"M465.02,-112.07C478.46,-119.5 495.39,-128.86 509.67,-136.75\"/>\n",
       "<polygon fill=\"black\" stroke=\"black\" points=\"508.17,-139.92 518.61,-141.69 511.56,-133.79 508.17,-139.92\"/>\n",
       "</g>\n",
       "<!-- B2 -->\n",
       "<g id=\"node9\" class=\"node\">\n",
       "<title>B2</title>\n",
       "<ellipse fill=\"none\" stroke=\"black\" cx=\"540.07\" cy=\"-99\" rx=\"27\" ry=\"18\"/>\n",
       "<text text-anchor=\"middle\" x=\"540.07\" y=\"-95.3\" font-family=\"Times,serif\" font-size=\"14.00\">B2</text>\n",
       "</g>\n",
       "<!-- linear2&#45;&gt;B2 -->\n",
       "<g id=\"edge8\" class=\"edge\">\n",
       "<title>linear2&#45;&gt;B2</title>\n",
       "<path fill=\"none\" stroke=\"black\" d=\"M475.54,-99C484.32,-99 493.8,-99 502.69,-99\"/>\n",
       "<polygon fill=\"black\" stroke=\"black\" points=\"502.77,-102.5 512.77,-99 502.77,-95.5 502.77,-102.5\"/>\n",
       "</g>\n",
       "<!-- relu1 -->\n",
       "<g id=\"node10\" class=\"node\">\n",
       "<title>relu1</title>\n",
       "<ellipse fill=\"none\" stroke=\"black\" cx=\"540.07\" cy=\"-45\" rx=\"28.7\" ry=\"18\"/>\n",
       "<text text-anchor=\"middle\" x=\"540.07\" y=\"-41.3\" font-family=\"Times,serif\" font-size=\"14.00\">relu1</text>\n",
       "</g>\n",
       "<!-- linear2&#45;&gt;relu1 -->\n",
       "<g id=\"edge9\" class=\"edge\">\n",
       "<title>linear2&#45;&gt;relu1</title>\n",
       "<path fill=\"none\" stroke=\"black\" d=\"M465.02,-85.93C478.27,-78.61 494.93,-69.4 509.08,-61.57\"/>\n",
       "<polygon fill=\"black\" stroke=\"black\" points=\"510.9,-64.57 517.96,-56.67 507.52,-58.44 510.9,-64.57\"/>\n",
       "</g>\n",
       "<!-- linear1 -->\n",
       "<g id=\"node11\" class=\"node\">\n",
       "<title>linear1</title>\n",
       "<ellipse fill=\"none\" stroke=\"black\" cx=\"639.76\" cy=\"-45\" rx=\"35.19\" ry=\"18\"/>\n",
       "<text text-anchor=\"middle\" x=\"639.76\" y=\"-41.3\" font-family=\"Times,serif\" font-size=\"14.00\">linear1</text>\n",
       "</g>\n",
       "<!-- relu1&#45;&gt;linear1 -->\n",
       "<g id=\"edge10\" class=\"edge\">\n",
       "<title>relu1&#45;&gt;linear1</title>\n",
       "<path fill=\"none\" stroke=\"black\" d=\"M568.8,-45C576.75,-45 585.62,-45 594.3,-45\"/>\n",
       "<polygon fill=\"black\" stroke=\"black\" points=\"594.34,-48.5 604.34,-45 594.34,-41.5 594.34,-48.5\"/>\n",
       "</g>\n",
       "<!-- W1 -->\n",
       "<g id=\"node12\" class=\"node\">\n",
       "<title>W1</title>\n",
       "<ellipse fill=\"none\" stroke=\"black\" cx=\"737.86\" cy=\"-72\" rx=\"27\" ry=\"18\"/>\n",
       "<text text-anchor=\"middle\" x=\"737.86\" y=\"-68.3\" font-family=\"Times,serif\" font-size=\"14.00\">W1</text>\n",
       "</g>\n",
       "<!-- linear1&#45;&gt;W1 -->\n",
       "<g id=\"edge11\" class=\"edge\">\n",
       "<title>linear1&#45;&gt;W1</title>\n",
       "<path fill=\"none\" stroke=\"black\" d=\"M670.9,-53.47C681.08,-56.33 692.51,-59.54 702.96,-62.48\"/>\n",
       "<polygon fill=\"black\" stroke=\"black\" points=\"702.03,-65.85 712.6,-65.19 703.92,-59.11 702.03,-65.85\"/>\n",
       "</g>\n",
       "<!-- B1 -->\n",
       "<g id=\"node13\" class=\"node\">\n",
       "<title>B1</title>\n",
       "<ellipse fill=\"none\" stroke=\"black\" cx=\"737.86\" cy=\"-18\" rx=\"27\" ry=\"18\"/>\n",
       "<text text-anchor=\"middle\" x=\"737.86\" y=\"-14.3\" font-family=\"Times,serif\" font-size=\"14.00\">B1</text>\n",
       "</g>\n",
       "<!-- linear1&#45;&gt;B1 -->\n",
       "<g id=\"edge12\" class=\"edge\">\n",
       "<title>linear1&#45;&gt;B1</title>\n",
       "<path fill=\"none\" stroke=\"black\" d=\"M670.9,-36.53C681.08,-33.67 692.51,-30.46 702.96,-27.52\"/>\n",
       "<polygon fill=\"black\" stroke=\"black\" points=\"703.92,-30.89 712.6,-24.81 702.03,-24.15 703.92,-30.89\"/>\n",
       "</g>\n",
       "</g>\n",
       "</svg>\n"
      ],
      "text/plain": [
       "<graphviz.files.Source at 0x7febe92148d0>"
      ]
     },
     "execution_count": 11,
     "metadata": {},
     "output_type": "execute_result"
    }
   ],
   "source": [
    "#hide_input\n",
    "gv('''\n",
    "Loss -> sigmoid->linear3\n",
    "linear3->W3\n",
    "linear3->B3\n",
    "linear3->relu2->linear2\n",
    "\n",
    "linear2->W2\n",
    "linear2->B2\n",
    "linear2->relu1->linear1\n",
    "\n",
    "linear1->W1\n",
    "linear1->B1\n",
    "''')"
   ]
  },
  {
   "cell_type": "markdown",
   "metadata": {},
   "source": [
    "### The `Linear` Layer "
   ]
  },
  {
   "cell_type": "markdown",
   "metadata": {},
   "source": [
    "Below code creates a `Linear class` which represents a `Linear` layer in our neural-network. The `forward function` of the class implements the of the `layer's forward propagation` & the `backward function` implements the `layers's backward propagation`. Let's go to detail into what the code means:\n",
    "\n",
    "- **Forward:**  \n",
    "This part is quite straight-forward it computes the dot-product between the **`input`** and the **`weights`** & adds the **`bias`** term to get **`z`**. It also stores all the intermidiate values generated to use in the backward pass.\n",
    "\n",
    "\n",
    "- **Backward:**\n",
    "    * The backward method of the class **`Linear`** takes in the argument **`grads`**. \n",
    "    * **`grads`** is the gradient of the loss wrt to the output of the current linear layer ie., **`dz`** if we were to follow the nomenclature of our pseudo-code.\n",
    "    * To succesfully compute the backward pass for our linear layer we need the following:\n",
    "        - **`grad(z, w)`** \n",
    "        - **`grad(z, b)`**\n",
    "        - **`grad(z, a_prev)`**"
   ]
  },
  {
   "cell_type": "markdown",
   "metadata": {},
   "source": [
    "\n",
    "\n",
    "> Note: `z`, `w`, `b`, `a_prev` are the outputs, weights, bias and input-activations of the Linear layer respectively."
   ]
  },
  {
   "cell_type": "code",
   "execution_count": 12,
   "metadata": {},
   "outputs": [],
   "source": [
    "class Linear:\n",
    "    def __init__(self, w, b):\n",
    "        self.w = w\n",
    "        self.b = b\n",
    "        \n",
    "    def forward(self, inp):\n",
    "        \"\"\"\n",
    "        Implement the linear part of a layer's forward propagation.\n",
    "        \n",
    "        Args:\n",
    "            inp : activations from previous layer (or input data)\n",
    "        \n",
    "        Returns:\n",
    "\n",
    "            z  : the input of the activation function, also called pre-activation parameter \n",
    "        \"\"\"\n",
    "        self.inp = inp\n",
    "        self.z   = inp @ self.w + self.b\n",
    "        return self.z\n",
    "    \n",
    "    def backward(self, grads):\n",
    "        \"\"\"\n",
    "        Implement the linear portion of backward propagation for a single layer.\n",
    "\n",
    "        Args:\n",
    "            grads :  Gradient of the cost with respect to the linear output. \n",
    "                     or the accumulated gradients from the prev layers. \n",
    "                     This is used for the chain rule to compute the gradients.\n",
    "        Returns:\n",
    "            da : Gradient of cost wrt to the activation of the previous layer or the input of the \n",
    "                 current layer.\n",
    "            dw : Gradient of the cost with respect to W\n",
    "            db : Gradient of the cost with respect to b\n",
    "        \"\"\"\n",
    "        m = self.inp.shape[1]\n",
    "        # gradient of loss wrt to the weights\n",
    "        dw = 1/m * (self.inp.T @ grads)\n",
    "        # gradient of the loss wrt to the bias\n",
    "        db = 1/m * np.sum(grads, axis=0, keepdims=True)\n",
    "        # gradient of the loss wrt to the input of the linear layer\n",
    "        # this is used to continue the chain rule\n",
    "        da_prev = grads @ self.w.T \n",
    "        return (da_prev, dw, db)"
   ]
  },
  {
   "cell_type": "markdown",
   "metadata": {},
   "source": [
    "### The `ReLU` Layer"
   ]
  },
  {
   "cell_type": "markdown",
   "metadata": {},
   "source": [
    "- **Forward**:  \n",
    "The mathematical formula for ReLU is $A = RELU(Z) = max(0, Z)$\n",
    "- **Backward**:  \n",
    "During the backward pass the relu accepts the gradients of the `loss wrt to the activation` i.e, `da` then computes\n",
    "the gradients of the `loss wrt to the input-of-relu(z)` i.e, `dz`."
   ]
  },
  {
   "cell_type": "code",
   "execution_count": 13,
   "metadata": {},
   "outputs": [],
   "source": [
    "class RelU:\n",
    "    def forward(self, inp):\n",
    "        \"\"\"\n",
    "        Implement the RELU function.\n",
    "\n",
    "        Args:\n",
    "            inp : Output of the linear layer, of any shape\n",
    "\n",
    "        Returns:\n",
    "            a  : Post-activation parameter, of the same shape as Z\n",
    "        \"\"\"\n",
    "        self.inp = inp\n",
    "        self.output = np.maximum(0, self.inp)\n",
    "        return self.output\n",
    "    \n",
    "    def backward(self, grads):\n",
    "        \"\"\"\n",
    "        Implement the backward propagation for a single RELU unit.\n",
    "\n",
    "        Ars:\n",
    "            grads : gradients of the loss wrt to the activation output\n",
    "\n",
    "        Returns:\n",
    "            dz : Gradient of the loss with respect to the input of the activation\n",
    "        \"\"\"\n",
    "        dz = np.array(grads, copy=True)\n",
    "        dz[self.inp <= 0] = 0\n",
    "        return dz"
   ]
  },
  {
   "cell_type": "markdown",
   "metadata": {},
   "source": [
    "### The `sigmoid` Layer"
   ]
  },
  {
   "cell_type": "markdown",
   "metadata": {},
   "source": [
    "The sigmoid layer functions in exactly the same way as the `ReLU` layer . The only difference is the forward pass output calculation. \n",
    "\n",
    "\n",
    "In the `sigmoid layer`:  $\\sigma(Z) = \\frac{1}{ 1 + e^{-(W A + b)}}$"
   ]
  },
  {
   "cell_type": "code",
   "execution_count": 14,
   "metadata": {},
   "outputs": [],
   "source": [
    "class Sigmoid:\n",
    "    def forward(self, inp):\n",
    "        \"\"\"\n",
    "        Implements the sigmoid activation in numpy\n",
    "\n",
    "        Args:\n",
    "            inp: numpy array of any shape\n",
    "\n",
    "        Returns:\n",
    "            a  : output of sigmoid(z), same shape as inp\n",
    "        \"\"\"\n",
    "        self.inp = inp\n",
    "        self.out =  1/(1+np.exp(-self.inp))\n",
    "        return self.out\n",
    "    \n",
    "    def backward(self, grads):\n",
    "        \"\"\"\n",
    "        Implement the backward propagation for a single sigmoid unit.\n",
    "\n",
    "        Args:\n",
    "            grads : gradients of the loss wrt to the activation output\n",
    "\n",
    "        Returns:\n",
    "            dz : Gradient of the loss with respect to the input of the activation\n",
    "        \"\"\"\n",
    "        s = 1/(1+np.exp(-self.inp))\n",
    "        dz = grads * s * (1-s)\n",
    "        return dz"
   ]
  },
  {
   "cell_type": "markdown",
   "metadata": {},
   "source": [
    "## `Loss` function :"
   ]
  },
  {
   "cell_type": "markdown",
   "metadata": {},
   "source": [
    "For this task we are going to use the [CrossEntropy Loss](https://en.wikipedia.org/wiki/Cross_entropy)\n",
    "\n",
    "The `forward` pass of the CrossEntropy Loss is computed as follows: \n",
    "$$loss= -\\frac{1}{m} \\sum\\limits_{i = 1}^{m} (y^{(i)}\\log\\left(yhat^{(i)}\\right) + (1-y^{(i)})\\log\\left(1-yhat^{(i)}\\right)) $$"
   ]
  },
  {
   "cell_type": "code",
   "execution_count": 15,
   "metadata": {},
   "outputs": [],
   "source": [
    "class CELoss():\n",
    "    def forward(self, pred, target):\n",
    "        \"\"\"\n",
    "        Implement the CrossEntropy loss function.\n",
    "\n",
    "        Args:\n",
    "            pred   : predicted labels from the neural network\n",
    "            target : true \"label\" labels\n",
    "        Returns:\n",
    "            loss   : cross-entropy loss\n",
    "        \"\"\"\n",
    "        self.yhat = pred\n",
    "        self.y = target\n",
    "        m = self.y.shape[0]\n",
    "        # commpute loss\n",
    "        term1 = (np.multiply(self.y, np.log(self.yhat)))\n",
    "        term2 = (np.multiply((1-self.y),(np.log(1-self.yhat))))\n",
    "        loss = -1/m * np.sum(term1+term2)\n",
    "        self.output = loss\n",
    "        return np.squeeze(self.output) # convert array to a single value number\n",
    "    \n",
    "    def backward(self):\n",
    "        \"\"\"\n",
    "        Computes the gradinets of the loss_fn wrt to the predicted labels\n",
    "        \n",
    "        Returns:\n",
    "         da : derivative of loss_fn wrt to the predicted labels\n",
    "        \"\"\"\n",
    "        # derivative of loss_fn with respect to a [predicted labels]\n",
    "        da = - (np.divide(self.y, self.yhat) - np.divide(1 - self.y, 1 - self.yhat)) \n",
    "        return da"
   ]
  },
  {
   "cell_type": "markdown",
   "metadata": {},
   "source": [
    "## Model:\n",
    "\n",
    "**Let's go over the architecture that we are going to use for our neural netwok:**\n",
    "\n",
    "- Our model is going to have 2 hidden layers and a output layer. \n",
    "- The 2 `hidden layers` `(linear layers)` are going to have `16 units` each followed by a `ReLU` activation layer and the `output layer` `(linear layer)` is going to have `1 unit` followed by a `Sigmoid` unit. \n",
    "- The output layer is going to predict the `probability` of wether the given input is either a `0` or a `1`. If the predicted probability is `> 0.5 we` will assumse that the `predicted output` is `1` else `0`."
   ]
  },
  {
   "cell_type": "markdown",
   "metadata": {},
   "source": [
    "Let's assemble the layers required to construct out model:"
   ]
  },
  {
   "cell_type": "markdown",
   "metadata": {},
   "source": [
    "**These are our inputs and targets:**"
   ]
  },
  {
   "cell_type": "code",
   "execution_count": 33,
   "metadata": {},
   "outputs": [
    {
     "name": "stdout",
     "output_type": "stream",
     "text": [
      "Shape of Inputs: (10610, 784)\n",
      "Shape of Targets: (10610, 1)\n"
     ]
    },
    {
     "data": {
      "image/png": "[encoded data removed]",
      "text/plain": [
       "<Figure size 864x360 with 10 Axes>"
      ]
     },
     "metadata": {
      "needs_background": "light"
     },
     "output_type": "display_data"
    }
   ],
   "source": [
    "#collapse\n",
    "print(\"Shape of Inputs:\", x_train.shape)\n",
    "print(\"Shape of Targets:\", y_train.shape)\n",
    "\n",
    "fig = plt.figure(figsize=(12,5))\n",
    "for i in range(10):\n",
    "    n = np.random.randint(len(x_train))\n",
    "    val = x_train[n]\n",
    "    ax = plt.subplot(2, 5, i+1)\n",
    "    plt.imshow(val.reshape(28,28), cmap=\"binary\")\n",
    "    plt.title(f\"Target value: {y_train[n].squeeze()}\")\n",
    "    plt.axis(\"off\")"
   ]
  },
  {
   "cell_type": "markdown",
   "metadata": {},
   "source": [
    "**Initialize model parameters:**"
   ]
  },
  {
   "cell_type": "code",
   "execution_count": 17,
   "metadata": {},
   "outputs": [
    {
     "data": {
      "text/plain": [
       "((784, 16), (1, 16), (16, 16), (1, 16), (16, 1), (1, 1))"
      ]
     },
     "execution_count": 17,
     "metadata": {},
     "output_type": "execute_result"
    }
   ],
   "source": [
    "#hide_output\n",
    "\n",
    "nh1 = 16 # no. of units in the first hidden layer\n",
    "nh2 = 16 # no. of units in the 2nd hidden layer\n",
    "nh3 = 1 # no. of units in the output layer\n",
    "\n",
    "w1  = np.random.randn(x_train.shape[1], nh1) * 0.01\n",
    "b1  = np.zeros((1, nh1))\n",
    "\n",
    "w2  = np.random.randn(nh1, nh2) * 0.01\n",
    "b2  = np.zeros((1, nh2))\n",
    "\n",
    "w3  = np.random.randn(nh2, nh3)\n",
    "b3  = np.zeros((1, nh3))\n",
    "\n",
    "w1.shape, b1.shape, w2.shape, b2.shape, w3.shape, b3.shape"
   ]
  },
  {
   "cell_type": "markdown",
   "metadata": {},
   "source": [
    "**Instaniating the layers needed to construct our model:**"
   ]
  },
  {
   "cell_type": "code",
   "execution_count": 18,
   "metadata": {},
   "outputs": [],
   "source": [
    "lin1    = Linear(w1,b1) # 1 hidden layer\n",
    "relu1   = RelU()\n",
    "lin2    = Linear(w2,b2) # 2nd hidden layer\n",
    "relu2   = RelU()\n",
    "lin3    = Linear(w3,b3) # output layer\n",
    "sigmoid = Sigmoid()\n",
    "\n",
    "loss_fn = CELoss() # loss_fn"
   ]
  },
  {
   "cell_type": "markdown",
   "metadata": {},
   "source": [
    "### Forward pass:"
   ]
  },
  {
   "cell_type": "code",
   "execution_count": 19,
   "metadata": {},
   "outputs": [
    {
     "name": "stdout",
     "output_type": "stream",
     "text": [
      "Loss: 0.6914281432245456\n"
     ]
    }
   ],
   "source": [
    "# forward pass\n",
    "z1   = lin1.forward(x_train)\n",
    "a1   = relu1.forward(z1)\n",
    "z2   = lin2.forward(a1)\n",
    "a2   = relu2.forward(z2)\n",
    "z3   = lin3.forward(a2)\n",
    "pred = a3 = sigmoid.forward(z3)\n",
    "\n",
    "# calculate loss\n",
    "loss = loss_fn.forward(pred, y_train)\n",
    "print(\"Loss:\", loss) # print out the loss"
   ]
  },
  {
   "cell_type": "markdown",
   "metadata": {},
   "source": [
    "### Backward pass:"
   ]
  },
  {
   "cell_type": "code",
   "execution_count": 20,
   "metadata": {},
   "outputs": [],
   "source": [
    "# backward pass\n",
    "da3 = loss_fn.backward() # gradient of loss wrt to final output\n",
    "dz3 = sigmoid.backward(da3)\n",
    "\n",
    "da2, dw3, db3 = lin3.backward(dz3)\n",
    "\n",
    "dz2 = relu2.backward(da2)\n",
    "da1, dw2, db2 = lin2.backward(dz2)\n",
    "\n",
    "dz1 = relu1.backward(da1)\n",
    "_, dw1, db1 = lin1.backward(da1)\n",
    "\n",
    "# check if the parameters and the gradients are of same shape\n",
    "# so that we can preform the update state\n",
    "assert lin1.w.shape == dw1.shape\n",
    "assert lin2.w.shape == dw2.shape\n",
    "assert lin3.w.shape == dw3.shape\n",
    "\n",
    "assert lin1.b.shape == db1.shape\n",
    "assert lin2.b.shape == db2.shape\n",
    "assert lin3.b.shape == db3.shape"
   ]
  },
  {
   "cell_type": "markdown",
   "metadata": {},
   "source": [
    "### Update parameters:"
   ]
  },
  {
   "cell_type": "code",
   "execution_count": 21,
   "metadata": {},
   "outputs": [],
   "source": [
    "# set learning rate\n",
    "learning_rate = 0.0002\n",
    "\n",
    "# update parameters \n",
    "lin1.w -= learning_rate * dw1\n",
    "lin2.w -= learning_rate * dw2\n",
    "lin3.w -= learning_rate * dw3\n",
    "\n",
    "lin1.b -= learning_rate * db1\n",
    "lin2.b -= learning_rate * db2\n",
    "lin3.b -= learning_rate * db3"
   ]
  },
  {
   "cell_type": "markdown",
   "metadata": {},
   "source": [
    "So, this is how our training our model is going to look we first calculate the `loss` of the model during the `forward pass` , then we calculate the gradients of the `loss` wrt to the `parameters` of the model. After which these `gradients` are used to `update the model parameters`. We continue this workflow for a certain number of `iterations` or until our `loss` reaches the desired value.\n",
    "\n",
    "Let's code up a class which will make this steps easir to achieve."
   ]
  },
  {
   "cell_type": "markdown",
   "metadata": {},
   "source": [
    "### Putting it all together:"
   ]
  },
  {
   "cell_type": "markdown",
   "metadata": {},
   "source": [
    "- **Initializing parameters:**"
   ]
  },
  {
   "cell_type": "code",
   "execution_count": 22,
   "metadata": {},
   "outputs": [
    {
     "data": {
      "text/plain": [
       "((784, 16), (1, 16), (16, 16), (1, 16), (16, 1), (1, 1))"
      ]
     },
     "execution_count": 22,
     "metadata": {},
     "output_type": "execute_result"
    }
   ],
   "source": [
    "#hide_output\n",
    "\n",
    "# Instantiate parameters\n",
    "nh1 = 16 # no. of units in the first hidden layer\n",
    "nh2 = 16 # no. of units in the 2nd hidden layer\n",
    "nh3 = 1 # no. of units in the output layer\n",
    "\n",
    "w1  = np.random.randn(x_train.shape[1], nh1) * 0.01\n",
    "b1  = np.zeros((1, nh1))\n",
    "\n",
    "w2  = np.random.randn(nh1, nh2) * 0.01\n",
    "b2  = np.zeros((1, nh2))\n",
    "\n",
    "w3  = np.random.randn(nh2, nh3)\n",
    "b3  = np.zeros((1, nh3))\n",
    "\n",
    "w1.shape, b1.shape, w2.shape, b2.shape, w3.shape, b3.shape"
   ]
  },
  {
   "cell_type": "markdown",
   "metadata": {},
   "source": [
    "For our convenice, we will create a `Model` class . \n",
    "\n",
    "This `Model` class will store all the parameters for our neural-network.\n",
    "The `forward` method will compute the `forward pass` of the network to generate the `loss` (and or `predictions`) of the model. The `backward` method will compute the `backward pass` of the network to get the gradinets of the `loss` wrt to the `parameters` of the model. Finally the `update` method will update the parameters of the model."
   ]
  },
  {
   "cell_type": "code",
   "execution_count": 23,
   "metadata": {},
   "outputs": [],
   "source": [
    "class Model:\n",
    "    def __init__(self, learning_rate):\n",
    "        \"\"\"\n",
    "        A simple neural network model\n",
    "        The `forward` method computes the forward propagation step of the model\n",
    "        The `backward` method computes the backward step propagation of the model\n",
    "        The `update_step` method updates the parameters of the model\n",
    "        \"\"\"\n",
    "        self.lin1    = Linear(w1,b1) # 1st linear layer\n",
    "        self.relu1   = RelU()        # 1st activation layer\n",
    "        self.lin2    = Linear(w2,b2) # 2nd linear layer\n",
    "        self.relu2   = RelU()        # 2nd activation layer\n",
    "        self.lin3    = Linear(w3,b3) # 3rd linear layer\n",
    "        self.sigmoid = Sigmoid()     # 3rd activation layer\n",
    "        self.loss_fn = CELoss()      # loss_fn\n",
    "        \n",
    "        # learning_rate to update model parameters\n",
    "        self.lr      = learning_rate\n",
    "        # stores the loss at each iteration\n",
    "        self.losses  = [] \n",
    "\n",
    "\n",
    "    def forward(self, inp, calc_loss=True, targ=None):\n",
    "        \"\"\"\n",
    "        Computs the forward step for out model Additionally\n",
    "        it also returns the loss [Optional] and the predictions\n",
    "        of the model.\n",
    "        \n",
    "        Args:\n",
    "            inp       : the training set.\n",
    "            calc_loss : wether to calculate loss of the model if False only predictions\n",
    "                        are calculated.\n",
    "            targ      : the original targets to the training set. \n",
    "        \n",
    "        Note: to calculate the `loss` the `targ` must be given\n",
    "        \n",
    "        Returns:\n",
    "            pred : outputs of the 3rd activation layer.\n",
    "            loss : [Optional] loss the model , if the `targ` is given.\n",
    "        \"\"\"\n",
    "        out  = self.relu1.forward(self.lin1.forward(inp))\n",
    "        out  = self.relu2.forward(self.lin2.forward(out))\n",
    "        pred = self.sigmoid.forward(self.lin3.forward(out))\n",
    "        \n",
    "        if calc_loss:\n",
    "            assert targ is not None, \"to calculate loss targets must be given\"\n",
    "            loss = self.loss_fn.forward(pred, targ)\n",
    "            # appending the loss of the current iteration\n",
    "            self.losses.append(loss)\n",
    "            return loss, pred\n",
    "        else:\n",
    "            return pred\n",
    "        \n",
    "    def _assert_shapes(self):\n",
    "        \"\"\"\n",
    "        Checks the shape of the parameters and the gradients of the model\n",
    "        \"\"\"\n",
    "        assert lin1.w.shape == dw1.shape\n",
    "        assert lin2.w.shape == dw2.shape\n",
    "        assert lin3.w.shape == dw3.shape\n",
    "\n",
    "        assert lin1.b.shape == db1.shape\n",
    "        assert lin2.b.shape == db2.shape\n",
    "        assert lin3.b.shape == db3.shape\n",
    "\n",
    "\n",
    "    def backward(self):\n",
    "        \"\"\"\n",
    "        Computes the backward step\n",
    "        and return the gradients of the parameters with the loss\n",
    "        \"\"\"\n",
    "        da3 = self.loss_fn.backward()\n",
    "        dz3 = self.sigmoid.backward(da3)\n",
    "        da2, dw3, db3 = self.lin3.backward(dz3)\n",
    "        \n",
    "        dz2 = self.relu2.backward(da2)\n",
    "        da1, dw2, db2 = self.lin2.backward(dz2)\n",
    "\n",
    "        dz1 = self.relu1.backward(da1)\n",
    "        _, dw1, db1 = self.lin1.backward(dz1)\n",
    "        \n",
    "        self._assert_shapes()\n",
    "\n",
    "        self.dws = [dw1, dw2, dw3]\n",
    "        self.dbs = [db1, db2, db3]\n",
    "\n",
    "\n",
    "    def update(self):\n",
    "        \"\"\"\n",
    "        Performs the update step\n",
    "        \"\"\"\n",
    "        self.lin1.w -= self.lr * self.dws[0]\n",
    "        self.lin2.w -= self.lr * self.dws[1]\n",
    "        self.lin3.w -= self.lr * self.dws[2]\n",
    "\n",
    "        self.lin1.b -= self.lr * self.dbs[0]\n",
    "        self.lin2.b -= self.lr * self.dbs[1]\n",
    "        self.lin3.b -= self.lr * self.dbs[2]"
   ]
  },
  {
   "cell_type": "code",
   "execution_count": 24,
   "metadata": {
    "scrolled": false
   },
   "outputs": [
    {
     "name": "stdout",
     "output_type": "stream",
     "text": [
      "Loss after interation 0 is 0.6924\n",
      "Loss after interation 1 is 0.6900\n",
      "Loss after interation 2 is 0.6859\n",
      "Loss after interation 3 is 0.6826\n",
      "Loss after interation 4 is 0.6760\n",
      "Loss after interation 5 is 0.6683\n",
      "Loss after interation 6 is 0.6565\n",
      "Loss after interation 7 is 0.6415\n",
      "Loss after interation 8 is 0.6190\n",
      "Loss after interation 9 is 0.5894\n",
      "Loss after interation 10 is 0.5532\n",
      "Loss after interation 11 is 0.5110\n",
      "Loss after interation 12 is 0.4643\n",
      "Loss after interation 13 is 0.4128\n",
      "Loss after interation 14 is 0.3635\n",
      "Loss after interation 15 is 0.3164\n",
      "Loss after interation 16 is 0.2747\n",
      "Loss after interation 17 is 0.2389\n",
      "Loss after interation 18 is 0.2086\n",
      "Loss after interation 19 is 0.1834\n",
      "Loss after interation 20 is 0.1624\n",
      "Loss after interation 21 is 0.1448\n",
      "Loss after interation 22 is 0.1300\n",
      "Loss after interation 23 is 0.1174\n",
      "Loss after interation 24 is 0.1068\n",
      "Loss after interation 25 is 0.0976\n",
      "Loss after interation 26 is 0.0897\n",
      "Loss after interation 27 is 0.0828\n",
      "Loss after interation 28 is 0.0769\n",
      "Loss after interation 29 is 0.0716\n",
      "Loss after interation 30 is 0.0670\n",
      "Loss after interation 31 is 0.0628\n",
      "Loss after interation 32 is 0.0591\n",
      "Loss after interation 33 is 0.0559\n",
      "Loss after interation 34 is 0.0529\n",
      "Loss after interation 35 is 0.0502\n",
      "Loss after interation 36 is 0.0478\n",
      "Loss after interation 37 is 0.0456\n",
      "Loss after interation 38 is 0.0436\n",
      "Loss after interation 39 is 0.0417\n",
      "Loss after interation 40 is 0.0400\n",
      "Loss after interation 41 is 0.0384\n",
      "Loss after interation 42 is 0.0370\n",
      "Loss after interation 43 is 0.0357\n",
      "Loss after interation 44 is 0.0344\n",
      "Loss after interation 45 is 0.0333\n",
      "Loss after interation 46 is 0.0322\n",
      "Loss after interation 47 is 0.0312\n",
      "Loss after interation 48 is 0.0302\n",
      "Loss after interation 49 is 0.0294\n",
      "Loss after interation 50 is 0.0285\n",
      "Loss after interation 51 is 0.0278\n",
      "Loss after interation 52 is 0.0270\n",
      "Loss after interation 53 is 0.0263\n",
      "Loss after interation 54 is 0.0257\n",
      "Loss after interation 55 is 0.0251\n",
      "Loss after interation 56 is 0.0245\n",
      "Loss after interation 57 is 0.0239\n",
      "Loss after interation 58 is 0.0234\n",
      "Loss after interation 59 is 0.0229\n"
     ]
    }
   ],
   "source": [
    "nn = Model(learning_rate=0.0005)\n",
    "epochs = 60 # no. of iterations to train\n",
    "\n",
    "for n in range(epochs):\n",
    "    loss, _ = nn.forward(x_train, calc_loss=True, targ=y_train)\n",
    "    nn.backward()\n",
    "    nn.update()\n",
    "    print(f\"Loss after interation {n} is {loss:.4f}\")"
   ]
  },
  {
   "cell_type": "code",
   "execution_count": 25,
   "metadata": {},
   "outputs": [
    {
     "data": {
      "image/png": "[encoded data removed]",
      "text/plain": [
       "<Figure size 432x288 with 1 Axes>"
      ]
     },
     "metadata": {
      "needs_background": "light"
     },
     "output_type": "display_data"
    }
   ],
   "source": [
    "#collapse\n",
    "plt.plot(nn.losses, color=\"teal\")\n",
    "plt.title(\"Loss per Iteration\")\n",
    "plt.xlabel(\"Iteration\")\n",
    "plt.ylabel(\"Loss\");"
   ]
  },
  {
   "cell_type": "markdown",
   "metadata": {},
   "source": [
    "## Computing accuracy of our model"
   ]
  },
  {
   "cell_type": "markdown",
   "metadata": {},
   "source": [
    "**Let's check our model performance by computing the `accuracy` on the `validation` dataset**"
   ]
  },
  {
   "cell_type": "code",
   "execution_count": 26,
   "metadata": {},
   "outputs": [],
   "source": [
    "def comp_accuracy(preds, targs):\n",
    "    \"\"\"\n",
    "    Fn that computes the accuracy between the predicted values and the targets\n",
    "    \"\"\"\n",
    "    m = len(targs)\n",
    "    p = np.zeros_like(preds)\n",
    "    # convert probas to 0/1 predictions\n",
    "    for i in range(len(preds)):\n",
    "        if preds[i] > 0.5:\n",
    "            p[i] = 1\n",
    "        else:\n",
    "            p[i] = 0\n",
    "    print(\"Accuracy: \"  + str(np.sum((p == targs)/m)))    "
   ]
  },
  {
   "cell_type": "markdown",
   "metadata": {},
   "source": [
    "computing accuracy on the train set:"
   ]
  },
  {
   "cell_type": "code",
   "execution_count": 27,
   "metadata": {},
   "outputs": [
    {
     "name": "stdout",
     "output_type": "stream",
     "text": [
      "Accuracy: 0.9971724787935912\n"
     ]
    }
   ],
   "source": [
    "preds = nn.forward(x_train, calc_loss=False) # generate predictions from our model\n",
    "# compute accuracy\n",
    "comp_accuracy(preds, y_train)"
   ]
  },
  {
   "cell_type": "markdown",
   "metadata": {},
   "source": [
    "computing accuracy on the validation set:"
   ]
  },
  {
   "cell_type": "code",
   "execution_count": 28,
   "metadata": {},
   "outputs": [
    {
     "name": "stdout",
     "output_type": "stream",
     "text": [
      "Accuracy: 0.9980535279805351\n"
     ]
    }
   ],
   "source": [
    "preds = nn.forward(x_valid, calc_loss=False) # generate predictions from our model\n",
    "# compute accuracy\n",
    "comp_accuracy(preds, y_valid)"
   ]
  },
  {
   "cell_type": "markdown",
   "metadata": {},
   "source": [
    "> Note: our model achieved a `accuracy` of **`0.99`** on both the `train` and the `validation` set !"
   ]
  },
  {
   "cell_type": "markdown",
   "metadata": {},
   "source": [
    "## Generating predictions from the model"
   ]
  },
  {
   "cell_type": "code",
   "execution_count": 31,
   "metadata": {},
   "outputs": [
    {
     "data": {
      "image/png": "[encoded data removed]",
      "text/plain": [
       "<Figure size 432x288 with 1 Axes>"
      ]
     },
     "metadata": {
      "needs_background": "light"
     },
     "output_type": "display_data"
    },
    {
     "name": "stdout",
     "output_type": "stream",
     "text": [
      "Predicted output: 0\n"
     ]
    }
   ],
   "source": [
    "#collapse\n",
    "test_inp = x_valid[0] # one example from the validation set\n",
    "plt.title(\"Input: \")\n",
    "\n",
    "plt.imshow(test_inp.reshape(28,28), cmap=\"binary\")\n",
    "plt.show()\n",
    "\n",
    "pred = nn.forward(test_inp, calc_loss=False)\n",
    "predicted_val = int(pred > 0.5)\n",
    "print(f\"Predicted output: {predicted_val}\")"
   ]
  },
  {
   "cell_type": "code",
   "execution_count": 32,
   "metadata": {},
   "outputs": [
    {
     "data": {
      "image/png": "[encoded data removed]",
      "text/plain": [
       "<Figure size 432x288 with 1 Axes>"
      ]
     },
     "metadata": {
      "needs_background": "light"
     },
     "output_type": "display_data"
    },
    {
     "name": "stdout",
     "output_type": "stream",
     "text": [
      "Predicted output: 1\n"
     ]
    }
   ],
   "source": [
    "#collapse\n",
    "test_inp = x_valid[2000] # one example from the validation set\n",
    "plt.title(\"Input: \")\n",
    "plt.imshow(test_inp.reshape(28,28), cmap=\"binary\")\n",
    "plt.show()\n",
    "\n",
    "pred = nn.forward(test_inp, calc_loss=False)\n",
    "predicted_val = int(pred > 0.5)\n",
    "print(f\"Predicted output: {predicted_val}\")"
   ]
  },
  {
   "cell_type": "markdown",
   "metadata": {},
   "source": [
    "## Summary:"
   ]
  },
  {
   "cell_type": "markdown",
   "metadata": {},
   "source": [
    "- We were able to create a model that can identify classify handwritten digits as either 1's or 0's\n",
    "- We successfully computed the `forward` and `backward` progation of a `neural network` from scratch."
   ]
  },
  {
   "cell_type": "markdown",
   "metadata": {},
   "source": [
    "**Thanks for reading !**"
   ]
  }
 ],
 "metadata": {
  "kernelspec": {
   "display_name": "pytorch",
   "language": "python",
   "name": "pytorch"
  },
  "language_info": {
   "codemirror_mode": {
    "name": "ipython",
    "version": 3
   },
   "file_extension": ".py",
   "mimetype": "text/x-python",
   "name": "python",
   "nbconvert_exporter": "python",
   "pygments_lexer": "ipython3",
   "version": "3.7.7"
  }
 },
 "nbformat": 4,
 "nbformat_minor": 4
}
