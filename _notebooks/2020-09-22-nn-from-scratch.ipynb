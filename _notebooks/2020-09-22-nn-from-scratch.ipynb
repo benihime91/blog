{
 "cells": [
  {
   "cell_type": "markdown",
   "metadata": {},
   "source": [
    "# Creating a NeuralNetwork from scratch\n",
    "> A tutorial to code a neural network from scratch in python using numpy.\n",
    "\n",
    "- toc: false\n",
    "- badges: true\n",
    "- comments: true\n",
    "- categories: [deeplearning python3.x numpy]\n",
    "- image: images/backprop.jpeg"
   ]
  },
  {
   "cell_type": "markdown",
   "metadata": {},
   "source": [
    "I will assume that you all know what a artificial neural network is and have a little bit of knowledge about `forward and backward propagation`. Just having a simple idea is enough.\n",
    "\n",
    "If you do not know what the above terms are or would like to brush up on the topics , I would suggest this amazing [youtube playlist by 3Blue1Brown](https://www.youtube.com/watch?v=aircAruvnKk&list=PLZHQObOWTQDNU6R1_67000Dx_ZCJB-3pi).\n",
    "\n",
    "> youtube: https://www.youtube.com/watch?v=aircAruvnKk&list=PLZHQObOWTQDNU6R1_67000Dx_ZCJB-3pi"
   ]
  },
  {
   "cell_type": "markdown",
   "metadata": {},
   "source": [
    "## Setting up Imports:"
   ]
  },
  {
   "cell_type": "code",
   "execution_count": 1,
   "metadata": {},
   "outputs": [],
   "source": [
    "import numpy as np\n",
    "import gzip\n",
    "import pickle\n",
    "import pandas as pd\n",
    "import matplotlib.pyplot as plt\n",
    "import warnings\n",
    "\n",
    "\n",
    "np.random.seed(123)\n",
    "%matplotlib inline\n",
    "warnings.filterwarnings(\"ignore\")"
   ]
  },
  {
   "cell_type": "markdown",
   "metadata": {},
   "source": [
    "## Preparing the data"
   ]
  },
  {
   "cell_type": "markdown",
   "metadata": {},
   "source": [
    "For this blog post, we'll use one of the most famous datasets in computer vision, [MNIST](https://en.wikipedia.org/wiki/MNIST_database). MNIST contains images of handwritten digits, collected by the National Institute of Standards and Technology and collated into a machine learning dataset by Yann Lecun and his colleagues. Lecun used MNIST in 1998 in [Lenet-5](http://yann.lecun.com/exdb/lenet/), the first computer system to demonstrate practically useful recognition of handwritten digit sequences. This was one of the most important breakthroughs in the history of AI."
   ]
  },
  {
   "cell_type": "markdown",
   "metadata": {},
   "source": [
    "Run the code below to download the `MNIST` dataset. The dataset will be downloaded to the path `../../Datasets/` or you can modify the path as you like."
   ]
  },
  {
   "cell_type": "code",
   "execution_count": 2,
   "metadata": {},
   "outputs": [
    {
     "name": "stdout",
     "output_type": "stream",
     "text": [
      "--2020-09-23 02:28:42--  http://deeplearning.net/data/mnist/mnist.pkl.gz\n",
      "Resolving deeplearning.net (deeplearning.net)... 132.204.26.28\n",
      "Connecting to deeplearning.net (deeplearning.net)|132.204.26.28|:80... connected.\n",
      "HTTP request sent, awaiting response... 200 OK\n",
      "Length: 16168813 (15M) [application/x-gzip]\n",
      "Saving to: ‘../../Datasets/mnist.pkl.gz.2’\n",
      "\n",
      "mnist.pkl.gz.2      100%[===================>]  15.42M  1.26MB/s    in 14s     \n",
      "\n",
      "2020-09-23 02:28:57 (1.11 MB/s) - ‘../../Datasets/mnist.pkl.gz.2’ saved [16168813/16168813]\n",
      "\n"
     ]
    }
   ],
   "source": [
    "#hide_output\n",
    "!wget -P \"../../Datasets/\" http://deeplearning.net/data/mnist/mnist.pkl.gz"
   ]
  },
  {
   "cell_type": "code",
   "execution_count": 5,
   "metadata": {},
   "outputs": [
    {
     "name": "stdout",
     "output_type": "stream",
     "text": [
      "Shape of x_train: (50000, 784)\n",
      "Total number of examples: 50000\n",
      "Number of pixel values per image: 784\n"
     ]
    }
   ],
   "source": [
    "def get_data(path):\n",
    "    \"\"\"\n",
    "    Fn to unzip the MNIST data and return\n",
    "    the data as numpy arrays\n",
    "    \"\"\"\n",
    "    with gzip.open(path, 'rb') as f:\n",
    "        ((x_train, y_train), (x_valid, y_valid), _) = pickle.load(f, encoding='latin-1')\n",
    "    return map(np.array, (x_train,y_train,x_valid,y_valid))\n",
    "\n",
    "\n",
    "x_train,y_train,x_valid,y_valid = get_data(path= \"../../Datasets/mnist.pkl.gz\")\n",
    "\n",
    "tots,feats = x_train.shape\n",
    "print(\"Shape of x_train:\",x_train.shape)\n",
    "print(\"Total number of examples:\", tots)\n",
    "print(\"Number of pixel values per image:\", feats)"
   ]
  },
  {
   "cell_type": "markdown",
   "metadata": {},
   "source": [
    "To make our life a bit easier we are going to take only the examples that contain a 1 or 0."
   ]
  },
  {
   "cell_type": "code",
   "execution_count": 6,
   "metadata": {},
   "outputs": [
    {
     "data": {
      "text/plain": [
       "((10610, 784), (10610,))"
      ]
     },
     "execution_count": 6,
     "metadata": {},
     "output_type": "execute_result"
    }
   ],
   "source": [
    "zero_mask = [y_train==0] # grab all the index values where 0 is present\n",
    "one_mask = [y_train==1] # grad all the index valus where 1 is present\n",
    "\n",
    "# grab all the 1's and 0's and make training set\n",
    "x_train = np.vstack((x_train[zero_mask], x_train[one_mask]))\n",
    "y_train = np.reshape(y_train, (-1,1))\n",
    "y_train = np.squeeze(np.vstack((y_train[zero_mask], y_train[one_mask])))\n",
    "\n",
    "x_train.shape, y_train.shape"
   ]
  },
  {
   "cell_type": "markdown",
   "metadata": {},
   "source": [
    "Hence, now our training set has 10610 examples"
   ]
  },
  {
   "cell_type": "markdown",
   "metadata": {},
   "source": [
    "Let's view some example images from our dataset:"
   ]
  },
  {
   "cell_type": "code",
   "execution_count": 8,
   "metadata": {},
   "outputs": [
    {
     "data": {
      "image/png": "[encoded data removed]",
      "text/plain": [
       "<Figure size 432x288 with 1 Axes>"
      ]
     },
     "metadata": {
      "needs_background": "light"
     },
     "output_type": "display_data"
    }
   ],
   "source": [
    "#collapse \n",
    "plt.imshow(x_train[50].reshape(28,28), cmap=\"binary\");"
   ]
  },
  {
   "cell_type": "code",
   "execution_count": 9,
   "metadata": {},
   "outputs": [
    {
     "data": {
      "image/png": "[encoded data removed]",
      "text/plain": [
       "<Figure size 432x288 with 1 Axes>"
      ]
     },
     "metadata": {
      "needs_background": "light"
     },
     "output_type": "display_data"
    }
   ],
   "source": [
    "#collapse\n",
    "plt.imshow(x_train[5000].reshape(28,28), cmap=\"binary\");"
   ]
  },
  {
   "cell_type": "markdown",
   "metadata": {},
   "source": [
    "## Basic Model Architecture"
   ]
  },
  {
   "cell_type": "markdown",
   "metadata": {},
   "source": [
    "For this task we are going to use a very basic model architecture this 2 linear layers and a output layer with 10 outputs."
   ]
  },
  {
   "cell_type": "code",
   "execution_count": 10,
   "metadata": {},
   "outputs": [],
   "source": [
    "#collapse \n",
    "import graphviz\n",
    "def gv(s): return graphviz.Source('digraph G{ rankdir=\"LR\"' + s + '; }')"
   ]
  },
  {
   "cell_type": "code",
   "execution_count": 11,
   "metadata": {},
   "outputs": [
    {
     "data": {
      "image/svg+xml": [
       "<?xml version=\"1.0\" encoding=\"UTF-8\" standalone=\"no\"?>\n",
       "<!DOCTYPE svg PUBLIC \"-//W3C//DTD SVG 1.1//EN\"\n",
       " \"http://www.w3.org/Graphics/SVG/1.1/DTD/svg11.dtd\">\n",
       "<!-- Generated by graphviz version 2.44.0 (20200408.0750)\n",
       " -->\n",
       "<!-- Title: G Pages: 1 -->\n",
       "<svg width=\"698pt\" height=\"206pt\"\n",
       " viewBox=\"0.00 0.00 697.97 206.00\" xmlns=\"http://www.w3.org/2000/svg\" xmlns:xlink=\"http://www.w3.org/1999/xlink\">\n",
       "<g id=\"graph0\" class=\"graph\" transform=\"scale(1 1) rotate(0) translate(4 202)\">\n",
       "<title>G</title>\n",
       "<polygon fill=\"white\" stroke=\"transparent\" points=\"-4,4 -4,-202 693.97,-202 693.97,4 -4,4\"/>\n",
       "<!-- X -->\n",
       "<g id=\"node1\" class=\"node\">\n",
       "<title>X</title>\n",
       "<ellipse fill=\"none\" stroke=\"black\" cx=\"27\" cy=\"-180\" rx=\"27\" ry=\"18\"/>\n",
       "<text text-anchor=\"middle\" x=\"27\" y=\"-176.3\" font-family=\"Times,serif\" font-size=\"14.00\">X</text>\n",
       "</g>\n",
       "<!-- linear1 -->\n",
       "<g id=\"node2\" class=\"node\">\n",
       "<title>linear1</title>\n",
       "<ellipse fill=\"none\" stroke=\"black\" cx=\"125.1\" cy=\"-126\" rx=\"35.19\" ry=\"18\"/>\n",
       "<text text-anchor=\"middle\" x=\"125.1\" y=\"-122.3\" font-family=\"Times,serif\" font-size=\"14.00\">linear1</text>\n",
       "</g>\n",
       "<!-- X&#45;&gt;linear1 -->\n",
       "<g id=\"edge1\" class=\"edge\">\n",
       "<title>X&#45;&gt;linear1</title>\n",
       "<path fill=\"none\" stroke=\"black\" d=\"M48.38,-168.55C60.94,-161.49 77.34,-152.28 91.66,-144.23\"/>\n",
       "<polygon fill=\"black\" stroke=\"black\" points=\"93.7,-147.1 100.7,-139.15 90.27,-140.99 93.7,-147.1\"/>\n",
       "</g>\n",
       "<!-- relu -->\n",
       "<g id=\"node3\" class=\"node\">\n",
       "<title>relu</title>\n",
       "<ellipse fill=\"none\" stroke=\"black\" cx=\"223.19\" cy=\"-126\" rx=\"27\" ry=\"18\"/>\n",
       "<text text-anchor=\"middle\" x=\"223.19\" y=\"-122.3\" font-family=\"Times,serif\" font-size=\"14.00\">relu</text>\n",
       "</g>\n",
       "<!-- linear1&#45;&gt;relu -->\n",
       "<g id=\"edge2\" class=\"edge\">\n",
       "<title>linear1&#45;&gt;relu</title>\n",
       "<path fill=\"none\" stroke=\"black\" d=\"M160.25,-126C168.52,-126 177.39,-126 185.76,-126\"/>\n",
       "<polygon fill=\"black\" stroke=\"black\" points=\"186.01,-129.5 196.01,-126 186.01,-122.5 186.01,-129.5\"/>\n",
       "</g>\n",
       "<!-- linear2 -->\n",
       "<g id=\"node4\" class=\"node\">\n",
       "<title>linear2</title>\n",
       "<ellipse fill=\"none\" stroke=\"black\" cx=\"321.29\" cy=\"-72\" rx=\"35.19\" ry=\"18\"/>\n",
       "<text text-anchor=\"middle\" x=\"321.29\" y=\"-68.3\" font-family=\"Times,serif\" font-size=\"14.00\">linear2</text>\n",
       "</g>\n",
       "<!-- relu&#45;&gt;linear2 -->\n",
       "<g id=\"edge3\" class=\"edge\">\n",
       "<title>relu&#45;&gt;linear2</title>\n",
       "<path fill=\"none\" stroke=\"black\" d=\"M244.57,-114.55C257.14,-107.49 273.53,-98.28 287.85,-90.23\"/>\n",
       "<polygon fill=\"black\" stroke=\"black\" points=\"289.89,-93.1 296.9,-85.15 286.47,-86.99 289.89,-93.1\"/>\n",
       "</g>\n",
       "<!-- sigmoid -->\n",
       "<g id=\"node5\" class=\"node\">\n",
       "<title>sigmoid</title>\n",
       "<ellipse fill=\"none\" stroke=\"black\" cx=\"432.03\" cy=\"-72\" rx=\"39.79\" ry=\"18\"/>\n",
       "<text text-anchor=\"middle\" x=\"432.03\" y=\"-68.3\" font-family=\"Times,serif\" font-size=\"14.00\">sigmoid</text>\n",
       "</g>\n",
       "<!-- linear2&#45;&gt;sigmoid -->\n",
       "<g id=\"edge4\" class=\"edge\">\n",
       "<title>linear2&#45;&gt;sigmoid</title>\n",
       "<path fill=\"none\" stroke=\"black\" d=\"M356.4,-72C364.55,-72 373.4,-72 382.07,-72\"/>\n",
       "<polygon fill=\"black\" stroke=\"black\" points=\"382.11,-75.5 392.11,-72 382.11,-68.5 382.11,-75.5\"/>\n",
       "</g>\n",
       "<!-- prediction -->\n",
       "<g id=\"node6\" class=\"node\">\n",
       "<title>prediction</title>\n",
       "<ellipse fill=\"none\" stroke=\"black\" cx=\"553.83\" cy=\"-72\" rx=\"46.29\" ry=\"18\"/>\n",
       "<text text-anchor=\"middle\" x=\"553.83\" y=\"-68.3\" font-family=\"Times,serif\" font-size=\"14.00\">prediction</text>\n",
       "</g>\n",
       "<!-- sigmoid&#45;&gt;prediction -->\n",
       "<g id=\"edge5\" class=\"edge\">\n",
       "<title>sigmoid&#45;&gt;prediction</title>\n",
       "<path fill=\"none\" stroke=\"black\" d=\"M471.93,-72C480.08,-72 488.82,-72 497.44,-72\"/>\n",
       "<polygon fill=\"black\" stroke=\"black\" points=\"497.46,-75.5 507.46,-72 497.46,-68.5 497.46,-75.5\"/>\n",
       "</g>\n",
       "<!-- loss -->\n",
       "<g id=\"node7\" class=\"node\">\n",
       "<title>loss</title>\n",
       "<ellipse fill=\"none\" stroke=\"black\" cx=\"662.97\" cy=\"-45\" rx=\"27\" ry=\"18\"/>\n",
       "<text text-anchor=\"middle\" x=\"662.97\" y=\"-41.3\" font-family=\"Times,serif\" font-size=\"14.00\">loss</text>\n",
       "</g>\n",
       "<!-- prediction&#45;&gt;loss -->\n",
       "<g id=\"edge6\" class=\"edge\">\n",
       "<title>prediction&#45;&gt;loss</title>\n",
       "<path fill=\"none\" stroke=\"black\" d=\"M592.9,-62.4C604.23,-59.55 616.57,-56.44 627.65,-53.65\"/>\n",
       "<polygon fill=\"black\" stroke=\"black\" points=\"628.56,-57.03 637.4,-51.19 626.85,-50.24 628.56,-57.03\"/>\n",
       "</g>\n",
       "<!-- W1 -->\n",
       "<g id=\"node8\" class=\"node\">\n",
       "<title>W1</title>\n",
       "<ellipse fill=\"none\" stroke=\"black\" cx=\"27\" cy=\"-126\" rx=\"27\" ry=\"18\"/>\n",
       "<text text-anchor=\"middle\" x=\"27\" y=\"-122.3\" font-family=\"Times,serif\" font-size=\"14.00\">W1</text>\n",
       "</g>\n",
       "<!-- W1&#45;&gt;linear1 -->\n",
       "<g id=\"edge7\" class=\"edge\">\n",
       "<title>W1&#45;&gt;linear1</title>\n",
       "<path fill=\"none\" stroke=\"black\" d=\"M54.01,-126C61.92,-126 70.84,-126 79.61,-126\"/>\n",
       "<polygon fill=\"black\" stroke=\"black\" points=\"79.76,-129.5 89.76,-126 79.76,-122.5 79.76,-129.5\"/>\n",
       "</g>\n",
       "<!-- B1 -->\n",
       "<g id=\"node9\" class=\"node\">\n",
       "<title>B1</title>\n",
       "<ellipse fill=\"none\" stroke=\"black\" cx=\"27\" cy=\"-72\" rx=\"27\" ry=\"18\"/>\n",
       "<text text-anchor=\"middle\" x=\"27\" y=\"-68.3\" font-family=\"Times,serif\" font-size=\"14.00\">B1</text>\n",
       "</g>\n",
       "<!-- B1&#45;&gt;linear1 -->\n",
       "<g id=\"edge8\" class=\"edge\">\n",
       "<title>B1&#45;&gt;linear1</title>\n",
       "<path fill=\"none\" stroke=\"black\" d=\"M48.38,-83.45C60.94,-90.51 77.34,-99.72 91.66,-107.77\"/>\n",
       "<polygon fill=\"black\" stroke=\"black\" points=\"90.27,-111.01 100.7,-112.85 93.7,-104.9 90.27,-111.01\"/>\n",
       "</g>\n",
       "<!-- W2 -->\n",
       "<g id=\"node10\" class=\"node\">\n",
       "<title>W2</title>\n",
       "<ellipse fill=\"none\" stroke=\"black\" cx=\"223.19\" cy=\"-72\" rx=\"27\" ry=\"18\"/>\n",
       "<text text-anchor=\"middle\" x=\"223.19\" y=\"-68.3\" font-family=\"Times,serif\" font-size=\"14.00\">W2</text>\n",
       "</g>\n",
       "<!-- W2&#45;&gt;linear2 -->\n",
       "<g id=\"edge9\" class=\"edge\">\n",
       "<title>W2&#45;&gt;linear2</title>\n",
       "<path fill=\"none\" stroke=\"black\" d=\"M250.2,-72C258.11,-72 267.04,-72 275.81,-72\"/>\n",
       "<polygon fill=\"black\" stroke=\"black\" points=\"275.96,-75.5 285.96,-72 275.96,-68.5 275.96,-75.5\"/>\n",
       "</g>\n",
       "<!-- B2 -->\n",
       "<g id=\"node11\" class=\"node\">\n",
       "<title>B2</title>\n",
       "<ellipse fill=\"none\" stroke=\"black\" cx=\"223.19\" cy=\"-18\" rx=\"27\" ry=\"18\"/>\n",
       "<text text-anchor=\"middle\" x=\"223.19\" y=\"-14.3\" font-family=\"Times,serif\" font-size=\"14.00\">B2</text>\n",
       "</g>\n",
       "<!-- B2&#45;&gt;linear2 -->\n",
       "<g id=\"edge10\" class=\"edge\">\n",
       "<title>B2&#45;&gt;linear2</title>\n",
       "<path fill=\"none\" stroke=\"black\" d=\"M244.57,-29.45C257.14,-36.51 273.53,-45.72 287.85,-53.77\"/>\n",
       "<polygon fill=\"black\" stroke=\"black\" points=\"286.47,-57.01 296.9,-58.85 289.89,-50.9 286.47,-57.01\"/>\n",
       "</g>\n",
       "<!-- target -->\n",
       "<g id=\"node12\" class=\"node\">\n",
       "<title>target</title>\n",
       "<ellipse fill=\"none\" stroke=\"black\" cx=\"553.83\" cy=\"-18\" rx=\"30.59\" ry=\"18\"/>\n",
       "<text text-anchor=\"middle\" x=\"553.83\" y=\"-14.3\" font-family=\"Times,serif\" font-size=\"14.00\">target</text>\n",
       "</g>\n",
       "<!-- target&#45;&gt;loss -->\n",
       "<g id=\"edge11\" class=\"edge\">\n",
       "<title>target&#45;&gt;loss</title>\n",
       "<path fill=\"none\" stroke=\"black\" d=\"M582.14,-24.88C595.94,-28.36 612.84,-32.62 627.52,-36.32\"/>\n",
       "<polygon fill=\"black\" stroke=\"black\" points=\"626.72,-39.73 637.27,-38.78 628.43,-32.94 626.72,-39.73\"/>\n",
       "</g>\n",
       "</g>\n",
       "</svg>\n"
      ],
      "text/plain": [
       "<graphviz.files.Source at 0x7f96731a7f50>"
      ]
     },
     "execution_count": 11,
     "metadata": {},
     "output_type": "execute_result"
    }
   ],
   "source": [
    "#collapse\n",
    "gv('''\n",
    "X->linear1->relu->linear2->sigmoid->prediction->loss\n",
    "W1->linear1\n",
    "B1->linear1\n",
    "W2->linear2\n",
    "B2->linear2\n",
    "target->loss\n",
    "''')"
   ]
  },
  {
   "cell_type": "markdown",
   "metadata": {},
   "source": [
    "## Let's take a deep dive into what this network means:"
   ]
  },
  {
   "cell_type": "markdown",
   "metadata": {},
   "source": [
    "Let's take at look at all the individual components of this network:\n",
    "- **Linear:**\n",
    "  The linear layer computes the following :      \n",
    "   ```\n",
    "   out = matmul(input,W1) + B1\n",
    "   ```\n",
    "   \n",
    "- **ReLU:** \n",
    "  The relu computes the following:\n",
    "  ```\n",
    "  out = max(0, input)\n",
    "  ```\n",
    "- **Sigmoid:** \n",
    "  The sigmoid computes the following:\n",
    "  ```\n",
    "  out = 1/(1 + e.pow(input))\n",
    "  ```\n",
    "  \n",
    "- **Loss:** \n",
    "  For the loss we are going to use the CrossEntropy Loss which is defined by the follwoing equation:\n",
    "  $$loss= -\\frac{1}{m} \\sum\\limits_{i = 1}^{m} (y^{(i)}\\log\\left(yhat^{(i)}\\right) + (1-y^{(i)})\\log\\left(1-yhat^{(i)}\\right)) $$"
   ]
  },
  {
   "cell_type": "markdown",
   "metadata": {},
   "source": [
    "**Now that we have our model architecture, let's create the different parts needed to assemble the model:**\n",
    "- linear layer\n",
    "- relu activation\n",
    "- sigmoid activation\n",
    "- loss"
   ]
  },
  {
   "cell_type": "markdown",
   "metadata": {},
   "source": [
    "The `Backward` pass of out model would look something like this:"
   ]
  },
  {
   "cell_type": "code",
   "execution_count": 12,
   "metadata": {},
   "outputs": [
    {
     "data": {
      "image/svg+xml": [
       "<?xml version=\"1.0\" encoding=\"UTF-8\" standalone=\"no\"?>\n",
       "<!DOCTYPE svg PUBLIC \"-//W3C//DTD SVG 1.1//EN\"\n",
       " \"http://www.w3.org/Graphics/SVG/1.1/DTD/svg11.dtd\">\n",
       "<!-- Generated by graphviz version 2.44.0 (20200408.0750)\n",
       " -->\n",
       "<!-- Title: G Pages: 1 -->\n",
       "<svg width=\"698pt\" height=\"179pt\"\n",
       " viewBox=\"0.00 0.00 697.97 179.00\" xmlns=\"http://www.w3.org/2000/svg\" xmlns:xlink=\"http://www.w3.org/1999/xlink\">\n",
       "<g id=\"graph0\" class=\"graph\" transform=\"scale(1 1) rotate(0) translate(4 175)\">\n",
       "<title>G</title>\n",
       "<polygon fill=\"white\" stroke=\"transparent\" points=\"-4,4 -4,-175 693.97,-175 693.97,4 -4,4\"/>\n",
       "<!-- prediction -->\n",
       "<g id=\"node1\" class=\"node\">\n",
       "<title>prediction</title>\n",
       "<ellipse fill=\"none\" stroke=\"black\" cx=\"46.15\" cy=\"-99\" rx=\"46.29\" ry=\"18\"/>\n",
       "<text text-anchor=\"middle\" x=\"46.15\" y=\"-95.3\" font-family=\"Times,serif\" font-size=\"14.00\">prediction</text>\n",
       "</g>\n",
       "<!-- loss -->\n",
       "<g id=\"node2\" class=\"node\">\n",
       "<title>loss</title>\n",
       "<ellipse fill=\"none\" stroke=\"black\" cx=\"155.29\" cy=\"-72\" rx=\"27\" ry=\"18\"/>\n",
       "<text text-anchor=\"middle\" x=\"155.29\" y=\"-68.3\" font-family=\"Times,serif\" font-size=\"14.00\">loss</text>\n",
       "</g>\n",
       "<!-- prediction&#45;&gt;loss -->\n",
       "<g id=\"edge1\" class=\"edge\">\n",
       "<title>prediction&#45;&gt;loss</title>\n",
       "<path fill=\"none\" stroke=\"black\" d=\"M85.22,-89.4C96.55,-86.55 108.89,-83.44 119.97,-80.65\"/>\n",
       "<polygon fill=\"black\" stroke=\"black\" points=\"120.88,-84.03 129.72,-78.19 119.16,-77.24 120.88,-84.03\"/>\n",
       "</g>\n",
       "<!-- sigmoid -->\n",
       "<g id=\"node3\" class=\"node\">\n",
       "<title>sigmoid</title>\n",
       "<ellipse fill=\"none\" stroke=\"black\" cx=\"257.94\" cy=\"-72\" rx=\"39.79\" ry=\"18\"/>\n",
       "<text text-anchor=\"middle\" x=\"257.94\" y=\"-68.3\" font-family=\"Times,serif\" font-size=\"14.00\">sigmoid</text>\n",
       "</g>\n",
       "<!-- loss&#45;&gt;sigmoid -->\n",
       "<g id=\"edge2\" class=\"edge\">\n",
       "<title>loss&#45;&gt;sigmoid</title>\n",
       "<path fill=\"none\" stroke=\"black\" d=\"M182.47,-72C190.26,-72 199.06,-72 207.81,-72\"/>\n",
       "<polygon fill=\"black\" stroke=\"black\" points=\"207.99,-75.5 217.99,-72 207.99,-68.5 207.99,-75.5\"/>\n",
       "</g>\n",
       "<!-- linear2 -->\n",
       "<g id=\"node4\" class=\"node\">\n",
       "<title>linear2</title>\n",
       "<ellipse fill=\"none\" stroke=\"black\" cx=\"368.68\" cy=\"-72\" rx=\"35.19\" ry=\"18\"/>\n",
       "<text text-anchor=\"middle\" x=\"368.68\" y=\"-68.3\" font-family=\"Times,serif\" font-size=\"14.00\">linear2</text>\n",
       "</g>\n",
       "<!-- sigmoid&#45;&gt;linear2 -->\n",
       "<g id=\"edge3\" class=\"edge\">\n",
       "<title>sigmoid&#45;&gt;linear2</title>\n",
       "<path fill=\"none\" stroke=\"black\" d=\"M297.89,-72C306.12,-72 314.87,-72 323.28,-72\"/>\n",
       "<polygon fill=\"black\" stroke=\"black\" points=\"323.33,-75.5 333.33,-72 323.33,-68.5 323.33,-75.5\"/>\n",
       "</g>\n",
       "<!-- relu -->\n",
       "<g id=\"node5\" class=\"node\">\n",
       "<title>relu</title>\n",
       "<ellipse fill=\"none\" stroke=\"black\" cx=\"466.78\" cy=\"-126\" rx=\"27\" ry=\"18\"/>\n",
       "<text text-anchor=\"middle\" x=\"466.78\" y=\"-122.3\" font-family=\"Times,serif\" font-size=\"14.00\">relu</text>\n",
       "</g>\n",
       "<!-- linear2&#45;&gt;relu -->\n",
       "<g id=\"edge4\" class=\"edge\">\n",
       "<title>linear2&#45;&gt;relu</title>\n",
       "<path fill=\"none\" stroke=\"black\" d=\"M392.94,-85.07C406.16,-92.5 422.82,-101.86 436.87,-109.75\"/>\n",
       "<polygon fill=\"black\" stroke=\"black\" points=\"435.23,-112.85 445.66,-114.69 438.66,-106.74 435.23,-112.85\"/>\n",
       "</g>\n",
       "<!-- W2 -->\n",
       "<g id=\"node7\" class=\"node\">\n",
       "<title>W2</title>\n",
       "<ellipse fill=\"none\" stroke=\"black\" cx=\"466.78\" cy=\"-72\" rx=\"27\" ry=\"18\"/>\n",
       "<text text-anchor=\"middle\" x=\"466.78\" y=\"-68.3\" font-family=\"Times,serif\" font-size=\"14.00\">W2</text>\n",
       "</g>\n",
       "<!-- linear2&#45;&gt;W2 -->\n",
       "<g id=\"edge6\" class=\"edge\">\n",
       "<title>linear2&#45;&gt;W2</title>\n",
       "<path fill=\"none\" stroke=\"black\" d=\"M403.83,-72C412.1,-72 420.97,-72 429.34,-72\"/>\n",
       "<polygon fill=\"black\" stroke=\"black\" points=\"429.59,-75.5 439.59,-72 429.59,-68.5 429.59,-75.5\"/>\n",
       "</g>\n",
       "<!-- B2 -->\n",
       "<g id=\"node8\" class=\"node\">\n",
       "<title>B2</title>\n",
       "<ellipse fill=\"none\" stroke=\"black\" cx=\"466.78\" cy=\"-18\" rx=\"27\" ry=\"18\"/>\n",
       "<text text-anchor=\"middle\" x=\"466.78\" y=\"-14.3\" font-family=\"Times,serif\" font-size=\"14.00\">B2</text>\n",
       "</g>\n",
       "<!-- linear2&#45;&gt;B2 -->\n",
       "<g id=\"edge7\" class=\"edge\">\n",
       "<title>linear2&#45;&gt;B2</title>\n",
       "<path fill=\"none\" stroke=\"black\" d=\"M392.94,-58.93C406.16,-51.5 422.82,-42.14 436.87,-34.25\"/>\n",
       "<polygon fill=\"black\" stroke=\"black\" points=\"438.66,-37.26 445.66,-29.31 435.23,-31.15 438.66,-37.26\"/>\n",
       "</g>\n",
       "<!-- linear1 -->\n",
       "<g id=\"node6\" class=\"node\">\n",
       "<title>linear1</title>\n",
       "<ellipse fill=\"none\" stroke=\"black\" cx=\"564.88\" cy=\"-126\" rx=\"35.19\" ry=\"18\"/>\n",
       "<text text-anchor=\"middle\" x=\"564.88\" y=\"-122.3\" font-family=\"Times,serif\" font-size=\"14.00\">linear1</text>\n",
       "</g>\n",
       "<!-- relu&#45;&gt;linear1 -->\n",
       "<g id=\"edge5\" class=\"edge\">\n",
       "<title>relu&#45;&gt;linear1</title>\n",
       "<path fill=\"none\" stroke=\"black\" d=\"M493.78,-126C501.69,-126 510.62,-126 519.39,-126\"/>\n",
       "<polygon fill=\"black\" stroke=\"black\" points=\"519.54,-129.5 529.54,-126 519.54,-122.5 519.54,-129.5\"/>\n",
       "</g>\n",
       "<!-- W1 -->\n",
       "<g id=\"node9\" class=\"node\">\n",
       "<title>W1</title>\n",
       "<ellipse fill=\"none\" stroke=\"black\" cx=\"662.97\" cy=\"-153\" rx=\"27\" ry=\"18\"/>\n",
       "<text text-anchor=\"middle\" x=\"662.97\" y=\"-149.3\" font-family=\"Times,serif\" font-size=\"14.00\">W1</text>\n",
       "</g>\n",
       "<!-- linear1&#45;&gt;W1 -->\n",
       "<g id=\"edge8\" class=\"edge\">\n",
       "<title>linear1&#45;&gt;W1</title>\n",
       "<path fill=\"none\" stroke=\"black\" d=\"M596.02,-134.47C606.2,-137.33 617.62,-140.54 628.07,-143.48\"/>\n",
       "<polygon fill=\"black\" stroke=\"black\" points=\"627.14,-146.85 637.72,-146.19 629.04,-140.11 627.14,-146.85\"/>\n",
       "</g>\n",
       "<!-- B1 -->\n",
       "<g id=\"node10\" class=\"node\">\n",
       "<title>B1</title>\n",
       "<ellipse fill=\"none\" stroke=\"black\" cx=\"662.97\" cy=\"-99\" rx=\"27\" ry=\"18\"/>\n",
       "<text text-anchor=\"middle\" x=\"662.97\" y=\"-95.3\" font-family=\"Times,serif\" font-size=\"14.00\">B1</text>\n",
       "</g>\n",
       "<!-- linear1&#45;&gt;B1 -->\n",
       "<g id=\"edge9\" class=\"edge\">\n",
       "<title>linear1&#45;&gt;B1</title>\n",
       "<path fill=\"none\" stroke=\"black\" d=\"M596.02,-117.53C606.2,-114.67 617.62,-111.46 628.07,-108.52\"/>\n",
       "<polygon fill=\"black\" stroke=\"black\" points=\"629.04,-111.89 637.72,-105.81 627.14,-105.15 629.04,-111.89\"/>\n",
       "</g>\n",
       "<!-- target -->\n",
       "<g id=\"node11\" class=\"node\">\n",
       "<title>target</title>\n",
       "<ellipse fill=\"none\" stroke=\"black\" cx=\"46.15\" cy=\"-45\" rx=\"30.59\" ry=\"18\"/>\n",
       "<text text-anchor=\"middle\" x=\"46.15\" y=\"-41.3\" font-family=\"Times,serif\" font-size=\"14.00\">target</text>\n",
       "</g>\n",
       "<!-- target&#45;&gt;loss -->\n",
       "<g id=\"edge10\" class=\"edge\">\n",
       "<title>target&#45;&gt;loss</title>\n",
       "<path fill=\"none\" stroke=\"black\" d=\"M74.46,-51.88C88.26,-55.36 105.16,-59.62 119.84,-63.32\"/>\n",
       "<polygon fill=\"black\" stroke=\"black\" points=\"119.04,-66.73 129.59,-65.78 120.75,-59.94 119.04,-66.73\"/>\n",
       "</g>\n",
       "</g>\n",
       "</svg>\n"
      ],
      "text/plain": [
       "<graphviz.files.Source at 0x7f96733a2dd0>"
      ]
     },
     "execution_count": 12,
     "metadata": {},
     "output_type": "execute_result"
    }
   ],
   "source": [
    "#collapse\n",
    "gv('''\n",
    "prediction->loss\n",
    "loss->sigmoid\n",
    "sigmoid->linear2\n",
    "linear2->relu\n",
    "relu->linear1\n",
    "linear2->W2\n",
    "linear2->B2\n",
    "linear1->W1\n",
    "linear1->B1\n",
    "target->loss\n",
    "''')"
   ]
  },
  {
   "cell_type": "markdown",
   "metadata": {},
   "source": [
    "**Let's first try to make some sense of what is happening in the backward and forward pass of our model:**"
   ]
  },
  {
   "cell_type": "markdown",
   "metadata": {},
   "source": [
    "On paper our forward pass would look like this is pseudo-code:\n",
    "    \n",
    "```python\n",
    "inputs = x # original inputs\n",
    "targets = y # original targets\n",
    "\n",
    "z1 = inputs @ w2 + b2\n",
    "a1 = relu(z1)\n",
    "\n",
    "z2 = a1 @ w2 + b2\n",
    "a2 = sigmoid(z2) # this is our model prediction\n",
    "\n",
    "loss = loss_fn(a2, targets)\n",
    "```"
   ]
  },
  {
   "cell_type": "markdown",
   "metadata": {},
   "source": [
    "Consequently our backward pass in psuedo code would be something like this :  \n",
    "\n",
    "(Let us assume that the `grad(inp, out)` computes the gradients of `inp` wrt `out`)\n",
    "\n",
    "```python\n",
    "# gradient of loss wrt output of the previous activation layer\n",
    "da2 = grad(loss, a2) \n",
    "\n",
    "# gradient of loss wrt to z2\n",
    "dz2 = grad(loss, z2) = grad(loss, a2) * grad(a2,z2) \n",
    "\n",
    "# gradient of the loss wrt to weight w2: [current layer]\n",
    "dw2 = grad(loss, w2) = grad(loss, z2) * grad(z2, w2) = dz2 * grad(z2, w2)\n",
    "# gradient of the loss wrt to bias b2: [current layer]\n",
    "db2 = grad(loss, b2) = grad(loss, z2) * grad(z2, b2) = dz2 * grad(z2, b2)\n",
    "# gradient of loss wrt a1: [previous layer]\n",
    "da1 = grad(loss, a1) = grad(loss, z2) * grad(z2, a1) = dz2 * grad(z2, a1)\n",
    "\n",
    "# gradient of loss wrt z1\n",
    "dz1 = grad(loss, z1) = grad(loss, a1) * grad(a1, z1) = da1 * grad(a1, z1)\n",
    "\n",
    "# gradient of the loss wrt to weight w1: [current layer]\n",
    "dw1 = grad(loss, w1) = grad(loss, z1) * grad(z1, w1) = dz1 * grad(z1, w1)\n",
    "# gradient of the loss wrt to bias b1: [current layer]\n",
    "db1 = grad(loss, b1) = grad(loss, z1) * grad(z1, b1) = dz1 * grad(z1, b1)\n",
    "# gradient of the loss wrt to a0: [previous layer]\n",
    "da0 = grad(loss, a0) = grad(loss, z1) * grad(z1, a0) = dz2 * grad(z1, a0)\n",
    "\n",
    "\n",
    "# Update parameters :\n",
    "# since we now have all the required gradients we can now perform the update step\n",
    "w1 -= learning_rate * dw1\n",
    "b1 -= learning_rate * db1\n",
    "\n",
    "w2 -= learning_rate * dw2\n",
    "b2 -= learning_rate * db2\n",
    "```"
   ]
  },
  {
   "cell_type": "markdown",
   "metadata": {},
   "source": [
    "### The Linear Layer"
   ]
  },
  {
   "cell_type": "markdown",
   "metadata": {},
   "source": [
    "Below code creates a `Linear class` which represents a `Linear` layer in out neural-network. The `forward function` of the class implements the of the `layer's forward propagation` & the `backward function` implements the `layers's backward propagation`. Let's go to detail into what the code means:\n",
    "\n",
    "- **forward:**  \n",
    "This part is quite straight-forward it computes the dot-product between the `input` and the `weights` & adds the `bias` term to get `z`. It also stores all the intermidiate values generated to use in the backward pass.\n",
    "\n",
    "- **backward:**  \n",
    "This part is a bit complicated. Let's go through this: \n",
    " - The backward method of the class `Linear` takes in the argument `grads`. \n",
    " - `grads` is the gradient of the loss wrt to the output of the current linear layer ie., `dz` if we were to follow the noencalature of our pseudo-code."
   ]
  },
  {
   "cell_type": "code",
   "execution_count": null,
   "metadata": {},
   "outputs": [],
   "source": [
    "class Linear:\n",
    "    def __init__(self, w, b):\n",
    "        self.w = w\n",
    "        self.b = b\n",
    "        \n",
    "    def forward(self, inp):\n",
    "        \"\"\"\n",
    "        Implement the linear part of a layer's forward propagation.\n",
    "        Args:\n",
    "        -----\n",
    "            inp : activations from previous layer (or input data)\n",
    "        Returns:\n",
    "        -------\n",
    "            Z  : the input of the activation function, also called pre-activation parameter \n",
    "        \"\"\"\n",
    "        self.inp = inp\n",
    "        self.z   = inp @ self.w + self.b\n",
    "        return self.z\n",
    "    \n",
    "    def backward(self, grads):\n",
    "        \"\"\"\n",
    "        Implement the linear portion of backward propagation for a single layer.\n",
    "\n",
    "        Args:\n",
    "        ----\n",
    "            grads :  Gradient of the cost with respect to the linear output. \n",
    "                     or the accumulated gradients from the prev layers. \n",
    "                     This is used for the chain rule to compute the gradients.\n",
    "        Returns:\n",
    "        -------\n",
    "            da : Gradient of cost wrt to the the input of the current layer ie.,\n",
    "                 the activations fro the previous layer.\n",
    "            dw : Gradient of the cost with respect to W\n",
    "            db : Gradient of the cost with respect to b\n",
    "        \"\"\"\n",
    "        m = self.inp.shape[1]\n",
    "        # gradient of loss wrt to the weights\n",
    "        dw = 1/m * (self.inp.T @ grads)\n",
    "        # gradient of the loss wrt to the bias\n",
    "        db = 1/m * np.sum(grads, axis=1, keepdims=True)\n",
    "        # gradient of the loss wrt to the input of the linear layer\n",
    "        # this is used to continue the chain rule\n",
    "        da = grads @ self.w.T \n",
    "        return (dz, dw, db)"
   ]
  },
  {
   "cell_type": "markdown",
   "metadata": {},
   "source": [
    "### The ReLU Layer:"
   ]
  },
  {
   "cell_type": "code",
   "execution_count": 20,
   "metadata": {},
   "outputs": [],
   "source": [
    "class RelU:\n",
    "    def forward(self, inp):\n",
    "        \"\"\"\n",
    "        Implement the RELU function.\n",
    "\n",
    "        Arguments:\n",
    "            inp : Output of the linear layer, of any shape\n",
    "\n",
    "        Returns:\n",
    "            output: Post-activation parameter, of the same shape as Z\n",
    "        \"\"\"\n",
    "        self.inp = inp\n",
    "        self.output = np.maximum(0, self.inp)\n",
    "        return self.output\n",
    "    \n",
    "    def backward(self, grads):\n",
    "        \"\"\"\n",
    "        Implement the backward propagation for a single RELU unit.\n",
    "\n",
    "        Arguments:\n",
    "            grads : post-activation gradient, of any shape\n",
    "\n",
    "        Returns:\n",
    "            dZ : Gradient of the cost with respect to Z\n",
    "        \"\"\"\n",
    "        dz = np.array(grads, copy=True)\n",
    "        dz[self.inp <= 0] = 0\n",
    "        return dz"
   ]
  },
  {
   "cell_type": "code",
   "execution_count": null,
   "metadata": {},
   "outputs": [],
   "source": []
  }
 ],
 "metadata": {
  "kernelspec": {
   "display_name": "pytorch",
   "language": "python",
   "name": "pytorch"
  },
  "language_info": {
   "codemirror_mode": {
    "name": "ipython",
    "version": 3
   },
   "file_extension": ".py",
   "mimetype": "text/x-python",
   "name": "python",
   "nbconvert_exporter": "python",
   "pygments_lexer": "ipython3",
   "version": "3.7.7"
  }
 },
 "nbformat": 4,
 "nbformat_minor": 4
}
