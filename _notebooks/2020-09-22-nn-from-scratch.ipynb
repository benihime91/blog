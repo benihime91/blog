{
 "cells": [
  {
   "cell_type": "markdown",
   "metadata": {},
   "source": [
    "# Creating a NeuralNetwork from scratch\n",
    "> A tutorial to code a neural network from scratch in python using numpy.\n",
    "\n",
    "- toc: false\n",
    "- badges: true\n",
    "- comments: true\n",
    "- categories: [deeplearning python3.x numpy]\n",
    "- image: images/backprop.jpeg"
   ]
  },
  {
   "cell_type": "markdown",
   "metadata": {},
   "source": [
    "I will assume that you all know what a artificial neural network is and have a little bit of knowledge about `forward and backward propagation`. Just having a simple idea is enough.\n",
    "\n",
    "> Tip: If you do not know what the above terms are or would like to brush up on the topics, I would suggest going through this amazing [youtube playlist](https://www.youtube.com/watch?v=aircAruvnKk&list=PLZHQObOWTQDNU6R1_67000Dx_ZCJB-3pi) by [3Blue1Brown](https://www.3blue1brown.com/)."
   ]
  },
  {
   "cell_type": "markdown",
   "metadata": {},
   "source": [
    "> youtube: https://www.youtube.com/watch?v=aircAruvnKk&list=PLZHQObOWTQDNU6R1_67000Dx_ZCJB-3pi"
   ]
  },
  {
   "cell_type": "markdown",
   "metadata": {},
   "source": [
    "## Setting up Imports:"
   ]
  },
  {
   "cell_type": "code",
   "execution_count": 1,
   "metadata": {},
   "outputs": [],
   "source": [
    "import numpy as np\n",
    "import gzip\n",
    "import pickle\n",
    "import pandas as pd\n",
    "import matplotlib.pyplot as plt\n",
    "import warnings\n",
    "\n",
    "\n",
    "np.random.seed(123)\n",
    "%matplotlib inline\n",
    "warnings.filterwarnings(\"ignore\")"
   ]
  },
  {
   "cell_type": "markdown",
   "metadata": {},
   "source": [
    "## Preparing the data"
   ]
  },
  {
   "cell_type": "markdown",
   "metadata": {},
   "source": [
    "For this blog post, we'll use one of the most famous datasets in computer vision, [MNIST](https://en.wikipedia.org/wiki/MNIST_database). MNIST contains images of handwritten digits, collected by the National Institute of Standards and Technology and collated into a machine learning dataset by Yann Lecun and his colleagues. Lecun used MNIST in 1998 in [Lenet-5](http://yann.lecun.com/exdb/lenet/), the first computer system to demonstrate practically useful recognition of handwritten digit sequences. This was one of the most important breakthroughs in the history of AI."
   ]
  },
  {
   "cell_type": "markdown",
   "metadata": {},
   "source": [
    "Run the code given below to download the `MNIST` dataset."
   ]
  },
  {
   "cell_type": "markdown",
   "metadata": {},
   "source": [
    "```shell\n",
    "wget -P path http://deeplearning.net/data/mnist/mnist.pkl.gz\n",
    "```\n",
    "\n",
    "> Note: the above code snippet will download the dataset to `{path}` so be sure to set the `{path}` to the desired location of your choice. "
   ]
  },
  {
   "cell_type": "code",
   "execution_count": 2,
   "metadata": {},
   "outputs": [
    {
     "name": "stdout",
     "output_type": "stream",
     "text": [
      "Shape of x_train: (50000, 784)\n",
      "Total number of examples: 50000\n",
      "Number of pixel values per image: 784\n"
     ]
    }
   ],
   "source": [
    "def get_data(path):\n",
    "    \"\"\"\n",
    "    Fn to unzip the MNIST data and return\n",
    "    the data as numpy arrays\n",
    "    \"\"\"\n",
    "    with gzip.open(path, 'rb') as f:\n",
    "        ((x_train, y_train), (x_valid, y_valid), _) = pickle.load(f, encoding='latin-1')\n",
    "    return map(np.array, (x_train,y_train,x_valid,y_valid))\n",
    "\n",
    "\n",
    "# Grab the MNIST dataset\n",
    "x_train,y_train,x_valid,y_valid = get_data(path= \"../../Datasets/mnist.pkl.gz\")\n",
    "\n",
    "tots,feats = x_train.shape\n",
    "print(\"Shape of x_train:\",x_train.shape)\n",
    "print(\"Total number of examples:\", tots)\n",
    "print(\"Number of pixel values per image:\", feats)"
   ]
  },
  {
   "cell_type": "markdown",
   "metadata": {},
   "source": [
    "## Preparing our `train` & `validation` datasets"
   ]
  },
  {
   "cell_type": "markdown",
   "metadata": {},
   "source": [
    "To make our life a bit easier we are going to take only the examples that contain a 1 or 0."
   ]
  },
  {
   "cell_type": "code",
   "execution_count": 3,
   "metadata": {},
   "outputs": [
    {
     "data": {
      "text/plain": [
       "((10610, 784), (10610, 1))"
      ]
     },
     "execution_count": 3,
     "metadata": {},
     "output_type": "execute_result"
    }
   ],
   "source": [
    "zero_mask = [y_train==0] # grab all the index values where 0 is present\n",
    "one_mask = [y_train==1] # grad all the index valus where 1 is present\n",
    "\n",
    "# grab all the 1's and 0's and make training set\n",
    "x_train = np.vstack((x_train[zero_mask], x_train[one_mask]))\n",
    "y_train = np.reshape(y_train, (-1,1))\n",
    "y_train = np.squeeze(np.vstack((y_train[zero_mask], y_train[one_mask]))).reshape(-1,1)\n",
    "\n",
    "x_train.shape, y_train.shape"
   ]
  },
  {
   "cell_type": "markdown",
   "metadata": {},
   "source": [
    "**Our training set now has 10610 examples**"
   ]
  },
  {
   "cell_type": "code",
   "execution_count": 4,
   "metadata": {},
   "outputs": [
    {
     "data": {
      "text/plain": [
       "((2055, 784), (2055, 1))"
      ]
     },
     "execution_count": 4,
     "metadata": {},
     "output_type": "execute_result"
    }
   ],
   "source": [
    "zero_mask = [y_valid==0] # grab all the index values where 0 is present\n",
    "one_mask = [y_valid==1] # grad all the index valus where 1 is present\n",
    "\n",
    "# grab all the 1's and 0's and make training set\n",
    "x_valid = np.vstack((x_valid[zero_mask], x_valid[one_mask]))\n",
    "y_valid = np.reshape(y_valid, (-1,1))\n",
    "y_valid = np.squeeze(np.vstack((y_valid[zero_mask], y_valid[one_mask]))).reshape(-1,1)\n",
    "\n",
    "x_valid.shape, y_valid.shape"
   ]
  },
  {
   "cell_type": "markdown",
   "metadata": {},
   "source": [
    "**Our validation set now has 2055 examples**"
   ]
  },
  {
   "cell_type": "markdown",
   "metadata": {},
   "source": [
    "**Why do we need different training and validation sets ?**\n",
    "\n",
    "Since, this topic requires a different post on it's own I won't be covering it here. But you can get the idea from this above video:\n",
    "\n",
    "> youtube: https://youtu.be/1waHlpKiNyY?t=243"
   ]
  },
  {
   "cell_type": "markdown",
   "metadata": {},
   "source": [
    "Let's view some example images from our dataset:"
   ]
  },
  {
   "cell_type": "code",
   "execution_count": 7,
   "metadata": {},
   "outputs": [
    {
     "data": {
      "image/png": "[encoded data removed]",
      "text/plain": [
       "<Figure size 432x288 with 1 Axes>"
      ]
     },
     "metadata": {
      "needs_background": "light"
     },
     "output_type": "display_data"
    }
   ],
   "source": [
    "#collapse \n",
    "plt.imshow(x_train[50].reshape(28,28), cmap=\"binary\");"
   ]
  },
  {
   "cell_type": "code",
   "execution_count": 8,
   "metadata": {},
   "outputs": [
    {
     "data": {
      "image/png": "[encoded data removed]",
      "text/plain": [
       "<Figure size 432x288 with 1 Axes>"
      ]
     },
     "metadata": {
      "needs_background": "light"
     },
     "output_type": "display_data"
    }
   ],
   "source": [
    "#collapse\n",
    "plt.imshow(x_train[5000].reshape(28,28), cmap=\"binary\");"
   ]
  },
  {
   "cell_type": "markdown",
   "metadata": {},
   "source": [
    "## Basic Model Architecture"
   ]
  },
  {
   "cell_type": "markdown",
   "metadata": {},
   "source": [
    "For this task we are going to use a very basic model architecture this 2 linear layers and a output layer with 1 unit."
   ]
  },
  {
   "cell_type": "code",
   "execution_count": 9,
   "metadata": {},
   "outputs": [],
   "source": [
    "#hide_input \n",
    "import graphviz\n",
    "def gv(s): return graphviz.Source('digraph G{ rankdir=\"LR\"' + s + '; }')"
   ]
  },
  {
   "cell_type": "code",
   "execution_count": 10,
   "metadata": {},
   "outputs": [
    {
     "data": {
      "image/svg+xml": [
       "<?xml version=\"1.0\" encoding=\"UTF-8\" standalone=\"no\"?>\n",
       "<!DOCTYPE svg PUBLIC \"-//W3C//DTD SVG 1.1//EN\"\n",
       " \"http://www.w3.org/Graphics/SVG/1.1/DTD/svg11.dtd\">\n",
       "<!-- Generated by graphviz version 2.44.0 (20200408.0750)\n",
       " -->\n",
       "<!-- Title: G Pages: 1 -->\n",
       "<svg width=\"811pt\" height=\"260pt\"\n",
       " viewBox=\"0.00 0.00 810.56 260.00\" xmlns=\"http://www.w3.org/2000/svg\" xmlns:xlink=\"http://www.w3.org/1999/xlink\">\n",
       "<g id=\"graph0\" class=\"graph\" transform=\"scale(1 1) rotate(0) translate(4 256)\">\n",
       "<title>G</title>\n",
       "<polygon fill=\"white\" stroke=\"transparent\" points=\"-4,4 -4,-256 806.56,-256 806.56,4 -4,4\"/>\n",
       "<!-- X -->\n",
       "<g id=\"node1\" class=\"node\">\n",
       "<title>X</title>\n",
       "<ellipse fill=\"none\" stroke=\"black\" cx=\"27\" cy=\"-234\" rx=\"27\" ry=\"18\"/>\n",
       "<text text-anchor=\"middle\" x=\"27\" y=\"-230.3\" font-family=\"Times,serif\" font-size=\"14.00\">X</text>\n",
       "</g>\n",
       "<!-- linear1 -->\n",
       "<g id=\"node2\" class=\"node\">\n",
       "<title>linear1</title>\n",
       "<ellipse fill=\"none\" stroke=\"black\" cx=\"125.1\" cy=\"-180\" rx=\"35.19\" ry=\"18\"/>\n",
       "<text text-anchor=\"middle\" x=\"125.1\" y=\"-176.3\" font-family=\"Times,serif\" font-size=\"14.00\">linear1</text>\n",
       "</g>\n",
       "<!-- X&#45;&gt;linear1 -->\n",
       "<g id=\"edge1\" class=\"edge\">\n",
       "<title>X&#45;&gt;linear1</title>\n",
       "<path fill=\"none\" stroke=\"black\" d=\"M48.38,-222.55C60.94,-215.49 77.34,-206.28 91.66,-198.23\"/>\n",
       "<polygon fill=\"black\" stroke=\"black\" points=\"93.7,-201.1 100.7,-193.15 90.27,-194.99 93.7,-201.1\"/>\n",
       "</g>\n",
       "<!-- relu1 -->\n",
       "<g id=\"node3\" class=\"node\">\n",
       "<title>relu1</title>\n",
       "<ellipse fill=\"none\" stroke=\"black\" cx=\"224.79\" cy=\"-180\" rx=\"28.7\" ry=\"18\"/>\n",
       "<text text-anchor=\"middle\" x=\"224.79\" y=\"-176.3\" font-family=\"Times,serif\" font-size=\"14.00\">relu1</text>\n",
       "</g>\n",
       "<!-- linear1&#45;&gt;relu1 -->\n",
       "<g id=\"edge2\" class=\"edge\">\n",
       "<title>linear1&#45;&gt;relu1</title>\n",
       "<path fill=\"none\" stroke=\"black\" d=\"M160.27,-180C168.56,-180 177.47,-180 185.93,-180\"/>\n",
       "<polygon fill=\"black\" stroke=\"black\" points=\"185.93,-183.5 195.93,-180 185.93,-176.5 185.93,-183.5\"/>\n",
       "</g>\n",
       "<!-- linear2 -->\n",
       "<g id=\"node4\" class=\"node\">\n",
       "<title>linear2</title>\n",
       "<ellipse fill=\"none\" stroke=\"black\" cx=\"324.49\" cy=\"-126\" rx=\"35.19\" ry=\"18\"/>\n",
       "<text text-anchor=\"middle\" x=\"324.49\" y=\"-122.3\" font-family=\"Times,serif\" font-size=\"14.00\">linear2</text>\n",
       "</g>\n",
       "<!-- relu1&#45;&gt;linear2 -->\n",
       "<g id=\"edge3\" class=\"edge\">\n",
       "<title>relu1&#45;&gt;linear2</title>\n",
       "<path fill=\"none\" stroke=\"black\" d=\"M246.99,-168.28C259.79,-161.21 276.36,-152.05 290.81,-144.06\"/>\n",
       "<polygon fill=\"black\" stroke=\"black\" points=\"292.87,-146.92 299.93,-139.02 289.49,-140.79 292.87,-146.92\"/>\n",
       "</g>\n",
       "<!-- relu2 -->\n",
       "<g id=\"node5\" class=\"node\">\n",
       "<title>relu2</title>\n",
       "<ellipse fill=\"none\" stroke=\"black\" cx=\"424.18\" cy=\"-126\" rx=\"28.7\" ry=\"18\"/>\n",
       "<text text-anchor=\"middle\" x=\"424.18\" y=\"-122.3\" font-family=\"Times,serif\" font-size=\"14.00\">relu2</text>\n",
       "</g>\n",
       "<!-- linear2&#45;&gt;relu2 -->\n",
       "<g id=\"edge4\" class=\"edge\">\n",
       "<title>linear2&#45;&gt;relu2</title>\n",
       "<path fill=\"none\" stroke=\"black\" d=\"M359.65,-126C367.95,-126 376.86,-126 385.32,-126\"/>\n",
       "<polygon fill=\"black\" stroke=\"black\" points=\"385.32,-129.5 395.32,-126 385.32,-122.5 385.32,-129.5\"/>\n",
       "</g>\n",
       "<!-- linear3 -->\n",
       "<g id=\"node6\" class=\"node\">\n",
       "<title>linear3</title>\n",
       "<ellipse fill=\"none\" stroke=\"black\" cx=\"523.87\" cy=\"-72\" rx=\"35.19\" ry=\"18\"/>\n",
       "<text text-anchor=\"middle\" x=\"523.87\" y=\"-68.3\" font-family=\"Times,serif\" font-size=\"14.00\">linear3</text>\n",
       "</g>\n",
       "<!-- relu2&#45;&gt;linear3 -->\n",
       "<g id=\"edge5\" class=\"edge\">\n",
       "<title>relu2&#45;&gt;linear3</title>\n",
       "<path fill=\"none\" stroke=\"black\" d=\"M446.38,-114.28C459.18,-107.21 475.75,-98.05 490.2,-90.06\"/>\n",
       "<polygon fill=\"black\" stroke=\"black\" points=\"492.26,-92.92 499.32,-85.02 488.88,-86.79 492.26,-92.92\"/>\n",
       "</g>\n",
       "<!-- sigmoid -->\n",
       "<g id=\"node7\" class=\"node\">\n",
       "<title>sigmoid</title>\n",
       "<ellipse fill=\"none\" stroke=\"black\" cx=\"634.62\" cy=\"-72\" rx=\"39.79\" ry=\"18\"/>\n",
       "<text text-anchor=\"middle\" x=\"634.62\" y=\"-68.3\" font-family=\"Times,serif\" font-size=\"14.00\">sigmoid</text>\n",
       "</g>\n",
       "<!-- linear3&#45;&gt;sigmoid -->\n",
       "<g id=\"edge6\" class=\"edge\">\n",
       "<title>linear3&#45;&gt;sigmoid</title>\n",
       "<path fill=\"none\" stroke=\"black\" d=\"M558.98,-72C567.13,-72 575.99,-72 584.66,-72\"/>\n",
       "<polygon fill=\"black\" stroke=\"black\" points=\"584.7,-75.5 594.7,-72 584.7,-68.5 584.7,-75.5\"/>\n",
       "</g>\n",
       "<!-- prediction -->\n",
       "<g id=\"node8\" class=\"node\">\n",
       "<title>prediction</title>\n",
       "<ellipse fill=\"none\" stroke=\"black\" cx=\"756.41\" cy=\"-72\" rx=\"46.29\" ry=\"18\"/>\n",
       "<text text-anchor=\"middle\" x=\"756.41\" y=\"-68.3\" font-family=\"Times,serif\" font-size=\"14.00\">prediction</text>\n",
       "</g>\n",
       "<!-- sigmoid&#45;&gt;prediction -->\n",
       "<g id=\"edge7\" class=\"edge\">\n",
       "<title>sigmoid&#45;&gt;prediction</title>\n",
       "<path fill=\"none\" stroke=\"black\" d=\"M674.51,-72C682.66,-72 691.41,-72 700.03,-72\"/>\n",
       "<polygon fill=\"black\" stroke=\"black\" points=\"700.05,-75.5 710.05,-72 700.05,-68.5 700.05,-75.5\"/>\n",
       "</g>\n",
       "<!-- W1 -->\n",
       "<g id=\"node9\" class=\"node\">\n",
       "<title>W1</title>\n",
       "<ellipse fill=\"none\" stroke=\"black\" cx=\"27\" cy=\"-180\" rx=\"27\" ry=\"18\"/>\n",
       "<text text-anchor=\"middle\" x=\"27\" y=\"-176.3\" font-family=\"Times,serif\" font-size=\"14.00\">W1</text>\n",
       "</g>\n",
       "<!-- W1&#45;&gt;linear1 -->\n",
       "<g id=\"edge8\" class=\"edge\">\n",
       "<title>W1&#45;&gt;linear1</title>\n",
       "<path fill=\"none\" stroke=\"black\" d=\"M54.01,-180C61.92,-180 70.84,-180 79.61,-180\"/>\n",
       "<polygon fill=\"black\" stroke=\"black\" points=\"79.76,-183.5 89.76,-180 79.76,-176.5 79.76,-183.5\"/>\n",
       "</g>\n",
       "<!-- B1 -->\n",
       "<g id=\"node10\" class=\"node\">\n",
       "<title>B1</title>\n",
       "<ellipse fill=\"none\" stroke=\"black\" cx=\"27\" cy=\"-126\" rx=\"27\" ry=\"18\"/>\n",
       "<text text-anchor=\"middle\" x=\"27\" y=\"-122.3\" font-family=\"Times,serif\" font-size=\"14.00\">B1</text>\n",
       "</g>\n",
       "<!-- B1&#45;&gt;linear1 -->\n",
       "<g id=\"edge9\" class=\"edge\">\n",
       "<title>B1&#45;&gt;linear1</title>\n",
       "<path fill=\"none\" stroke=\"black\" d=\"M48.38,-137.45C60.94,-144.51 77.34,-153.72 91.66,-161.77\"/>\n",
       "<polygon fill=\"black\" stroke=\"black\" points=\"90.27,-165.01 100.7,-166.85 93.7,-158.9 90.27,-165.01\"/>\n",
       "</g>\n",
       "<!-- W2 -->\n",
       "<g id=\"node11\" class=\"node\">\n",
       "<title>W2</title>\n",
       "<ellipse fill=\"none\" stroke=\"black\" cx=\"224.79\" cy=\"-126\" rx=\"27\" ry=\"18\"/>\n",
       "<text text-anchor=\"middle\" x=\"224.79\" y=\"-122.3\" font-family=\"Times,serif\" font-size=\"14.00\">W2</text>\n",
       "</g>\n",
       "<!-- W2&#45;&gt;linear2 -->\n",
       "<g id=\"edge10\" class=\"edge\">\n",
       "<title>W2&#45;&gt;linear2</title>\n",
       "<path fill=\"none\" stroke=\"black\" d=\"M251.97,-126C260.27,-126 269.68,-126 278.89,-126\"/>\n",
       "<polygon fill=\"black\" stroke=\"black\" points=\"279.14,-129.5 289.14,-126 279.14,-122.5 279.14,-129.5\"/>\n",
       "</g>\n",
       "<!-- B2 -->\n",
       "<g id=\"node12\" class=\"node\">\n",
       "<title>B2</title>\n",
       "<ellipse fill=\"none\" stroke=\"black\" cx=\"224.79\" cy=\"-72\" rx=\"27\" ry=\"18\"/>\n",
       "<text text-anchor=\"middle\" x=\"224.79\" y=\"-68.3\" font-family=\"Times,serif\" font-size=\"14.00\">B2</text>\n",
       "</g>\n",
       "<!-- B2&#45;&gt;linear2 -->\n",
       "<g id=\"edge11\" class=\"edge\">\n",
       "<title>B2&#45;&gt;linear2</title>\n",
       "<path fill=\"none\" stroke=\"black\" d=\"M246.03,-83.19C258.99,-90.35 276.1,-99.81 290.94,-108.01\"/>\n",
       "<polygon fill=\"black\" stroke=\"black\" points=\"289.38,-111.15 299.83,-112.92 292.77,-105.02 289.38,-111.15\"/>\n",
       "</g>\n",
       "<!-- W3 -->\n",
       "<g id=\"node13\" class=\"node\">\n",
       "<title>W3</title>\n",
       "<ellipse fill=\"none\" stroke=\"black\" cx=\"424.18\" cy=\"-72\" rx=\"27\" ry=\"18\"/>\n",
       "<text text-anchor=\"middle\" x=\"424.18\" y=\"-68.3\" font-family=\"Times,serif\" font-size=\"14.00\">W3</text>\n",
       "</g>\n",
       "<!-- W3&#45;&gt;linear3 -->\n",
       "<g id=\"edge12\" class=\"edge\">\n",
       "<title>W3&#45;&gt;linear3</title>\n",
       "<path fill=\"none\" stroke=\"black\" d=\"M451.36,-72C459.66,-72 469.07,-72 478.28,-72\"/>\n",
       "<polygon fill=\"black\" stroke=\"black\" points=\"478.53,-75.5 488.53,-72 478.53,-68.5 478.53,-75.5\"/>\n",
       "</g>\n",
       "<!-- B3 -->\n",
       "<g id=\"node14\" class=\"node\">\n",
       "<title>B3</title>\n",
       "<ellipse fill=\"none\" stroke=\"black\" cx=\"424.18\" cy=\"-18\" rx=\"27\" ry=\"18\"/>\n",
       "<text text-anchor=\"middle\" x=\"424.18\" y=\"-14.3\" font-family=\"Times,serif\" font-size=\"14.00\">B3</text>\n",
       "</g>\n",
       "<!-- B3&#45;&gt;linear3 -->\n",
       "<g id=\"edge13\" class=\"edge\">\n",
       "<title>B3&#45;&gt;linear3</title>\n",
       "<path fill=\"none\" stroke=\"black\" d=\"M445.42,-29.19C458.38,-36.35 475.49,-45.81 490.33,-54.01\"/>\n",
       "<polygon fill=\"black\" stroke=\"black\" points=\"488.77,-57.15 499.22,-58.92 492.16,-51.02 488.77,-57.15\"/>\n",
       "</g>\n",
       "</g>\n",
       "</svg>\n"
      ],
      "text/plain": [
       "<graphviz.files.Source at 0x7fbfbb3d4810>"
      ]
     },
     "execution_count": 10,
     "metadata": {},
     "output_type": "execute_result"
    }
   ],
   "source": [
    "#hide_input\n",
    "gv('''\n",
    "X->linear1->relu1->linear2->relu2->linear3->sigmoid->prediction\n",
    "\n",
    "W1->linear1\n",
    "B1->linear1\n",
    "\n",
    "W2->linear2\n",
    "B2->linear2\n",
    "\n",
    "W3->linear3\n",
    "B3->linear3\n",
    "''')"
   ]
  },
  {
   "cell_type": "markdown",
   "metadata": {},
   "source": [
    "and then using the `predicted` value from the above model and the `real_target` value the loss is calculated:"
   ]
  },
  {
   "cell_type": "code",
   "execution_count": 11,
   "metadata": {},
   "outputs": [
    {
     "data": {
      "image/svg+xml": [
       "<?xml version=\"1.0\" encoding=\"UTF-8\" standalone=\"no\"?>\n",
       "<!DOCTYPE svg PUBLIC \"-//W3C//DTD SVG 1.1//EN\"\n",
       " \"http://www.w3.org/Graphics/SVG/1.1/DTD/svg11.dtd\">\n",
       "<!-- Generated by graphviz version 2.44.0 (20200408.0750)\n",
       " -->\n",
       "<!-- Title: G Pages: 1 -->\n",
       "<svg width=\"190pt\" height=\"98pt\"\n",
       " viewBox=\"0.00 0.00 190.29 98.00\" xmlns=\"http://www.w3.org/2000/svg\" xmlns:xlink=\"http://www.w3.org/1999/xlink\">\n",
       "<g id=\"graph0\" class=\"graph\" transform=\"scale(1 1) rotate(0) translate(4 94)\">\n",
       "<title>G</title>\n",
       "<polygon fill=\"white\" stroke=\"transparent\" points=\"-4,4 -4,-94 186.29,-94 186.29,4 -4,4\"/>\n",
       "<!-- prediction -->\n",
       "<g id=\"node1\" class=\"node\">\n",
       "<title>prediction</title>\n",
       "<ellipse fill=\"none\" stroke=\"black\" cx=\"46.15\" cy=\"-72\" rx=\"46.29\" ry=\"18\"/>\n",
       "<text text-anchor=\"middle\" x=\"46.15\" y=\"-68.3\" font-family=\"Times,serif\" font-size=\"14.00\">prediction</text>\n",
       "</g>\n",
       "<!-- loss -->\n",
       "<g id=\"node2\" class=\"node\">\n",
       "<title>loss</title>\n",
       "<ellipse fill=\"none\" stroke=\"black\" cx=\"155.29\" cy=\"-45\" rx=\"27\" ry=\"18\"/>\n",
       "<text text-anchor=\"middle\" x=\"155.29\" y=\"-41.3\" font-family=\"Times,serif\" font-size=\"14.00\">loss</text>\n",
       "</g>\n",
       "<!-- prediction&#45;&gt;loss -->\n",
       "<g id=\"edge1\" class=\"edge\">\n",
       "<title>prediction&#45;&gt;loss</title>\n",
       "<path fill=\"none\" stroke=\"black\" d=\"M85.22,-62.4C96.55,-59.55 108.89,-56.44 119.97,-53.65\"/>\n",
       "<polygon fill=\"black\" stroke=\"black\" points=\"120.88,-57.03 129.72,-51.19 119.16,-50.24 120.88,-57.03\"/>\n",
       "</g>\n",
       "<!-- target -->\n",
       "<g id=\"node3\" class=\"node\">\n",
       "<title>target</title>\n",
       "<ellipse fill=\"none\" stroke=\"black\" cx=\"46.15\" cy=\"-18\" rx=\"30.59\" ry=\"18\"/>\n",
       "<text text-anchor=\"middle\" x=\"46.15\" y=\"-14.3\" font-family=\"Times,serif\" font-size=\"14.00\">target</text>\n",
       "</g>\n",
       "<!-- target&#45;&gt;loss -->\n",
       "<g id=\"edge2\" class=\"edge\">\n",
       "<title>target&#45;&gt;loss</title>\n",
       "<path fill=\"none\" stroke=\"black\" d=\"M74.46,-24.88C88.26,-28.36 105.16,-32.62 119.84,-36.32\"/>\n",
       "<polygon fill=\"black\" stroke=\"black\" points=\"119.04,-39.73 129.59,-38.78 120.75,-32.94 119.04,-39.73\"/>\n",
       "</g>\n",
       "</g>\n",
       "</svg>\n"
      ],
      "text/plain": [
       "<graphviz.files.Source at 0x7fbf83a01290>"
      ]
     },
     "execution_count": 11,
     "metadata": {},
     "output_type": "execute_result"
    }
   ],
   "source": [
    "#hide_input\n",
    "gv('''\n",
    "prediction->loss\n",
    "target->loss\n",
    "''')"
   ]
  },
  {
   "cell_type": "markdown",
   "metadata": {},
   "source": [
    "## Let's take a deep dive into what this network means:"
   ]
  },
  {
   "cell_type": "markdown",
   "metadata": {},
   "source": [
    "Let's take at look at all the individual components of this network:\n",
    "- **Linear:**\n",
    "  The linear layer computes the following :      \n",
    "   ```\n",
    "   out = matmul(input,W1) + B1\n",
    "   ```\n",
    "   \n",
    "- **ReLU:** \n",
    "  The relu computes the following:\n",
    "  ```\n",
    "  out = max(0, input)\n",
    "  ```\n",
    "- **Sigmoid:** \n",
    "  The sigmoid computes the following:\n",
    "  ```\n",
    "  out = 1/(1 + e.pow(input))\n",
    "  ```\n",
    "  \n",
    "- **Loss:** \n",
    "  For the loss we are going to use the CrossEntropy Loss which is defined by the follwoing equation:\n",
    "  $$loss= -\\frac{1}{m} \\sum\\limits_{i = 1}^{m} (y^{(i)}\\log\\left(yhat^{(i)}\\right) + (1-y^{(i)})\\log\\left(1-yhat^{(i)}\\right)) $$"
   ]
  },
  {
   "cell_type": "markdown",
   "metadata": {},
   "source": [
    "**Now that we have our model architecture, let's create the different parts needed to assemble the model:**\n",
    "- linear layer\n",
    "- relu activation\n",
    "- sigmoid activation\n",
    "- loss"
   ]
  },
  {
   "cell_type": "markdown",
   "metadata": {},
   "source": [
    "**Let's first try to make some sense of what is happening in the backward and forward pass of our model:**"
   ]
  },
  {
   "cell_type": "markdown",
   "metadata": {},
   "source": [
    "**On paper our forward pass would look something like this:**\n",
    "\n",
    "> Note: `@` in python is the `matrix-multiplication operator`. \n",
    "\n",
    "```python\n",
    "inputs = x # original inputs\n",
    "targets = y # original targets\n",
    "\n",
    "z1 = inputs @ w2 + b2\n",
    "a1 = relu(z1)\n",
    "\n",
    "z2 = a1 @ w2 + b2\n",
    "a2 = sigmoid(z2) # this is our model prediction\n",
    "\n",
    "loss = loss_fn(a2, targets)\n",
    "```\n",
    "> Note: This is not actual code it's just psuedo-code for understanding."
   ]
  },
  {
   "cell_type": "markdown",
   "metadata": {},
   "source": [
    "**Consequently our backward pass would look something like this :** \n",
    "\n",
    "(Let us assume that the `grad(inp, out)` computes the gradients of `inp` wrt `out`)\n",
    "\n",
    "```python\n",
    "# gradient of loss wrt output of the previous activation layer\n",
    "da2 = grad(loss, a2) \n",
    "\n",
    "# gradient of loss wrt to z2\n",
    "dz2 = grad(loss, z2) = grad(loss, a2) * grad(a2,z2) \n",
    "\n",
    "# gradient of the loss wrt to weight w2: [current layer]\n",
    "dw2 = grad(loss, w2) = grad(loss, z2) * grad(z2, w2) = dz2 * grad(z2, w2)\n",
    "# gradient of the loss wrt to bias b2: [current layer]\n",
    "db2 = grad(loss, b2) = grad(loss, z2) * grad(z2, b2) = dz2 * grad(z2, b2)\n",
    "# gradient of loss wrt a1: [previous layer]\n",
    "da1 = grad(loss, a1) = grad(loss, z2) * grad(z2, a1) = dz2 * grad(z2, a1)\n",
    "\n",
    "# gradient of loss wrt z1\n",
    "dz1 = grad(loss, z1) = grad(loss, a1) * grad(a1, z1) = da1 * grad(a1, z1)\n",
    "\n",
    "# gradient of the loss wrt to weight w1: [current layer]\n",
    "dw1 = grad(loss, w1) = grad(loss, z1) * grad(z1, w1) = dz1 * grad(z1, w1)\n",
    "# gradient of the loss wrt to bias b1: [current layer]\n",
    "db1 = grad(loss, b1) = grad(loss, z1) * grad(z1, b1) = dz1 * grad(z1, b1)\n",
    "# gradient of the loss wrt to a0: [previous layer]\n",
    "da0 = grad(loss, a0) = grad(loss, z1) * grad(z1, a0) = dz2 * grad(z1, a0)\n",
    "\n",
    "\n",
    "# Update parameters :\n",
    "# since we now have all the required gradients we can now perform the update step\n",
    "w1 -= learning_rate * dw1\n",
    "b1 -= learning_rate * db1\n",
    "\n",
    "w2 -= learning_rate * dw2\n",
    "b2 -= learning_rate * db2\n",
    "```\n",
    "> Note: This is not actual code it's just psuedo-code for understanding."
   ]
  },
  {
   "cell_type": "markdown",
   "metadata": {},
   "source": [
    "### `linear` layer "
   ]
  },
  {
   "cell_type": "markdown",
   "metadata": {},
   "source": [
    "Below code creates a `Linear class` which represents a `Linear` layer in our neural-network. The `forward function` of the class implements the of the `layer's forward propagation` & the `backward function` implements the `layers's backward propagation`. Let's go to detail into what the code means:\n",
    "\n",
    "- **Forward:**  \n",
    "This part is quite straight-forward it computes the dot-product between the **`input`** and the **`weights`** & adds the **`bias`** term to get **`z`**. It also stores all the intermidiate values generated to use in the backward pass.\n",
    "\n",
    "\n",
    "- **Backward:**\n",
    "    * The backward method of the class **`Linear`** takes in the argument **`grads`**. \n",
    "    * **`grads`** is the gradient of the loss wrt to the output of the current linear layer ie., **`dz`** if we were to follow the nomenclature of our pseudo-code.\n",
    "    * To succesfully compute the backward pass for our linear layer we need the following:\n",
    "        - **`grad(z, w)`** \n",
    "        - **`grad(z, b)`**\n",
    "        - **`grad(z, a_prev)`**"
   ]
  },
  {
   "cell_type": "markdown",
   "metadata": {},
   "source": [
    "\n",
    "\n",
    "> Note: `z`, `w`, `b`, `a_prev` are the outputs, weights, bias and input-activations of the Linear layer respectively."
   ]
  },
  {
   "cell_type": "code",
   "execution_count": 12,
   "metadata": {},
   "outputs": [],
   "source": [
    "class Linear:\n",
    "    def __init__(self, w, b):\n",
    "        self.w = w\n",
    "        self.b = b\n",
    "        \n",
    "    def forward(self, inp):\n",
    "        \"\"\"\n",
    "        Implement the linear part of a layer's forward propagation.\n",
    "        \n",
    "        Args:\n",
    "            inp : activations from previous layer (or input data)\n",
    "        \n",
    "        Returns:\n",
    "\n",
    "            z  : the input of the activation function, also called pre-activation parameter \n",
    "        \"\"\"\n",
    "        self.inp = inp\n",
    "        self.z   = inp @ self.w + self.b\n",
    "        return self.z\n",
    "    \n",
    "    def backward(self, grads):\n",
    "        \"\"\"\n",
    "        Implement the linear portion of backward propagation for a single layer.\n",
    "\n",
    "        Args:\n",
    "            grads :  Gradient of the cost with respect to the linear output. \n",
    "                     or the accumulated gradients from the prev layers. \n",
    "                     This is used for the chain rule to compute the gradients.\n",
    "        Returns:\n",
    "            da : Gradient of cost wrt to the activation of the previous layer or the input of the \n",
    "                 current layer.\n",
    "            dw : Gradient of the cost with respect to W\n",
    "            db : Gradient of the cost with respect to b\n",
    "        \"\"\"\n",
    "        m = self.inp.shape[1]\n",
    "        # gradient of loss wrt to the weights\n",
    "        dw = 1/m * (self.inp.T @ grads)\n",
    "        # gradient of the loss wrt to the bias\n",
    "        db = 1/m * np.sum(grads, axis=0, keepdims=True)\n",
    "        # gradient of the loss wrt to the input of the linear layer\n",
    "        # this is used to continue the chain rule\n",
    "        da_prev = grads @ self.w.T \n",
    "        return (da_prev, dw, db)"
   ]
  },
  {
   "cell_type": "markdown",
   "metadata": {},
   "source": [
    "### `ReLU` layer"
   ]
  },
  {
   "cell_type": "markdown",
   "metadata": {},
   "source": [
    "- **Forward**:  \n",
    "The mathematical formula for ReLU is $A = RELU(Z) = max(0, Z)$\n",
    "- **Backward**:  \n",
    "During the backward pass the relu accepts the gradients of the `loss wrt to the activation` i.e, `da` then computes\n",
    "the gradients of the `loss wrt to the input-of-relu(z)` i.e, `dz`."
   ]
  },
  {
   "cell_type": "code",
   "execution_count": 13,
   "metadata": {},
   "outputs": [],
   "source": [
    "class RelU:\n",
    "    def forward(self, inp):\n",
    "        \"\"\"\n",
    "        Implement the RELU function.\n",
    "\n",
    "        Args:\n",
    "            inp : Output of the linear layer, of any shape\n",
    "\n",
    "        Returns:\n",
    "            a  : Post-activation parameter, of the same shape as Z\n",
    "        \"\"\"\n",
    "        self.inp = inp\n",
    "        self.output = np.maximum(0, self.inp)\n",
    "        return self.output\n",
    "    \n",
    "    def backward(self, grads):\n",
    "        \"\"\"\n",
    "        Implement the backward propagation for a single RELU unit.\n",
    "\n",
    "        Ars:\n",
    "            grads : gradients of the loss wrt to the activation output\n",
    "\n",
    "        Returns:\n",
    "            dz : Gradient of the loss with respect to the input of the activation\n",
    "        \"\"\"\n",
    "        dz = np.array(grads, copy=True)\n",
    "        dz[self.inp <= 0] = 0\n",
    "        return dz"
   ]
  },
  {
   "cell_type": "markdown",
   "metadata": {},
   "source": [
    "### `sigmoid` layer"
   ]
  },
  {
   "cell_type": "markdown",
   "metadata": {},
   "source": [
    "The sigmoid layer functions in exactly the same way as the `ReLU` layer . The only difference is the forward pass output calculation. \n",
    "\n",
    "\n",
    "In the `sigmoid layer`:  $\\sigma(Z) = \\frac{1}{ 1 + e^{-(W A + b)}}$"
   ]
  },
  {
   "cell_type": "code",
   "execution_count": 14,
   "metadata": {},
   "outputs": [],
   "source": [
    "class Sigmoid:\n",
    "    def forward(self, inp):\n",
    "        \"\"\"\n",
    "        Implements the sigmoid activation in numpy\n",
    "\n",
    "        Args:\n",
    "            inp: numpy array of any shape\n",
    "\n",
    "        Returns:\n",
    "            a  : output of sigmoid(z), same shape as inp\n",
    "        \"\"\"\n",
    "        self.inp = inp\n",
    "        self.out =  1/(1+np.exp(-self.inp))\n",
    "        return self.out\n",
    "    \n",
    "    def backward(self, grads):\n",
    "        \"\"\"\n",
    "        Implement the backward propagation for a single sigmoid unit.\n",
    "\n",
    "        Args:\n",
    "            grads : gradients of the loss wrt to the activation output\n",
    "\n",
    "        Returns:\n",
    "            dz : Gradient of the loss with respect to the input of the activation\n",
    "        \"\"\"\n",
    "        s = 1/(1+np.exp(-self.inp))\n",
    "        dz = grads * s * (1-s)\n",
    "        return dz"
   ]
  },
  {
   "cell_type": "markdown",
   "metadata": {},
   "source": [
    "## Loss_function :"
   ]
  },
  {
   "cell_type": "markdown",
   "metadata": {},
   "source": [
    "For this task we are going to use the [CrossEntropy Loss](https://en.wikipedia.org/wiki/Cross_entropy)\n",
    "\n",
    "The `forward` pass of the CrossEntropy Loss is computed as follows: \n",
    "$$loss= -\\frac{1}{m} \\sum\\limits_{i = 1}^{m} (y^{(i)}\\log\\left(yhat^{(i)}\\right) + (1-y^{(i)})\\log\\left(1-yhat^{(i)}\\right)) $$"
   ]
  },
  {
   "cell_type": "code",
   "execution_count": 15,
   "metadata": {},
   "outputs": [],
   "source": [
    "class CELoss():\n",
    "    def forward(self, pred, target):\n",
    "        \"\"\"\n",
    "        Implement the CrossEntropy loss function.\n",
    "\n",
    "        Args:\n",
    "            pred   : predicted labels from the neural network\n",
    "            target : true \"label\" labels\n",
    "        Returns:\n",
    "            loss : cross-entropy loss\n",
    "        \"\"\"\n",
    "        self.yhat = pred\n",
    "        self.y = target\n",
    "        m = self.y.shape[0]\n",
    "        # commpute loss\n",
    "        term1 = (np.multiply(self.y, np.log(self.yhat)))\n",
    "        term2 = (np.multiply((1-self.y),(np.log(1-self.yhat))))\n",
    "        loss = -1/m * np.sum(term1+term2)\n",
    "        self.output = loss\n",
    "        return np.squeeze(self.output) # convert array to a single value number\n",
    "    \n",
    "    def backward(self):\n",
    "        \"\"\"\n",
    "        Computes the gradinets of the loss_fn wrt to the predicted labels\n",
    "        \n",
    "        Returns:\n",
    "         da : derivative of loss_fn wrt to the predicted labels\n",
    "        \"\"\"\n",
    "        # derivative of loss_fn with respect to a [predicted labels]\n",
    "        da = - (np.divide(self.y, self.yhat) - np.divide(1 - self.y, 1 - self.yhat)) \n",
    "        return da"
   ]
  },
  {
   "cell_type": "markdown",
   "metadata": {},
   "source": [
    "## Model:\n",
    "\n",
    "**Let's go over the architecture that we are going to use for our neural netwok:**\n",
    "\n",
    "Our model is going to have 2 hidden layers and a output layer. The `hidden layers` are going to have `16 units` each followed by a `ReLU` activation layer and the `output layer` is going to have `1 unit` followed by a `Sigmoid` unit. The ouput layer is going to predict the `input` is either `0` or `1`. "
   ]
  },
  {
   "cell_type": "markdown",
   "metadata": {},
   "source": [
    "Let's assemble the layers required to construct out model:"
   ]
  },
  {
   "cell_type": "code",
   "execution_count": 16,
   "metadata": {},
   "outputs": [
    {
     "data": {
      "text/plain": [
       "((10610, 784), (10610, 1))"
      ]
     },
     "execution_count": 16,
     "metadata": {},
     "output_type": "execute_result"
    }
   ],
   "source": [
    "# these are our inputs and targets\n",
    "x_train.shape, y_train.shape"
   ]
  },
  {
   "cell_type": "code",
   "execution_count": 17,
   "metadata": {},
   "outputs": [
    {
     "data": {
      "text/plain": [
       "((784, 16), (1, 16), (16, 16), (1, 16), (16, 1), (1, 1))"
      ]
     },
     "execution_count": 17,
     "metadata": {},
     "output_type": "execute_result"
    }
   ],
   "source": [
    "nh1 = 16 # no. of units in the first hidden layer\n",
    "nh2 = 16 # no. of units in the 2nd hidden layer\n",
    "nh3 = 1 # no. of units in the output layer\n",
    "\n",
    "w1  = np.random.randn(x_train.shape[1], nh1) * 0.01\n",
    "b1  = np.zeros((1, nh1))\n",
    "\n",
    "w2  = np.random.randn(nh1, nh2) * 0.01\n",
    "b2  = np.zeros((1, nh2))\n",
    "\n",
    "w3  = np.random.randn(nh2, nh3)\n",
    "b3  = np.zeros((1, nh3))\n",
    "\n",
    "w1.shape, b1.shape, w2.shape, b2.shape, w3.shape, b3.shape"
   ]
  },
  {
   "cell_type": "code",
   "execution_count": 18,
   "metadata": {},
   "outputs": [],
   "source": [
    "# instaniating the layers needed to construct our model\n",
    "\n",
    "lin1 = Linear(w1,b1) # 1 hidden layer\n",
    "relu1 = RelU()\n",
    "lin2 = Linear(w2,b2) # 2nd hidden layer\n",
    "relu2 = RelU()\n",
    "lin3 = Linear(w3,b3) # output layer\n",
    "sigmoid = Sigmoid()\n",
    "\n",
    "loss_fn = CELoss() # loss_fn"
   ]
  },
  {
   "cell_type": "markdown",
   "metadata": {},
   "source": [
    "### Forward pass:"
   ]
  },
  {
   "cell_type": "code",
   "execution_count": 19,
   "metadata": {},
   "outputs": [
    {
     "name": "stdout",
     "output_type": "stream",
     "text": [
      "Loss: 0.6954586218304929\n"
     ]
    }
   ],
   "source": [
    "# forward pass\n",
    "z1 = lin1.forward(x_train)\n",
    "a1 = relu1.forward(z1)\n",
    "z2 = lin2.forward(a1)\n",
    "a2 = relu2.forward(z2)\n",
    "z3 = lin3.forward(a2)\n",
    "pred = sigmoid.forward(z3)\n",
    "\n",
    "# calculate loss\n",
    "loss = loss_fn.forward(pred, y_train)\n",
    "print(\"Loss:\", loss) # print out the loss"
   ]
  },
  {
   "cell_type": "code",
   "execution_count": 20,
   "metadata": {},
   "outputs": [
    {
     "name": "stdout",
     "output_type": "stream",
     "text": [
      "Predictions:  [[0.50221048]\n",
      " [0.5016568 ]\n",
      " [0.50445   ]\n",
      " ...\n",
      " [0.5006608 ]\n",
      " [0.49939964]\n",
      " [0.49894181]]\n"
     ]
    }
   ],
   "source": [
    "print(\"Predictions: \", pred)"
   ]
  },
  {
   "cell_type": "markdown",
   "metadata": {},
   "source": [
    "### Backward pass:"
   ]
  },
  {
   "cell_type": "code",
   "execution_count": 21,
   "metadata": {},
   "outputs": [],
   "source": [
    "# backward pass\n",
    "da3 = sigmoid.backward(loss_fn.backward())\n",
    "dz3, dw3, db3 = lin3.backward(da3)\n",
    "\n",
    "da2 = relu2.backward(dz3)\n",
    "dz2, dw2, db2 = lin2.backward(da2)\n",
    "\n",
    "da1 = relu1.backward(dz2)\n",
    "_, dw1, db1 = lin1.backward(da1)"
   ]
  },
  {
   "cell_type": "markdown",
   "metadata": {},
   "source": [
    "### Update parameters:"
   ]
  },
  {
   "cell_type": "code",
   "execution_count": 22,
   "metadata": {},
   "outputs": [],
   "source": [
    "# set learning rate\n",
    "learning_rate = 0.0002\n",
    "\n",
    "# update parameters \n",
    "lin1.w -= learning_rate * dw1\n",
    "lin2.w -= learning_rate * dw2\n",
    "lin3.w -= learning_rate * dw3\n",
    "\n",
    "lin1.b -= learning_rate * db1\n",
    "lin2.b -= learning_rate * db2\n",
    "lin3.b -= learning_rate * db3"
   ]
  },
  {
   "cell_type": "markdown",
   "metadata": {},
   "source": [
    "### Putting it all together:"
   ]
  },
  {
   "cell_type": "code",
   "execution_count": 48,
   "metadata": {},
   "outputs": [
    {
     "name": "stdout",
     "output_type": "stream",
     "text": [
      "(784, 16) (1, 16) (16, 16) (1, 16) (16, 1) (1, 1)\n"
     ]
    }
   ],
   "source": [
    "# Instantiate parameters\n",
    "\n",
    "nh1 = 16 # no. of units in the first hidden layer\n",
    "nh2 = 16 # no. of units in the 2nd hidden layer\n",
    "nh3 = 1 # no. of units in the output layer\n",
    "\n",
    "w1  = np.random.randn(x_train.shape[1], nh1) * 0.01\n",
    "b1  = np.zeros((1, nh1))\n",
    "\n",
    "w2  = np.random.randn(nh1, nh2) * 0.01\n",
    "b2  = np.zeros((1, nh2))\n",
    "\n",
    "w3  = np.random.randn(nh2, nh3)\n",
    "b3  = np.zeros((1, nh3))\n",
    "\n",
    "print(w1.shape, b1.shape, w2.shape, b2.shape, w3.shape, b3.shape)"
   ]
  },
  {
   "cell_type": "code",
   "execution_count": 49,
   "metadata": {},
   "outputs": [],
   "source": [
    "class Model:\n",
    "    def __init__(self, learning_rate):\n",
    "        \"\"\"\n",
    "        A simple neural network model\n",
    "        The `forward` method computes the forward propagation step of the model\n",
    "        The `backward` method computes the backward step propagation of the model\n",
    "        The `update_step` method updates the parameters of the model\n",
    "        \"\"\"\n",
    "        self.lin1    = Linear(w1,b1)\n",
    "        self.relu1   = RelU()\n",
    "        self.lin2    = Linear(w2,b2)\n",
    "        self.relu2   = RelU()\n",
    "        self.lin3    = Linear(w3,b3)\n",
    "        self.sigmoid = Sigmoid()\n",
    "        self.loss_fn = CELoss()\n",
    "        self.lr      = learning_rate\n",
    "        self.losses  = [] # stores the loss at each iteration\n",
    "\n",
    "\n",
    "    def forward(self, inp, calc_loss=True):\n",
    "        \"\"\"\n",
    "        Computs the forward step for out model\n",
    "        Returns the loss and the prediction of the model\n",
    "        \"\"\"\n",
    "        out  = self.relu1.forward(self.lin1.forward(inp))\n",
    "        out  = self.relu2.forward(self.lin2.forward(out))\n",
    "        pred = self.sigmoid.forward(self.lin3.forward(out))\n",
    "        \n",
    "        if calc_loss:\n",
    "            loss = self.loss_fn.forward(pred, y_train)\n",
    "            # appending the loss of the current iteration\n",
    "            self.losses.append(loss)\n",
    "            return loss, pred\n",
    "        else:\n",
    "            return pred\n",
    "\n",
    "\n",
    "    def backward(self):\n",
    "        \"\"\"\n",
    "        Computes the backward step\n",
    "        and return the gradients of the parameters with the loss\n",
    "        \"\"\"\n",
    "        da3 = self.sigmoid.backward(self.loss_fn.backward())\n",
    "        dz3, dw3, db3 = self.lin3.backward(da3)\n",
    "\n",
    "        da2 = self.relu2.backward(dz3)\n",
    "        dz2, dw2, db2 = self.lin2.backward(da2)\n",
    "\n",
    "        da1 = self.relu1.backward(dz2)\n",
    "        _, dw1, db1 = self.lin1.backward(da1)\n",
    "\n",
    "        self.dws = [dw1, dw2, dw3]\n",
    "        self.dbs = [db1, db2, db3]\n",
    "\n",
    "\n",
    "    def update_step(self):\n",
    "        \"\"\"\n",
    "        Performs the update step\n",
    "        \"\"\"\n",
    "        self.lin1.w -= self.lr * self.dws[0]\n",
    "        self.lin2.w -= self.lr * self.dws[1]\n",
    "        self.lin3.w -= self.lr * self.dws[2]\n",
    "\n",
    "        self.lin1.b -= self.lr * self.dbs[0]\n",
    "        self.lin2.b -= self.lr * self.dbs[1]\n",
    "        self.lin3.b -= self.lr * self.dbs[2]"
   ]
  },
  {
   "cell_type": "code",
   "execution_count": 50,
   "metadata": {},
   "outputs": [
    {
     "name": "stdout",
     "output_type": "stream",
     "text": [
      "Loss after interation 0 is 0.6935\n",
      "Loss after interation 1 is 0.6829\n",
      "Loss after interation 2 is 0.6675\n",
      "Loss after interation 3 is 0.6481\n",
      "Loss after interation 4 is 0.6228\n",
      "Loss after interation 5 is 0.5924\n",
      "Loss after interation 6 is 0.5488\n",
      "Loss after interation 7 is 0.5149\n",
      "Loss after interation 8 is 0.4527\n",
      "Loss after interation 9 is 0.3746\n",
      "Loss after interation 10 is 0.3095\n",
      "Loss after interation 11 is 0.2433\n",
      "Loss after interation 12 is 0.2016\n",
      "Loss after interation 13 is 0.1698\n",
      "Loss after interation 14 is 0.1448\n",
      "Loss after interation 15 is 0.1250\n",
      "Loss after interation 16 is 0.1091\n",
      "Loss after interation 17 is 0.0963\n",
      "Loss after interation 18 is 0.0859\n",
      "Loss after interation 19 is 0.0773\n",
      "Loss after interation 20 is 0.0702\n",
      "Loss after interation 21 is 0.0641\n",
      "Loss after interation 22 is 0.0590\n",
      "Loss after interation 23 is 0.0546\n",
      "Loss after interation 24 is 0.0509\n",
      "Loss after interation 25 is 0.0476\n",
      "Loss after interation 26 is 0.0447\n",
      "Loss after interation 27 is 0.0421\n",
      "Loss after interation 28 is 0.0399\n",
      "Loss after interation 29 is 0.0378\n",
      "Loss after interation 30 is 0.0360\n",
      "Loss after interation 31 is 0.0344\n",
      "Loss after interation 32 is 0.0329\n",
      "Loss after interation 33 is 0.0316\n",
      "Loss after interation 34 is 0.0304\n",
      "Loss after interation 35 is 0.0292\n",
      "Loss after interation 36 is 0.0282\n",
      "Loss after interation 37 is 0.0273\n",
      "Loss after interation 38 is 0.0264\n",
      "Loss after interation 39 is 0.0256\n",
      "Loss after interation 40 is 0.0248\n",
      "Loss after interation 41 is 0.0241\n",
      "Loss after interation 42 is 0.0234\n",
      "Loss after interation 43 is 0.0228\n",
      "Loss after interation 44 is 0.0222\n",
      "Loss after interation 45 is 0.0217\n",
      "Loss after interation 46 is 0.0212\n",
      "Loss after interation 47 is 0.0207\n",
      "Loss after interation 48 is 0.0202\n",
      "Loss after interation 49 is 0.0198\n"
     ]
    }
   ],
   "source": [
    "nn = Model(learning_rate=0.0005)\n",
    "epochs = 50 # no. of iterations to train\n",
    "\n",
    "for n in range(epochs):\n",
    "    loss, _ = nn.forward(x_train)\n",
    "    nn.backward()\n",
    "    nn.update_step()\n",
    "    print(f\"Loss after interation {n} is {loss:.4f}\")"
   ]
  },
  {
   "cell_type": "code",
   "execution_count": 51,
   "metadata": {},
   "outputs": [
    {
     "data": {
      "image/png": "[encoded data removed]",
      "text/plain": [
       "<Figure size 432x288 with 1 Axes>"
      ]
     },
     "metadata": {
      "needs_background": "light"
     },
     "output_type": "display_data"
    }
   ],
   "source": [
    "#collapse\n",
    "plt.plot(nn.losses, color=\"salmon\")\n",
    "plt.title(\"Loss per Iteration\")\n",
    "plt.xlabel(\"Iteration\")\n",
    "plt.ylabel(\"Loss\");"
   ]
  },
  {
   "cell_type": "markdown",
   "metadata": {},
   "source": [
    "## Computing accuracy of our model"
   ]
  },
  {
   "cell_type": "markdown",
   "metadata": {},
   "source": [
    "**Let's check our model performance by computing the `accuracy` on the `validation` dataset**"
   ]
  },
  {
   "cell_type": "code",
   "execution_count": 54,
   "metadata": {},
   "outputs": [],
   "source": [
    "def comp_accuracy(preds, targs):\n",
    "    \"\"\"\n",
    "    Fn that computes the accuracy between the predicted values and the targets\n",
    "    \"\"\"\n",
    "    m = len(targs)\n",
    "    p = np.zeros_like(preds)\n",
    "    # convert probas to 0/1 predictions\n",
    "    for i in range(len(preds)):\n",
    "        if preds[i] > 0.5:\n",
    "            p[i] = 1\n",
    "        else:\n",
    "            p[i] = 0\n",
    "    print(\"Accuracy: \"  + str(np.sum((p == targs)/m)))    "
   ]
  },
  {
   "cell_type": "code",
   "execution_count": 55,
   "metadata": {},
   "outputs": [
    {
     "name": "stdout",
     "output_type": "stream",
     "text": [
      "Accuracy: 0.9965936739659367\n"
     ]
    }
   ],
   "source": [
    "# generate predicitons from out model\n",
    "preds = nn.forward(x_valid, calc_loss=False)\n",
    "# compute accuracy\n",
    "comp_accuracy(preds, y_valid)"
   ]
  },
  {
   "cell_type": "markdown",
   "metadata": {},
   "source": [
    "> Note: Nice our model achieves a `accuracy` of **`0.9965936739659367`** on the validation set !"
   ]
  },
  {
   "cell_type": "markdown",
   "metadata": {},
   "source": [
    "## Getting predictions from our model"
   ]
  },
  {
   "cell_type": "code",
   "execution_count": 66,
   "metadata": {},
   "outputs": [
    {
     "name": "stdout",
     "output_type": "stream",
     "text": [
      "Predicted output: 0\n"
     ]
    },
    {
     "data": {
      "image/png": "[encoded data removed]",
      "text/plain": [
       "<Figure size 432x288 with 1 Axes>"
      ]
     },
     "metadata": {
      "needs_background": "light"
     },
     "output_type": "display_data"
    }
   ],
   "source": [
    "#collapse\n",
    "test_inp = x_valid[0]\n",
    "plt.title(\"Input: \")\n",
    "plt.imshow(test_inp.reshape(28,28), cmap=\"binary\");\n",
    "\n",
    "loss, pred = nn.forward(test_inp)\n",
    "predicted_val = int(pred > 0.5)\n",
    "print(f\"Predicted output: {predicted_val}\")"
   ]
  },
  {
   "cell_type": "code",
   "execution_count": 67,
   "metadata": {},
   "outputs": [
    {
     "name": "stdout",
     "output_type": "stream",
     "text": [
      "Predicted output: 1\n"
     ]
    },
    {
     "data": {
      "image/png": "[encoded data removed]",
      "text/plain": [
       "<Figure size 432x288 with 1 Axes>"
      ]
     },
     "metadata": {
      "needs_background": "light"
     },
     "output_type": "display_data"
    }
   ],
   "source": [
    "#collapse\n",
    "test_inp = x_valid[2000]\n",
    "plt.title(\"Input: \")\n",
    "plt.imshow(test_inp.reshape(28,28), cmap=\"binary\");\n",
    "\n",
    "loss, pred = nn.forward(test_inp)\n",
    "predicted_val = int(pred > 0.5)\n",
    "print(f\"Predicted output: {predicted_val}\")"
   ]
  },
  {
   "cell_type": "markdown",
   "metadata": {},
   "source": [
    "## Summary:"
   ]
  },
  {
   "cell_type": "markdown",
   "metadata": {},
   "source": [
    "- We were able to create a model that can identify classify handwritten digits as either 1's or 0's\n",
    "- We successfully computed the `forward` and `backward` progation of a `neural network` from scratch."
   ]
  },
  {
   "cell_type": "markdown",
   "metadata": {},
   "source": [
    "**Thanks for reading !**"
   ]
  },
  {
   "cell_type": "code",
   "execution_count": null,
   "metadata": {},
   "outputs": [],
   "source": []
  }
 ],
 "metadata": {
  "kernelspec": {
   "display_name": "pytorch",
   "language": "python",
   "name": "pytorch"
  },
  "language_info": {
   "codemirror_mode": {
    "name": "ipython",
    "version": 3
   },
   "file_extension": ".py",
   "mimetype": "text/x-python",
   "name": "python",
   "nbconvert_exporter": "python",
   "pygments_lexer": "ipython3",
   "version": "3.7.7"
  }
 },
 "nbformat": 4,
 "nbformat_minor": 4
}
