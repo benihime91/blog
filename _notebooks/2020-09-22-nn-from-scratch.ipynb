{
 "cells": [
  {
   "cell_type": "markdown",
   "metadata": {},
   "source": [
    "# Creating a NeuralNetwork from scratch\n",
    "> A tutorial to code a neural network from scratch in python using numpy.\n",
    "\n",
    "- toc: false\n",
    "- badges: true\n",
    "- comments: true\n",
    "- categories: [deeplearning python3.x numpy]\n",
    "- image: images/backprop.jpeg"
   ]
  },
  {
   "cell_type": "markdown",
   "metadata": {},
   "source": [
    "I will assume that you all know what a artificial neural network is and have a little bit of knowledge about `forward and backward propagation`. Just having a simple idea is enough.\n",
    "\n",
    "If you do not know what the above terms are or would like to brush up on the topics , I would suggest this amazing [youtube playlist by 3Blue1Brown](https://www.youtube.com/watch?v=aircAruvnKk&list=PLZHQObOWTQDNU6R1_67000Dx_ZCJB-3pi).\n",
    "\n",
    "> youtube: https://www.youtube.com/watch?v=aircAruvnKk&list=PLZHQObOWTQDNU6R1_67000Dx_ZCJB-3pi"
   ]
  },
  {
   "cell_type": "markdown",
   "metadata": {},
   "source": [
    "## Setting up Imports:"
   ]
  },
  {
   "cell_type": "code",
   "execution_count": 35,
   "metadata": {},
   "outputs": [],
   "source": [
    "import numpy as np\n",
    "import gzip\n",
    "import pickle\n",
    "import pandas as pd\n",
    "import matplotlib.pyplot as plt\n",
    "import warnings\n",
    "\n",
    "\n",
    "np.random.seed(123)\n",
    "%matplotlib inline\n",
    "warnings.filterwarnings(\"ignore\")"
   ]
  },
  {
   "cell_type": "markdown",
   "metadata": {},
   "source": [
    "## Preparing the data"
   ]
  },
  {
   "cell_type": "markdown",
   "metadata": {},
   "source": [
    "For this blog post, we'll use one of the most famous datasets in computer vision, [MNIST](https://en.wikipedia.org/wiki/MNIST_database). MNIST contains images of handwritten digits, collected by the National Institute of Standards and Technology and collated into a machine learning dataset by Yann Lecun and his colleagues. Lecun used MNIST in 1998 in [Lenet-5](http://yann.lecun.com/exdb/lenet/), the first computer system to demonstrate practically useful recognition of handwritten digit sequences. This was one of the most important breakthroughs in the history of AI."
   ]
  },
  {
   "cell_type": "markdown",
   "metadata": {},
   "source": [
    "Run the code below to download the `MNIST` dataset. The dataset will be downloaded to the path `../../Datasets/` or you can modify the path as you like."
   ]
  },
  {
   "cell_type": "code",
   "execution_count": null,
   "metadata": {},
   "outputs": [],
   "source": [
    "!wget -P \"../../Datasets/\" http://deeplearning.net/data/mnist/mnist.pkl.gz"
   ]
  },
  {
   "cell_type": "code",
   "execution_count": 2,
   "metadata": {},
   "outputs": [],
   "source": [
    "def get_data(path):\n",
    "    \"\"\"\n",
    "    Fn to unzip the MNIST data and return\n",
    "    the data as numpy arrays\n",
    "    \"\"\"\n",
    "    with gzip.open(path, 'rb') as f:\n",
    "        ((x_train, y_train), (x_valid, y_valid), _) = pickle.load(f, encoding='latin-1')\n",
    "    return map(np.array, (x_train,y_train,x_valid,y_valid))"
   ]
  },
  {
   "cell_type": "code",
   "execution_count": 58,
   "metadata": {},
   "outputs": [],
   "source": [
    "x_train,y_train,x_valid,y_valid = get_data(path= \"../../Datasets/mnist.pkl.gz\")"
   ]
  },
  {
   "cell_type": "code",
   "execution_count": 59,
   "metadata": {},
   "outputs": [
    {
     "name": "stdout",
     "output_type": "stream",
     "text": [
      "Shape of x_train: (50000, 784)\n",
      "Total number of examples: 50000\n",
      "Number of pixel values per image: 784\n"
     ]
    }
   ],
   "source": [
    "tots,feats = x_train.shape\n",
    "print(\"Shape of x_train:\",x_train.shape)\n",
    "print(\"Total number of examples:\", tots)\n",
    "print(\"Number of pixel values per image:\", feats)"
   ]
  },
  {
   "cell_type": "markdown",
   "metadata": {},
   "source": [
    "To make our life a bit easier we are going to take only the examples that contain a 1 or 0."
   ]
  },
  {
   "cell_type": "code",
   "execution_count": 60,
   "metadata": {},
   "outputs": [],
   "source": [
    "zero_mask = [y_train==0] # grab all the index values where 0 is present\n",
    "one_mask = [y_train==1] # grad all the index valus where 1 is present\n",
    "\n",
    "# grab all the 1's and 0's and make training set\n",
    "x_train = np.vstack((x_train[zero_mask], x_train[one_mask]))\n",
    "y_train = np.reshape(y_train, (-1,1))\n",
    "y_train = np.squeeze(np.vstack((y_train[zero_mask], y_train[one_mask])))"
   ]
  },
  {
   "cell_type": "code",
   "execution_count": 61,
   "metadata": {},
   "outputs": [
    {
     "data": {
      "text/plain": [
       "((10610, 784), (10610,))"
      ]
     },
     "execution_count": 61,
     "metadata": {},
     "output_type": "execute_result"
    }
   ],
   "source": [
    "x_train.shape, y_train.shape"
   ]
  },
  {
   "cell_type": "markdown",
   "metadata": {},
   "source": [
    "Hence, now our training set has 10610 examples"
   ]
  },
  {
   "cell_type": "code",
   "execution_count": 64,
   "metadata": {},
   "outputs": [],
   "source": [
    "# similarly let's convert out validation set\n",
    "zero_mask = [y_valid==0] # grab all the index values where 0 is present\n",
    "one_mask = [y_valid==1] # grad all the index valus where 1 is present\n",
    "\n",
    "# grab all the 1's and 0's and make training set\n",
    "x_valid = np.vstack((x_valid[zero_mask], x_valid[one_mask]))\n",
    "y_valid = np.reshape(y_valid, (-1,1))\n",
    "y_valid = np.squeeze(np.vstack((y_valid[zero_mask], y_valid[one_mask])))"
   ]
  },
  {
   "cell_type": "code",
   "execution_count": 65,
   "metadata": {},
   "outputs": [
    {
     "data": {
      "text/plain": [
       "((2055, 784), (2055,))"
      ]
     },
     "execution_count": 65,
     "metadata": {},
     "output_type": "execute_result"
    }
   ],
   "source": [
    "x_valid.shape, y_valid.shape"
   ]
  },
  {
   "cell_type": "markdown",
   "metadata": {},
   "source": [
    "Hence, now our training set has 2055 examples"
   ]
  },
  {
   "cell_type": "markdown",
   "metadata": {},
   "source": [
    "Let's view one image from our dataset:"
   ]
  },
  {
   "cell_type": "code",
   "execution_count": 69,
   "metadata": {},
   "outputs": [
    {
     "data": {
      "image/png": "[encoded data removed]",
      "text/plain": [
       "<Figure size 432x288 with 1 Axes>"
      ]
     },
     "metadata": {
      "needs_background": "light"
     },
     "output_type": "display_data"
    }
   ],
   "source": [
    "plt.imshow(x_train[50].reshape(28,28), cmap=\"binary\");"
   ]
  },
  {
   "cell_type": "code",
   "execution_count": 74,
   "metadata": {},
   "outputs": [
    {
     "data": {
      "image/png": "[encoded data removed]",
      "text/plain": [
       "<Figure size 432x288 with 1 Axes>"
      ]
     },
     "metadata": {
      "needs_background": "light"
     },
     "output_type": "display_data"
    }
   ],
   "source": [
    "plt.imshow(x_train[5000].reshape(28,28), cmap=\"binary\");"
   ]
  },
  {
   "cell_type": "markdown",
   "metadata": {},
   "source": [
    "## Basic Model Architecture"
   ]
  },
  {
   "cell_type": "markdown",
   "metadata": {},
   "source": [
    "For this task we are going to use a very basic model architecture this 2 linear layers and a output layer with 10 outputs."
   ]
  },
  {
   "cell_type": "code",
   "execution_count": 77,
   "metadata": {},
   "outputs": [],
   "source": [
    "#hide_input\n",
    "import graphviz\n",
    "def gv(s): return graphviz.Source('digraph G{ rankdir=\"LR\"' + s + '; }')"
   ]
  },
  {
   "cell_type": "code",
   "execution_count": 233,
   "metadata": {},
   "outputs": [
    {
     "data": {
      "image/svg+xml": [
       "<?xml version=\"1.0\" encoding=\"UTF-8\" standalone=\"no\"?>\n",
       "<!DOCTYPE svg PUBLIC \"-//W3C//DTD SVG 1.1//EN\"\n",
       " \"http://www.w3.org/Graphics/SVG/1.1/DTD/svg11.dtd\">\n",
       "<!-- Generated by graphviz version 2.44.0 (20200408.0750)\n",
       " -->\n",
       "<!-- Title: G Pages: 1 -->\n",
       "<svg width=\"698pt\" height=\"206pt\"\n",
       " viewBox=\"0.00 0.00 697.97 206.00\" xmlns=\"http://www.w3.org/2000/svg\" xmlns:xlink=\"http://www.w3.org/1999/xlink\">\n",
       "<g id=\"graph0\" class=\"graph\" transform=\"scale(1 1) rotate(0) translate(4 202)\">\n",
       "<title>G</title>\n",
       "<polygon fill=\"white\" stroke=\"transparent\" points=\"-4,4 -4,-202 693.97,-202 693.97,4 -4,4\"/>\n",
       "<!-- X -->\n",
       "<g id=\"node1\" class=\"node\">\n",
       "<title>X</title>\n",
       "<ellipse fill=\"none\" stroke=\"black\" cx=\"27\" cy=\"-180\" rx=\"27\" ry=\"18\"/>\n",
       "<text text-anchor=\"middle\" x=\"27\" y=\"-176.3\" font-family=\"Times,serif\" font-size=\"14.00\">X</text>\n",
       "</g>\n",
       "<!-- linear1 -->\n",
       "<g id=\"node2\" class=\"node\">\n",
       "<title>linear1</title>\n",
       "<ellipse fill=\"none\" stroke=\"black\" cx=\"125.1\" cy=\"-126\" rx=\"35.19\" ry=\"18\"/>\n",
       "<text text-anchor=\"middle\" x=\"125.1\" y=\"-122.3\" font-family=\"Times,serif\" font-size=\"14.00\">linear1</text>\n",
       "</g>\n",
       "<!-- X&#45;&gt;linear1 -->\n",
       "<g id=\"edge1\" class=\"edge\">\n",
       "<title>X&#45;&gt;linear1</title>\n",
       "<path fill=\"none\" stroke=\"black\" d=\"M48.38,-168.55C60.94,-161.49 77.34,-152.28 91.66,-144.23\"/>\n",
       "<polygon fill=\"black\" stroke=\"black\" points=\"93.7,-147.1 100.7,-139.15 90.27,-140.99 93.7,-147.1\"/>\n",
       "</g>\n",
       "<!-- relu -->\n",
       "<g id=\"node3\" class=\"node\">\n",
       "<title>relu</title>\n",
       "<ellipse fill=\"none\" stroke=\"black\" cx=\"223.19\" cy=\"-126\" rx=\"27\" ry=\"18\"/>\n",
       "<text text-anchor=\"middle\" x=\"223.19\" y=\"-122.3\" font-family=\"Times,serif\" font-size=\"14.00\">relu</text>\n",
       "</g>\n",
       "<!-- linear1&#45;&gt;relu -->\n",
       "<g id=\"edge2\" class=\"edge\">\n",
       "<title>linear1&#45;&gt;relu</title>\n",
       "<path fill=\"none\" stroke=\"black\" d=\"M160.25,-126C168.52,-126 177.39,-126 185.76,-126\"/>\n",
       "<polygon fill=\"black\" stroke=\"black\" points=\"186.01,-129.5 196.01,-126 186.01,-122.5 186.01,-129.5\"/>\n",
       "</g>\n",
       "<!-- linear2 -->\n",
       "<g id=\"node4\" class=\"node\">\n",
       "<title>linear2</title>\n",
       "<ellipse fill=\"none\" stroke=\"black\" cx=\"321.29\" cy=\"-72\" rx=\"35.19\" ry=\"18\"/>\n",
       "<text text-anchor=\"middle\" x=\"321.29\" y=\"-68.3\" font-family=\"Times,serif\" font-size=\"14.00\">linear2</text>\n",
       "</g>\n",
       "<!-- relu&#45;&gt;linear2 -->\n",
       "<g id=\"edge3\" class=\"edge\">\n",
       "<title>relu&#45;&gt;linear2</title>\n",
       "<path fill=\"none\" stroke=\"black\" d=\"M244.57,-114.55C257.14,-107.49 273.53,-98.28 287.85,-90.23\"/>\n",
       "<polygon fill=\"black\" stroke=\"black\" points=\"289.89,-93.1 296.9,-85.15 286.47,-86.99 289.89,-93.1\"/>\n",
       "</g>\n",
       "<!-- sigmoid -->\n",
       "<g id=\"node5\" class=\"node\">\n",
       "<title>sigmoid</title>\n",
       "<ellipse fill=\"none\" stroke=\"black\" cx=\"432.03\" cy=\"-72\" rx=\"39.79\" ry=\"18\"/>\n",
       "<text text-anchor=\"middle\" x=\"432.03\" y=\"-68.3\" font-family=\"Times,serif\" font-size=\"14.00\">sigmoid</text>\n",
       "</g>\n",
       "<!-- linear2&#45;&gt;sigmoid -->\n",
       "<g id=\"edge4\" class=\"edge\">\n",
       "<title>linear2&#45;&gt;sigmoid</title>\n",
       "<path fill=\"none\" stroke=\"black\" d=\"M356.4,-72C364.55,-72 373.4,-72 382.07,-72\"/>\n",
       "<polygon fill=\"black\" stroke=\"black\" points=\"382.11,-75.5 392.11,-72 382.11,-68.5 382.11,-75.5\"/>\n",
       "</g>\n",
       "<!-- prediction -->\n",
       "<g id=\"node6\" class=\"node\">\n",
       "<title>prediction</title>\n",
       "<ellipse fill=\"none\" stroke=\"black\" cx=\"553.83\" cy=\"-72\" rx=\"46.29\" ry=\"18\"/>\n",
       "<text text-anchor=\"middle\" x=\"553.83\" y=\"-68.3\" font-family=\"Times,serif\" font-size=\"14.00\">prediction</text>\n",
       "</g>\n",
       "<!-- sigmoid&#45;&gt;prediction -->\n",
       "<g id=\"edge5\" class=\"edge\">\n",
       "<title>sigmoid&#45;&gt;prediction</title>\n",
       "<path fill=\"none\" stroke=\"black\" d=\"M471.93,-72C480.08,-72 488.82,-72 497.44,-72\"/>\n",
       "<polygon fill=\"black\" stroke=\"black\" points=\"497.46,-75.5 507.46,-72 497.46,-68.5 497.46,-75.5\"/>\n",
       "</g>\n",
       "<!-- loss -->\n",
       "<g id=\"node7\" class=\"node\">\n",
       "<title>loss</title>\n",
       "<ellipse fill=\"none\" stroke=\"black\" cx=\"662.97\" cy=\"-45\" rx=\"27\" ry=\"18\"/>\n",
       "<text text-anchor=\"middle\" x=\"662.97\" y=\"-41.3\" font-family=\"Times,serif\" font-size=\"14.00\">loss</text>\n",
       "</g>\n",
       "<!-- prediction&#45;&gt;loss -->\n",
       "<g id=\"edge6\" class=\"edge\">\n",
       "<title>prediction&#45;&gt;loss</title>\n",
       "<path fill=\"none\" stroke=\"black\" d=\"M592.9,-62.4C604.23,-59.55 616.57,-56.44 627.65,-53.65\"/>\n",
       "<polygon fill=\"black\" stroke=\"black\" points=\"628.56,-57.03 637.4,-51.19 626.85,-50.24 628.56,-57.03\"/>\n",
       "</g>\n",
       "<!-- W1 -->\n",
       "<g id=\"node8\" class=\"node\">\n",
       "<title>W1</title>\n",
       "<ellipse fill=\"none\" stroke=\"black\" cx=\"27\" cy=\"-126\" rx=\"27\" ry=\"18\"/>\n",
       "<text text-anchor=\"middle\" x=\"27\" y=\"-122.3\" font-family=\"Times,serif\" font-size=\"14.00\">W1</text>\n",
       "</g>\n",
       "<!-- W1&#45;&gt;linear1 -->\n",
       "<g id=\"edge7\" class=\"edge\">\n",
       "<title>W1&#45;&gt;linear1</title>\n",
       "<path fill=\"none\" stroke=\"black\" d=\"M54.01,-126C61.92,-126 70.84,-126 79.61,-126\"/>\n",
       "<polygon fill=\"black\" stroke=\"black\" points=\"79.76,-129.5 89.76,-126 79.76,-122.5 79.76,-129.5\"/>\n",
       "</g>\n",
       "<!-- B1 -->\n",
       "<g id=\"node9\" class=\"node\">\n",
       "<title>B1</title>\n",
       "<ellipse fill=\"none\" stroke=\"black\" cx=\"27\" cy=\"-72\" rx=\"27\" ry=\"18\"/>\n",
       "<text text-anchor=\"middle\" x=\"27\" y=\"-68.3\" font-family=\"Times,serif\" font-size=\"14.00\">B1</text>\n",
       "</g>\n",
       "<!-- B1&#45;&gt;linear1 -->\n",
       "<g id=\"edge8\" class=\"edge\">\n",
       "<title>B1&#45;&gt;linear1</title>\n",
       "<path fill=\"none\" stroke=\"black\" d=\"M48.38,-83.45C60.94,-90.51 77.34,-99.72 91.66,-107.77\"/>\n",
       "<polygon fill=\"black\" stroke=\"black\" points=\"90.27,-111.01 100.7,-112.85 93.7,-104.9 90.27,-111.01\"/>\n",
       "</g>\n",
       "<!-- W2 -->\n",
       "<g id=\"node10\" class=\"node\">\n",
       "<title>W2</title>\n",
       "<ellipse fill=\"none\" stroke=\"black\" cx=\"223.19\" cy=\"-72\" rx=\"27\" ry=\"18\"/>\n",
       "<text text-anchor=\"middle\" x=\"223.19\" y=\"-68.3\" font-family=\"Times,serif\" font-size=\"14.00\">W2</text>\n",
       "</g>\n",
       "<!-- W2&#45;&gt;linear2 -->\n",
       "<g id=\"edge9\" class=\"edge\">\n",
       "<title>W2&#45;&gt;linear2</title>\n",
       "<path fill=\"none\" stroke=\"black\" d=\"M250.2,-72C258.11,-72 267.04,-72 275.81,-72\"/>\n",
       "<polygon fill=\"black\" stroke=\"black\" points=\"275.96,-75.5 285.96,-72 275.96,-68.5 275.96,-75.5\"/>\n",
       "</g>\n",
       "<!-- B2 -->\n",
       "<g id=\"node11\" class=\"node\">\n",
       "<title>B2</title>\n",
       "<ellipse fill=\"none\" stroke=\"black\" cx=\"223.19\" cy=\"-18\" rx=\"27\" ry=\"18\"/>\n",
       "<text text-anchor=\"middle\" x=\"223.19\" y=\"-14.3\" font-family=\"Times,serif\" font-size=\"14.00\">B2</text>\n",
       "</g>\n",
       "<!-- B2&#45;&gt;linear2 -->\n",
       "<g id=\"edge10\" class=\"edge\">\n",
       "<title>B2&#45;&gt;linear2</title>\n",
       "<path fill=\"none\" stroke=\"black\" d=\"M244.57,-29.45C257.14,-36.51 273.53,-45.72 287.85,-53.77\"/>\n",
       "<polygon fill=\"black\" stroke=\"black\" points=\"286.47,-57.01 296.9,-58.85 289.89,-50.9 286.47,-57.01\"/>\n",
       "</g>\n",
       "<!-- target -->\n",
       "<g id=\"node12\" class=\"node\">\n",
       "<title>target</title>\n",
       "<ellipse fill=\"none\" stroke=\"black\" cx=\"553.83\" cy=\"-18\" rx=\"30.59\" ry=\"18\"/>\n",
       "<text text-anchor=\"middle\" x=\"553.83\" y=\"-14.3\" font-family=\"Times,serif\" font-size=\"14.00\">target</text>\n",
       "</g>\n",
       "<!-- target&#45;&gt;loss -->\n",
       "<g id=\"edge11\" class=\"edge\">\n",
       "<title>target&#45;&gt;loss</title>\n",
       "<path fill=\"none\" stroke=\"black\" d=\"M582.14,-24.88C595.94,-28.36 612.84,-32.62 627.52,-36.32\"/>\n",
       "<polygon fill=\"black\" stroke=\"black\" points=\"626.72,-39.73 637.27,-38.78 628.43,-32.94 626.72,-39.73\"/>\n",
       "</g>\n",
       "</g>\n",
       "</svg>\n"
      ],
      "text/plain": [
       "<graphviz.files.Source at 0x7fa541d716d0>"
      ]
     },
     "execution_count": 233,
     "metadata": {},
     "output_type": "execute_result"
    }
   ],
   "source": [
    "#hide_input\n",
    "gv('''\n",
    "X->linear1->relu->linear2->sigmoid->prediction->loss\n",
    "W1->linear1\n",
    "B1->linear1\n",
    "W2->linear2\n",
    "B2->linear2\n",
    "target->loss\n",
    "''')"
   ]
  },
  {
   "cell_type": "markdown",
   "metadata": {},
   "source": [
    "## Let's take a deep dive into what this network means:"
   ]
  },
  {
   "cell_type": "markdown",
   "metadata": {},
   "source": [
    "Let's take at look at all the individual components of this network:\n",
    "- **Linear:**\n",
    "  The linear layer computes the following :      \n",
    "   ```\n",
    "   out = matmul(input,W1) + B1\n",
    "   ```\n",
    "   \n",
    "- **ReLU:** \n",
    "  The relu computes the following:\n",
    "  ```\n",
    "  out = max(0, input)\n",
    "  ```\n",
    "- **Sigmoid:** \n",
    "  The sigmoid computes the following:\n",
    "  ```\n",
    "  out = 1/(1 + e.pow(input))\n",
    "  ```\n",
    "  \n",
    "- **Loss:** \n",
    "  For the loss we are going to use the CrossEntropy Loss which is defined by the follwoing equation:\n",
    "  $$loss= -\\frac{1}{m} \\sum\\limits_{i = 1}^{m} (y^{(i)}\\log\\left(yhat^{(i)}\\right) + (1-y^{(i)})\\log\\left(1-yhat^{(i)}\\right)) $$"
   ]
  },
  {
   "cell_type": "markdown",
   "metadata": {},
   "source": [
    "**Now that we have our model architecture, let's create the different parts needed to assemble the model:**\n",
    "- linear layer\n",
    "- relu activation\n",
    "- sigmoid activation\n",
    "- loss"
   ]
  },
  {
   "cell_type": "markdown",
   "metadata": {},
   "source": [
    "The `Backward` pass of out model would look something like this:"
   ]
  },
  {
   "cell_type": "code",
   "execution_count": 234,
   "metadata": {},
   "outputs": [
    {
     "data": {
      "image/svg+xml": [
       "<?xml version=\"1.0\" encoding=\"UTF-8\" standalone=\"no\"?>\n",
       "<!DOCTYPE svg PUBLIC \"-//W3C//DTD SVG 1.1//EN\"\n",
       " \"http://www.w3.org/Graphics/SVG/1.1/DTD/svg11.dtd\">\n",
       "<!-- Generated by graphviz version 2.44.0 (20200408.0750)\n",
       " -->\n",
       "<!-- Title: G Pages: 1 -->\n",
       "<svg width=\"698pt\" height=\"179pt\"\n",
       " viewBox=\"0.00 0.00 697.97 179.00\" xmlns=\"http://www.w3.org/2000/svg\" xmlns:xlink=\"http://www.w3.org/1999/xlink\">\n",
       "<g id=\"graph0\" class=\"graph\" transform=\"scale(1 1) rotate(0) translate(4 175)\">\n",
       "<title>G</title>\n",
       "<polygon fill=\"white\" stroke=\"transparent\" points=\"-4,4 -4,-175 693.97,-175 693.97,4 -4,4\"/>\n",
       "<!-- prediction -->\n",
       "<g id=\"node1\" class=\"node\">\n",
       "<title>prediction</title>\n",
       "<ellipse fill=\"none\" stroke=\"black\" cx=\"46.15\" cy=\"-99\" rx=\"46.29\" ry=\"18\"/>\n",
       "<text text-anchor=\"middle\" x=\"46.15\" y=\"-95.3\" font-family=\"Times,serif\" font-size=\"14.00\">prediction</text>\n",
       "</g>\n",
       "<!-- loss -->\n",
       "<g id=\"node2\" class=\"node\">\n",
       "<title>loss</title>\n",
       "<ellipse fill=\"none\" stroke=\"black\" cx=\"155.29\" cy=\"-72\" rx=\"27\" ry=\"18\"/>\n",
       "<text text-anchor=\"middle\" x=\"155.29\" y=\"-68.3\" font-family=\"Times,serif\" font-size=\"14.00\">loss</text>\n",
       "</g>\n",
       "<!-- prediction&#45;&gt;loss -->\n",
       "<g id=\"edge1\" class=\"edge\">\n",
       "<title>prediction&#45;&gt;loss</title>\n",
       "<path fill=\"none\" stroke=\"black\" d=\"M85.22,-89.4C96.55,-86.55 108.89,-83.44 119.97,-80.65\"/>\n",
       "<polygon fill=\"black\" stroke=\"black\" points=\"120.88,-84.03 129.72,-78.19 119.16,-77.24 120.88,-84.03\"/>\n",
       "</g>\n",
       "<!-- sigmoid -->\n",
       "<g id=\"node3\" class=\"node\">\n",
       "<title>sigmoid</title>\n",
       "<ellipse fill=\"none\" stroke=\"black\" cx=\"257.94\" cy=\"-72\" rx=\"39.79\" ry=\"18\"/>\n",
       "<text text-anchor=\"middle\" x=\"257.94\" y=\"-68.3\" font-family=\"Times,serif\" font-size=\"14.00\">sigmoid</text>\n",
       "</g>\n",
       "<!-- loss&#45;&gt;sigmoid -->\n",
       "<g id=\"edge2\" class=\"edge\">\n",
       "<title>loss&#45;&gt;sigmoid</title>\n",
       "<path fill=\"none\" stroke=\"black\" d=\"M182.47,-72C190.26,-72 199.06,-72 207.81,-72\"/>\n",
       "<polygon fill=\"black\" stroke=\"black\" points=\"207.99,-75.5 217.99,-72 207.99,-68.5 207.99,-75.5\"/>\n",
       "</g>\n",
       "<!-- linear2 -->\n",
       "<g id=\"node4\" class=\"node\">\n",
       "<title>linear2</title>\n",
       "<ellipse fill=\"none\" stroke=\"black\" cx=\"368.68\" cy=\"-72\" rx=\"35.19\" ry=\"18\"/>\n",
       "<text text-anchor=\"middle\" x=\"368.68\" y=\"-68.3\" font-family=\"Times,serif\" font-size=\"14.00\">linear2</text>\n",
       "</g>\n",
       "<!-- sigmoid&#45;&gt;linear2 -->\n",
       "<g id=\"edge3\" class=\"edge\">\n",
       "<title>sigmoid&#45;&gt;linear2</title>\n",
       "<path fill=\"none\" stroke=\"black\" d=\"M297.89,-72C306.12,-72 314.87,-72 323.28,-72\"/>\n",
       "<polygon fill=\"black\" stroke=\"black\" points=\"323.33,-75.5 333.33,-72 323.33,-68.5 323.33,-75.5\"/>\n",
       "</g>\n",
       "<!-- relu -->\n",
       "<g id=\"node5\" class=\"node\">\n",
       "<title>relu</title>\n",
       "<ellipse fill=\"none\" stroke=\"black\" cx=\"466.78\" cy=\"-126\" rx=\"27\" ry=\"18\"/>\n",
       "<text text-anchor=\"middle\" x=\"466.78\" y=\"-122.3\" font-family=\"Times,serif\" font-size=\"14.00\">relu</text>\n",
       "</g>\n",
       "<!-- linear2&#45;&gt;relu -->\n",
       "<g id=\"edge4\" class=\"edge\">\n",
       "<title>linear2&#45;&gt;relu</title>\n",
       "<path fill=\"none\" stroke=\"black\" d=\"M392.94,-85.07C406.16,-92.5 422.82,-101.86 436.87,-109.75\"/>\n",
       "<polygon fill=\"black\" stroke=\"black\" points=\"435.23,-112.85 445.66,-114.69 438.66,-106.74 435.23,-112.85\"/>\n",
       "</g>\n",
       "<!-- W2 -->\n",
       "<g id=\"node7\" class=\"node\">\n",
       "<title>W2</title>\n",
       "<ellipse fill=\"none\" stroke=\"black\" cx=\"466.78\" cy=\"-72\" rx=\"27\" ry=\"18\"/>\n",
       "<text text-anchor=\"middle\" x=\"466.78\" y=\"-68.3\" font-family=\"Times,serif\" font-size=\"14.00\">W2</text>\n",
       "</g>\n",
       "<!-- linear2&#45;&gt;W2 -->\n",
       "<g id=\"edge6\" class=\"edge\">\n",
       "<title>linear2&#45;&gt;W2</title>\n",
       "<path fill=\"none\" stroke=\"black\" d=\"M403.83,-72C412.1,-72 420.97,-72 429.34,-72\"/>\n",
       "<polygon fill=\"black\" stroke=\"black\" points=\"429.59,-75.5 439.59,-72 429.59,-68.5 429.59,-75.5\"/>\n",
       "</g>\n",
       "<!-- B2 -->\n",
       "<g id=\"node8\" class=\"node\">\n",
       "<title>B2</title>\n",
       "<ellipse fill=\"none\" stroke=\"black\" cx=\"466.78\" cy=\"-18\" rx=\"27\" ry=\"18\"/>\n",
       "<text text-anchor=\"middle\" x=\"466.78\" y=\"-14.3\" font-family=\"Times,serif\" font-size=\"14.00\">B2</text>\n",
       "</g>\n",
       "<!-- linear2&#45;&gt;B2 -->\n",
       "<g id=\"edge7\" class=\"edge\">\n",
       "<title>linear2&#45;&gt;B2</title>\n",
       "<path fill=\"none\" stroke=\"black\" d=\"M392.94,-58.93C406.16,-51.5 422.82,-42.14 436.87,-34.25\"/>\n",
       "<polygon fill=\"black\" stroke=\"black\" points=\"438.66,-37.26 445.66,-29.31 435.23,-31.15 438.66,-37.26\"/>\n",
       "</g>\n",
       "<!-- linear1 -->\n",
       "<g id=\"node6\" class=\"node\">\n",
       "<title>linear1</title>\n",
       "<ellipse fill=\"none\" stroke=\"black\" cx=\"564.88\" cy=\"-126\" rx=\"35.19\" ry=\"18\"/>\n",
       "<text text-anchor=\"middle\" x=\"564.88\" y=\"-122.3\" font-family=\"Times,serif\" font-size=\"14.00\">linear1</text>\n",
       "</g>\n",
       "<!-- relu&#45;&gt;linear1 -->\n",
       "<g id=\"edge5\" class=\"edge\">\n",
       "<title>relu&#45;&gt;linear1</title>\n",
       "<path fill=\"none\" stroke=\"black\" d=\"M493.78,-126C501.69,-126 510.62,-126 519.39,-126\"/>\n",
       "<polygon fill=\"black\" stroke=\"black\" points=\"519.54,-129.5 529.54,-126 519.54,-122.5 519.54,-129.5\"/>\n",
       "</g>\n",
       "<!-- W1 -->\n",
       "<g id=\"node9\" class=\"node\">\n",
       "<title>W1</title>\n",
       "<ellipse fill=\"none\" stroke=\"black\" cx=\"662.97\" cy=\"-153\" rx=\"27\" ry=\"18\"/>\n",
       "<text text-anchor=\"middle\" x=\"662.97\" y=\"-149.3\" font-family=\"Times,serif\" font-size=\"14.00\">W1</text>\n",
       "</g>\n",
       "<!-- linear1&#45;&gt;W1 -->\n",
       "<g id=\"edge8\" class=\"edge\">\n",
       "<title>linear1&#45;&gt;W1</title>\n",
       "<path fill=\"none\" stroke=\"black\" d=\"M596.02,-134.47C606.2,-137.33 617.62,-140.54 628.07,-143.48\"/>\n",
       "<polygon fill=\"black\" stroke=\"black\" points=\"627.14,-146.85 637.72,-146.19 629.04,-140.11 627.14,-146.85\"/>\n",
       "</g>\n",
       "<!-- B1 -->\n",
       "<g id=\"node10\" class=\"node\">\n",
       "<title>B1</title>\n",
       "<ellipse fill=\"none\" stroke=\"black\" cx=\"662.97\" cy=\"-99\" rx=\"27\" ry=\"18\"/>\n",
       "<text text-anchor=\"middle\" x=\"662.97\" y=\"-95.3\" font-family=\"Times,serif\" font-size=\"14.00\">B1</text>\n",
       "</g>\n",
       "<!-- linear1&#45;&gt;B1 -->\n",
       "<g id=\"edge9\" class=\"edge\">\n",
       "<title>linear1&#45;&gt;B1</title>\n",
       "<path fill=\"none\" stroke=\"black\" d=\"M596.02,-117.53C606.2,-114.67 617.62,-111.46 628.07,-108.52\"/>\n",
       "<polygon fill=\"black\" stroke=\"black\" points=\"629.04,-111.89 637.72,-105.81 627.14,-105.15 629.04,-111.89\"/>\n",
       "</g>\n",
       "<!-- target -->\n",
       "<g id=\"node11\" class=\"node\">\n",
       "<title>target</title>\n",
       "<ellipse fill=\"none\" stroke=\"black\" cx=\"46.15\" cy=\"-45\" rx=\"30.59\" ry=\"18\"/>\n",
       "<text text-anchor=\"middle\" x=\"46.15\" y=\"-41.3\" font-family=\"Times,serif\" font-size=\"14.00\">target</text>\n",
       "</g>\n",
       "<!-- target&#45;&gt;loss -->\n",
       "<g id=\"edge10\" class=\"edge\">\n",
       "<title>target&#45;&gt;loss</title>\n",
       "<path fill=\"none\" stroke=\"black\" d=\"M74.46,-51.88C88.26,-55.36 105.16,-59.62 119.84,-63.32\"/>\n",
       "<polygon fill=\"black\" stroke=\"black\" points=\"119.04,-66.73 129.59,-65.78 120.75,-59.94 119.04,-66.73\"/>\n",
       "</g>\n",
       "</g>\n",
       "</svg>\n"
      ],
      "text/plain": [
       "<graphviz.files.Source at 0x7fa541eafbd0>"
      ]
     },
     "execution_count": 234,
     "metadata": {},
     "output_type": "execute_result"
    }
   ],
   "source": [
    "#hide_input\n",
    "gv('''\n",
    "prediction->loss\n",
    "loss->sigmoid\n",
    "sigmoid->linear2\n",
    "linear2->relu\n",
    "relu->linear1\n",
    "linear2->W2\n",
    "linear2->B2\n",
    "linear1->W1\n",
    "linear1->B1\n",
    "target->loss\n",
    "''')"
   ]
  },
  {
   "cell_type": "markdown",
   "metadata": {},
   "source": [
    "**Let's first try to make some sense of what is happening in the backward and forward pass of our model:**"
   ]
  },
  {
   "cell_type": "markdown",
   "metadata": {},
   "source": [
    "> **On paper our forward pass would look like this is pseudo-code**:\n",
    "    \n",
    "```python\n",
    "inputs = x # original inputs\n",
    "targets = y # original targets\n",
    "\n",
    "z1 = inputs @ w2 + b2\n",
    "a1 = relu(z1)\n",
    "\n",
    "z2 = a1 @ w2 + b2\n",
    "a2 = sigmoid(z2) # this is our model prediction\n",
    "\n",
    "loss = loss_fn(a2, targets)\n",
    "```"
   ]
  },
  {
   "cell_type": "markdown",
   "metadata": {},
   "source": [
    "> **Consequently our backward pass in psuedo code would be something like this**:\n",
    "\n",
    "```python\n",
    "\n",
    "# let us assume that the `grad()` computes the gradeients of to given inputs\n",
    "\n",
    "def grad(input1, input2):\n",
    "    \"\"\"\n",
    "    computes the gradient of input1 wrt to input2\n",
    "    \"\"\"\n",
    "    g = ... # the gradient of input1 wrt to input2, we will worry about this afterwards\n",
    "    return g\n",
    "\n",
    "# -------------------- #\n",
    "# Backward Pass :\n",
    "# --------------------- #\n",
    "\n",
    "dL  = grad(loss, a2) # this is the gradient of the loss wrt output of the previous layer\n",
    "da2 = grad(a2, z2) # this is the gradient of a2 wrt z2\n",
    "\n",
    "# this is the gradient of the weights w2 wrt loss\n",
    "# this is used to update the parameters\n",
    "dw2 = grad(w2, loss)\n",
    "dw2 = grad(loss, a2) * grad(a2, z2) * grad(z2, w2) # using chain rule\n",
    "dw2 = dL * da2 * grad(z2, w2)\n",
    "dw2 = grad_of_prev_layers * grad(z2, w2)\n",
    "\n",
    "# this is the gradient of the bias b2 wrt loss\n",
    "db2 = grad(b2, loss)\n",
    "db2 = grad(loss, a2) * grad(a2, z2) * grad(z2, b2) # using chain rule\n",
    "db2 = dL * da2 * grad(z2, b2)\n",
    "db2 = grad_of_prev_layers * grad(z2, b2)\n",
    "\n",
    "\n",
    "dz2 = grad(z2, a1) # this is the gradient of z2 wrt a1\n",
    "da1 = grad(a1, z1) # this the gradient of a1 wrt to z1\n",
    "\n",
    "# this is the gradient of the weights w1 wrt loss\n",
    "dw1 = grad(w1, loss)\n",
    "dw1 = grad(loss, a2) * grad(a2, z2) * grad(z2, a1) * grad(a1, z1) * grad(z1, w1) # using chain rule\n",
    "dw1 = dL * da2 * dz2 * da1 * grad(z1, w1)\n",
    "dw1 = grad_of_prev_layers * grad(z1, w1)\n",
    "\n",
    "# this is the gradient of the bias b1 wrt loss\n",
    "db1 = grad(b1, loss)\n",
    "db1 = grad(loss, a2) * grad(a2, z2) * grad(z2, a1) * grad(a1, z1) * grad(z1, b1)  # using chain rule\n",
    "db1 = dL * da2 * dz2 * da1 * grad(z1, b1)\n",
    "db1 = grad_of_prev_layers * grad(z1, b1)\n",
    "    \n",
    "\n",
    "# -------------------- #\n",
    "# Update parameters :\n",
    "# --------------------- #\n",
    "# since we now have all the required gradients we can now perform the update step\n",
    "w1 -= learning_rate * dw1\n",
    "b1 -= learning_rate * db1\n",
    "\n",
    "w2 -= learning_rate * dw2\n",
    "b2 -= learning_rate * db2\n",
    "```"
   ]
  },
  {
   "cell_type": "markdown",
   "metadata": {},
   "source": [
    "## The Linear Layer"
   ]
  },
  {
   "cell_type": "markdown",
   "metadata": {},
   "source": [
    "### Forward Propagation\n",
    "\n",
    "In this step the outputs are calculated."
   ]
  },
  {
   "cell_type": "code",
   "execution_count": 80,
   "metadata": {},
   "outputs": [
    {
     "data": {
      "image/svg+xml": [
       "<?xml version=\"1.0\" encoding=\"UTF-8\" standalone=\"no\"?>\n",
       "<!DOCTYPE svg PUBLIC \"-//W3C//DTD SVG 1.1//EN\"\n",
       " \"http://www.w3.org/Graphics/SVG/1.1/DTD/svg11.dtd\">\n",
       "<!-- Generated by graphviz version 2.44.0 (20200408.0750)\n",
       " -->\n",
       "<!-- Title: G Pages: 1 -->\n",
       "<svg width=\"386pt\" height=\"125pt\"\n",
       " viewBox=\"0.00 0.00 385.78 125.00\" xmlns=\"http://www.w3.org/2000/svg\" xmlns:xlink=\"http://www.w3.org/1999/xlink\">\n",
       "<g id=\"graph0\" class=\"graph\" transform=\"scale(1 1) rotate(0) translate(4 121)\">\n",
       "<title>G</title>\n",
       "<polygon fill=\"white\" stroke=\"transparent\" points=\"-4,4 -4,-121 381.78,-121 381.78,4 -4,4\"/>\n",
       "<!-- Input -->\n",
       "<g id=\"node1\" class=\"node\">\n",
       "<title>Input</title>\n",
       "<ellipse fill=\"none\" stroke=\"black\" cx=\"36.4\" cy=\"-99\" rx=\"29.5\" ry=\"18\"/>\n",
       "<text text-anchor=\"middle\" x=\"36.4\" y=\"-95.3\" font-family=\"Times,serif\" font-size=\"14.00\">Input</text>\n",
       "</g>\n",
       "<!-- matmul -->\n",
       "<g id=\"node2\" class=\"node\">\n",
       "<title>matmul</title>\n",
       "<ellipse fill=\"none\" stroke=\"black\" cx=\"147.14\" cy=\"-72\" rx=\"38.19\" ry=\"18\"/>\n",
       "<text text-anchor=\"middle\" x=\"147.14\" y=\"-68.3\" font-family=\"Times,serif\" font-size=\"14.00\">matmul</text>\n",
       "</g>\n",
       "<!-- Input&#45;&gt;matmul -->\n",
       "<g id=\"edge1\" class=\"edge\">\n",
       "<title>Input&#45;&gt;matmul</title>\n",
       "<path fill=\"none\" stroke=\"black\" d=\"M63.72,-92.46C75.44,-89.55 89.56,-86.05 102.77,-82.77\"/>\n",
       "<polygon fill=\"black\" stroke=\"black\" points=\"103.78,-86.12 112.64,-80.32 102.09,-79.33 103.78,-86.12\"/>\n",
       "</g>\n",
       "<!-- add -->\n",
       "<g id=\"node3\" class=\"node\">\n",
       "<title>add</title>\n",
       "<ellipse fill=\"none\" stroke=\"black\" cx=\"248.49\" cy=\"-45\" rx=\"27\" ry=\"18\"/>\n",
       "<text text-anchor=\"middle\" x=\"248.49\" y=\"-41.3\" font-family=\"Times,serif\" font-size=\"14.00\">add</text>\n",
       "</g>\n",
       "<!-- matmul&#45;&gt;add -->\n",
       "<g id=\"edge2\" class=\"edge\">\n",
       "<title>matmul&#45;&gt;add</title>\n",
       "<path fill=\"none\" stroke=\"black\" d=\"M180.67,-63.16C191.13,-60.32 202.75,-57.16 213.33,-54.28\"/>\n",
       "<polygon fill=\"black\" stroke=\"black\" points=\"214.35,-57.63 223.08,-51.63 212.51,-50.88 214.35,-57.63\"/>\n",
       "</g>\n",
       "<!-- output -->\n",
       "<g id=\"node4\" class=\"node\">\n",
       "<title>output</title>\n",
       "<ellipse fill=\"none\" stroke=\"black\" cx=\"344.63\" cy=\"-45\" rx=\"33.29\" ry=\"18\"/>\n",
       "<text text-anchor=\"middle\" x=\"344.63\" y=\"-41.3\" font-family=\"Times,serif\" font-size=\"14.00\">output</text>\n",
       "</g>\n",
       "<!-- add&#45;&gt;output -->\n",
       "<g id=\"edge3\" class=\"edge\">\n",
       "<title>add&#45;&gt;output</title>\n",
       "<path fill=\"none\" stroke=\"black\" d=\"M275.71,-45C283.61,-45 292.49,-45 301.16,-45\"/>\n",
       "<polygon fill=\"black\" stroke=\"black\" points=\"301.17,-48.5 311.17,-45 301.17,-41.5 301.17,-48.5\"/>\n",
       "</g>\n",
       "<!-- Weight -->\n",
       "<g id=\"node5\" class=\"node\">\n",
       "<title>Weight</title>\n",
       "<ellipse fill=\"none\" stroke=\"black\" cx=\"36.4\" cy=\"-45\" rx=\"36.29\" ry=\"18\"/>\n",
       "<text text-anchor=\"middle\" x=\"36.4\" y=\"-41.3\" font-family=\"Times,serif\" font-size=\"14.00\">Weight</text>\n",
       "</g>\n",
       "<!-- Weight&#45;&gt;matmul -->\n",
       "<g id=\"edge4\" class=\"edge\">\n",
       "<title>Weight&#45;&gt;matmul</title>\n",
       "<path fill=\"none\" stroke=\"black\" d=\"M69.14,-52.88C79.61,-55.48 91.43,-58.42 102.61,-61.19\"/>\n",
       "<polygon fill=\"black\" stroke=\"black\" points=\"102.1,-64.67 112.65,-63.68 103.79,-57.88 102.1,-64.67\"/>\n",
       "</g>\n",
       "<!-- Bias -->\n",
       "<g id=\"node6\" class=\"node\">\n",
       "<title>Bias</title>\n",
       "<ellipse fill=\"none\" stroke=\"black\" cx=\"147.14\" cy=\"-18\" rx=\"27\" ry=\"18\"/>\n",
       "<text text-anchor=\"middle\" x=\"147.14\" y=\"-14.3\" font-family=\"Times,serif\" font-size=\"14.00\">Bias</text>\n",
       "</g>\n",
       "<!-- Bias&#45;&gt;add -->\n",
       "<g id=\"edge5\" class=\"edge\">\n",
       "<title>Bias&#45;&gt;add</title>\n",
       "<path fill=\"none\" stroke=\"black\" d=\"M172.44,-24.6C184.71,-27.94 199.8,-32.04 213.22,-35.69\"/>\n",
       "<polygon fill=\"black\" stroke=\"black\" points=\"212.52,-39.12 223.09,-38.37 214.36,-32.37 212.52,-39.12\"/>\n",
       "</g>\n",
       "</g>\n",
       "</svg>\n"
      ],
      "text/plain": [
       "<graphviz.files.Source at 0x7fa54ce49890>"
      ]
     },
     "execution_count": 80,
     "metadata": {},
     "output_type": "execute_result"
    }
   ],
   "source": [
    "#hide_input\n",
    "gv('''\n",
    "Input->matmul->add->output\n",
    "Weight->matmul\n",
    "Bias->add\n",
    "''')"
   ]
  },
  {
   "cell_type": "markdown",
   "metadata": {},
   "source": [
    "### Backward Propagation:\n",
    "\n",
    "In this step the gradients of the output wrt to the inputs, weights and bias are calculated."
   ]
  },
  {
   "cell_type": "code",
   "execution_count": 81,
   "metadata": {},
   "outputs": [
    {
     "data": {
      "image/svg+xml": [
       "<?xml version=\"1.0\" encoding=\"UTF-8\" standalone=\"no\"?>\n",
       "<!DOCTYPE svg PUBLIC \"-//W3C//DTD SVG 1.1//EN\"\n",
       " \"http://www.w3.org/Graphics/SVG/1.1/DTD/svg11.dtd\">\n",
       "<!-- Generated by graphviz version 2.44.0 (20200408.0750)\n",
       " -->\n",
       "<!-- Title: G Pages: 1 -->\n",
       "<svg width=\"437pt\" height=\"125pt\"\n",
       " viewBox=\"0.00 0.00 436.78 125.00\" xmlns=\"http://www.w3.org/2000/svg\" xmlns:xlink=\"http://www.w3.org/1999/xlink\">\n",
       "<g id=\"graph0\" class=\"graph\" transform=\"scale(1 1) rotate(0) translate(4 121)\">\n",
       "<title>G</title>\n",
       "<polygon fill=\"white\" stroke=\"transparent\" points=\"-4,4 -4,-121 432.78,-121 432.78,4 -4,4\"/>\n",
       "<!-- output -->\n",
       "<g id=\"node1\" class=\"node\">\n",
       "<title>output</title>\n",
       "<ellipse fill=\"none\" stroke=\"black\" cx=\"33.15\" cy=\"-33\" rx=\"33.29\" ry=\"18\"/>\n",
       "<text text-anchor=\"middle\" x=\"33.15\" y=\"-29.3\" font-family=\"Times,serif\" font-size=\"14.00\">output</text>\n",
       "</g>\n",
       "<!-- add -->\n",
       "<g id=\"node2\" class=\"node\">\n",
       "<title>add</title>\n",
       "<ellipse fill=\"none\" stroke=\"black\" cx=\"130.29\" cy=\"-33\" rx=\"27\" ry=\"18\"/>\n",
       "<text text-anchor=\"middle\" x=\"130.29\" y=\"-29.3\" font-family=\"Times,serif\" font-size=\"14.00\">add</text>\n",
       "</g>\n",
       "<!-- output&#45;&gt;add -->\n",
       "<g id=\"edge1\" class=\"edge\">\n",
       "<title>output&#45;&gt;add</title>\n",
       "<path fill=\"none\" stroke=\"black\" d=\"M66.36,-33C74.87,-33 84.11,-33 92.83,-33\"/>\n",
       "<polygon fill=\"black\" stroke=\"black\" points=\"93.11,-36.5 103.11,-33 93.11,-29.5 93.11,-36.5\"/>\n",
       "</g>\n",
       "<!-- matmul -->\n",
       "<g id=\"node3\" class=\"node\">\n",
       "<title>matmul</title>\n",
       "<ellipse fill=\"none\" stroke=\"black\" cx=\"256.64\" cy=\"-72\" rx=\"38.19\" ry=\"18\"/>\n",
       "<text text-anchor=\"middle\" x=\"256.64\" y=\"-68.3\" font-family=\"Times,serif\" font-size=\"14.00\">matmul</text>\n",
       "</g>\n",
       "<!-- add&#45;&gt;matmul -->\n",
       "<g id=\"edge2\" class=\"edge\">\n",
       "<title>add&#45;&gt;matmul</title>\n",
       "<path fill=\"none\" stroke=\"black\" d=\"M154.98,-40.43C171.73,-45.68 194.64,-52.87 214.37,-59.06\"/>\n",
       "<polygon fill=\"black\" stroke=\"black\" points=\"213.47,-62.44 224.06,-62.09 215.56,-55.76 213.47,-62.44\"/>\n",
       "</g>\n",
       "<!-- Bias -->\n",
       "<g id=\"node6\" class=\"node\">\n",
       "<title>Bias</title>\n",
       "<ellipse fill=\"none\" stroke=\"black\" cx=\"256.64\" cy=\"-18\" rx=\"27\" ry=\"18\"/>\n",
       "<text text-anchor=\"middle\" x=\"256.64\" y=\"-14.3\" font-family=\"Times,serif\" font-size=\"14.00\">Bias</text>\n",
       "</g>\n",
       "<!-- add&#45;&gt;Bias -->\n",
       "<g id=\"edge5\" class=\"edge\">\n",
       "<title>add&#45;&gt;Bias</title>\n",
       "<path fill=\"none\" stroke=\"black\" d=\"M157.06,-29.89C175.23,-27.7 199.81,-24.73 219.88,-22.31\"/>\n",
       "<polygon fill=\"black\" stroke=\"black\" points=\"220.4,-25.78 229.91,-21.1 219.56,-18.83 220.4,-25.78\"/>\n",
       "<text text-anchor=\"middle\" x=\"187.79\" y=\"-31.8\" font-family=\"Times,serif\" font-size=\"14.00\">grad</text>\n",
       "</g>\n",
       "<!-- Input -->\n",
       "<g id=\"node4\" class=\"node\">\n",
       "<title>Input</title>\n",
       "<ellipse fill=\"none\" stroke=\"black\" cx=\"392.38\" cy=\"-99\" rx=\"29.5\" ry=\"18\"/>\n",
       "<text text-anchor=\"middle\" x=\"392.38\" y=\"-95.3\" font-family=\"Times,serif\" font-size=\"14.00\">Input</text>\n",
       "</g>\n",
       "<!-- matmul&#45;&gt;Input -->\n",
       "<g id=\"edge3\" class=\"edge\">\n",
       "<title>matmul&#45;&gt;Input</title>\n",
       "<path fill=\"none\" stroke=\"black\" d=\"M292.08,-78.95C311.11,-82.79 334.76,-87.57 354.2,-91.49\"/>\n",
       "<polygon fill=\"black\" stroke=\"black\" points=\"353.73,-94.97 364.23,-93.52 355.12,-88.11 353.73,-94.97\"/>\n",
       "<text text-anchor=\"middle\" x=\"325.49\" y=\"-90.8\" font-family=\"Times,serif\" font-size=\"14.00\">grad</text>\n",
       "</g>\n",
       "<!-- Weight -->\n",
       "<g id=\"node5\" class=\"node\">\n",
       "<title>Weight</title>\n",
       "<ellipse fill=\"none\" stroke=\"black\" cx=\"392.38\" cy=\"-45\" rx=\"36.29\" ry=\"18\"/>\n",
       "<text text-anchor=\"middle\" x=\"392.38\" y=\"-41.3\" font-family=\"Times,serif\" font-size=\"14.00\">Weight</text>\n",
       "</g>\n",
       "<!-- matmul&#45;&gt;Weight -->\n",
       "<g id=\"edge4\" class=\"edge\">\n",
       "<title>matmul&#45;&gt;Weight</title>\n",
       "<path fill=\"none\" stroke=\"black\" d=\"M292.08,-65.05C309.32,-61.57 330.36,-57.32 348.62,-53.63\"/>\n",
       "<polygon fill=\"black\" stroke=\"black\" points=\"349.33,-57.06 358.44,-51.65 347.95,-50.2 349.33,-57.06\"/>\n",
       "<text text-anchor=\"middle\" x=\"325.49\" y=\"-63.8\" font-family=\"Times,serif\" font-size=\"14.00\">grad</text>\n",
       "</g>\n",
       "</g>\n",
       "</svg>\n"
      ],
      "text/plain": [
       "<graphviz.files.Source at 0x7fa54ce49e10>"
      ]
     },
     "execution_count": 81,
     "metadata": {},
     "output_type": "execute_result"
    }
   ],
   "source": [
    "#hide_input\n",
    "gv('''\n",
    "output->add->matmul\n",
    "matmul->Input[label=grad]\n",
    "matmul->Weight[label=grad]\n",
    "add->Bias[label=grad]\n",
    "''')"
   ]
  },
  {
   "cell_type": "markdown",
   "metadata": {},
   "source": [
    "### Coding up the Linar Layer:"
   ]
  },
  {
   "cell_type": "code",
   "execution_count": 213,
   "metadata": {},
   "outputs": [],
   "source": [
    "# forward function\n",
    "def linear_forward(inp, w, b):\n",
    "    \"\"\"\n",
    "    Implement the linear part of a layer's forward propagation.\n",
    "\n",
    "    Args:\n",
    "    inp : activations from previous layer (or input data): (size of previous layer, number of examples)\n",
    "    W : weights matrix: numpy array of shape (size of current layer, size of previous layer)\n",
    "    b : bias vector, numpy array of shape (size of the current layer, 1)\n",
    "\n",
    "    Returns:\n",
    "    Z : the input of the activation function, also called pre-activation parameter \n",
    "    cache : a python tuple containing \"A\", \"W\" and \"b\" ; stored for computing the backward pass efficiently\n",
    "    \"\"\"\n",
    "    z = x @ w + b\n",
    "    cache = (inp, w, b)\n",
    "    return z, cache"
   ]
  },
  {
   "cell_type": "code",
   "execution_count": null,
   "metadata": {},
   "outputs": [],
   "source": [
    "# backward function\n",
    "def linear_backward(grad, cache):\n",
    "    \"\"\"\n",
    "    Implement the linear portion of backward propagation for a single layer (layer l)\n",
    "\n",
    "    Arguments:\n",
    "    grad -- Gradient of the cost with respect to the linear output (of current layer l)\n",
    "    cache -- tuple of values (A_prev, W, b) coming from the forward propagation in the current layer\n",
    "\n",
    "    Returns:\n",
    "    dA_prev -- Gradient of cost wrt to the activation of the previous or the input of the current of layer\n",
    "    dW -- Gradient of the cost with respect to W\n",
    "    db -- Gradient of the cost with respect to b\n",
    "    \"\"\"\n",
    "    A_prev, W, b = cache\n",
    "    m = A_prev.shape[1]\n",
    "    \n",
    "#     dW = 1/m * np.dot(dZ, cache[0].T)\n",
    "#     db = 1/m * np.sum(dZ, axis=1, keepdims=True)\n",
    "    # gradient of cost wrt to the activation of the previous or the input of the current of layer\n",
    "    dA_prev = grad @ W.T\n",
    "    dW = 1/m * np.dot(dZ, cache[0].T)\n",
    "    db = 1/m * np.sum(grad, axis=1, keepdims=True)\n",
    "    \n",
    "    return dA_prev, dW, db\n",
    "    "
   ]
  }
 ],
 "metadata": {
  "kernelspec": {
   "display_name": "pytorch",
   "language": "python",
   "name": "pytorch"
  },
  "language_info": {
   "codemirror_mode": {
    "name": "ipython",
    "version": 3
   },
   "file_extension": ".py",
   "mimetype": "text/x-python",
   "name": "python",
   "nbconvert_exporter": "python",
   "pygments_lexer": "ipython3",
   "version": "3.7.7"
  }
 },
 "nbformat": 4,
 "nbformat_minor": 4
}
